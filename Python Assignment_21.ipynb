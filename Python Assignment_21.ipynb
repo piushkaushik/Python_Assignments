{
 "cells": [
  {
   "cell_type": "markdown",
   "id": "cc986550",
   "metadata": {},
   "source": [
    "# 1. Add the current date to the text file today.txt as a string."
   ]
  },
  {
   "cell_type": "markdown",
   "id": "d3f2df43",
   "metadata": {},
   "source": [
    "**Ans:**"
   ]
  },
  {
   "cell_type": "code",
   "execution_count": 7,
   "id": "d1679edc",
   "metadata": {},
   "outputs": [],
   "source": [
    "from datetime import date\n",
    "\n",
    "# Get the current date as a string in 'YYYY-MM-DD' format\n",
    "\n",
    "current_date = date.today().strftime('%d-%m-%Y')\n",
    "\n",
    "# Write the date to the file\n",
    "\n",
    "with open('today.txt', 'a') as file:\n",
    "    file.write(current_date + '\\n')"
   ]
  },
  {
   "cell_type": "markdown",
   "id": "ce2455b6",
   "metadata": {},
   "source": [
    "# 2. Read the text file today.txt into the string today_string"
   ]
  },
  {
   "cell_type": "markdown",
   "id": "a772c1f5",
   "metadata": {},
   "source": [
    "**Ans:**"
   ]
  },
  {
   "cell_type": "code",
   "execution_count": 11,
   "id": "2469e6f5",
   "metadata": {},
   "outputs": [],
   "source": [
    "with open('today.txt', 'r') as file:\n",
    "    today_string = file.read()"
   ]
  },
  {
   "cell_type": "markdown",
   "id": "dbe9237a",
   "metadata": {},
   "source": [
    "# 3. Parse the date from today_string."
   ]
  },
  {
   "cell_type": "markdown",
   "id": "77a93233",
   "metadata": {},
   "source": [
    "**Ans:**"
   ]
  },
  {
   "cell_type": "code",
   "execution_count": 20,
   "id": "fdd78640",
   "metadata": {},
   "outputs": [
    {
     "name": "stdout",
     "output_type": "stream",
     "text": [
      "2023-09-18\n"
     ]
    }
   ],
   "source": [
    "# Assuming today_string contains both date and time\n",
    "\n",
    "date_str = today_string.split()[0]  # Split by space and take the first part\n",
    "\n",
    "# Parse the date\n",
    "date_obj = datetime.strptime(date_str, '%Y-%m-%d')\n",
    "\n",
    "# Now, date_obj contains the date as a datetime object\n",
    "print(date_obj.date())\n"
   ]
  },
  {
   "cell_type": "markdown",
   "id": "317e6ee3",
   "metadata": {},
   "source": [
    "# 4. List the files in your current directory"
   ]
  },
  {
   "cell_type": "markdown",
   "id": "fba20081",
   "metadata": {},
   "source": [
    "**Ans:**"
   ]
  },
  {
   "cell_type": "code",
   "execution_count": 22,
   "id": "fafd4af2",
   "metadata": {},
   "outputs": [],
   "source": [
    "import os\n",
    "\n",
    "# Get the current directory\n",
    "current_directory = os.getcwd()\n",
    "\n",
    "# List all files and directories in the current directory\n",
    "files_and_directories = os.listdir(current_directory)\n",
    "\n",
    "# Filter out only the files\n",
    "files = [f for f in files_and_directories if os.path.isfile(f)]\n",
    "\n",
    "# Print the list of files\n",
    "#for file in files:\n",
    "    #print(file)\n"
   ]
  },
  {
   "cell_type": "markdown",
   "id": "64a04b55",
   "metadata": {},
   "source": [
    "# 5. Create a list of all of the files in your parent directory (minimum five files should be available)."
   ]
  },
  {
   "cell_type": "markdown",
   "id": "072a0e48",
   "metadata": {},
   "source": [
    "**Ans:**"
   ]
  },
  {
   "cell_type": "code",
   "execution_count": 28,
   "id": "39765364",
   "metadata": {},
   "outputs": [],
   "source": [
    "\n",
    "# Get the current directory\n",
    "current_directory = os.getcwd()\n",
    "\n",
    "# Get the parent directory\n",
    "parent_directory = os.path.dirname(current_directory)\n",
    "\n",
    "# List all files in the parent directory\n",
    "files = [f for f in os.listdir(parent_directory) if os.path.isfile(os.path.join(parent_directory, f))]\n",
    "\n",
    "# Print the list of files\n",
    "#for file in files:\n",
    "    #print(file)\n"
   ]
  },
  {
   "cell_type": "markdown",
   "id": "8caa034a",
   "metadata": {},
   "source": [
    "# 6. Use multiprocessing to create three separate processes. Make each one wait a random number of seconds between one and five, print the current time, and then exit."
   ]
  },
  {
   "cell_type": "markdown",
   "id": "7d49c914",
   "metadata": {},
   "source": [
    "**Ans:**"
   ]
  },
  {
   "cell_type": "code",
   "execution_count": 32,
   "id": "7a2003b5",
   "metadata": {},
   "outputs": [],
   "source": [
    "import multiprocessing\n",
    "import time\n",
    "import random\n",
    "from datetime import datetime\n",
    "\n",
    "# Define a function for each process\n",
    "def worker_function(process_name):\n",
    "    sleep_time = random.randint(1, 5)  # Generate a random sleep time between 1 and 5 seconds\n",
    "    time.sleep(sleep_time)  # Sleep for the generated time\n",
    "    current_time = datetime.now().strftime(\"%Y-%m-%d %H:%M:%S\")\n",
    "    print(f\"{process_name} finished at {current_time}\")\n"
   ]
  },
  {
   "cell_type": "code",
   "execution_count": 35,
   "id": "95e4a2f6",
   "metadata": {},
   "outputs": [
    {
     "name": "stdout",
     "output_type": "stream",
     "text": [
      "All processes have finished.\n"
     ]
    }
   ],
   "source": [
    "if __name__ == \"__main__\":\n",
    "    # Create three separate processes\n",
    "    processes = []\n",
    "\n",
    "    for i in range(3):\n",
    "        process_name = f\"Process-{i+1}\"\n",
    "        process = multiprocessing.Process(target=worker_function, args=(process_name,))\n",
    "        processes.append(process)\n",
    "        process.start()\n",
    "\n",
    "    # Wait for all processes to finish\n",
    "    for process in processes:\n",
    "        process.join()\n",
    "\n",
    "    print(\"All processes have finished.\")\n"
   ]
  },
  {
   "cell_type": "markdown",
   "id": "7e1e29d4",
   "metadata": {},
   "source": [
    "# 7. Create a date object of your day of birth."
   ]
  },
  {
   "cell_type": "markdown",
   "id": "5ede5650",
   "metadata": {},
   "source": [
    "**Ans:**"
   ]
  },
  {
   "cell_type": "code",
   "execution_count": 38,
   "id": "b4ec6ebd",
   "metadata": {},
   "outputs": [
    {
     "name": "stdout",
     "output_type": "stream",
     "text": [
      "1992-12-01\n"
     ]
    }
   ],
   "source": [
    "from datetime import datetime\n",
    "\n",
    "year = 1992\n",
    "month = 12\n",
    "day = 1\n",
    "\n",
    "# Create a date object \n",
    "birthdate = datetime(year, month, day).date()\n",
    "\n",
    "# Print the date object\n",
    "print(birthdate)\n"
   ]
  },
  {
   "cell_type": "markdown",
   "id": "b413895c",
   "metadata": {},
   "source": [
    "# 8. What day of the week was your day of birth?"
   ]
  },
  {
   "cell_type": "markdown",
   "id": "d0811ab7",
   "metadata": {},
   "source": [
    "**Ans:**"
   ]
  },
  {
   "cell_type": "code",
   "execution_count": 44,
   "id": "5d8dce73",
   "metadata": {},
   "outputs": [
    {
     "name": "stdout",
     "output_type": "stream",
     "text": [
      "My day of birth was on a Tuesday\n"
     ]
    }
   ],
   "source": [
    "from datetime import datetime\n",
    "\n",
    "\n",
    "year = 1992\n",
    "month = 12\n",
    "day = 1\n",
    "\n",
    "# Create a date object for your birthdate\n",
    "birthdate = datetime(year, month, day).date()\n",
    "\n",
    "# Get the day of the week\n",
    "day_of_week = birthdate.strftime(\"%A\")\n",
    "\n",
    "# Print the day of the week\n",
    "print(\"My day of birth was on a\", day_of_week)\n"
   ]
  },
  {
   "cell_type": "markdown",
   "id": "2cbad5fc",
   "metadata": {},
   "source": [
    "# 9. When will you be (or when were you) 10,000 days old?"
   ]
  },
  {
   "cell_type": "markdown",
   "id": "a12f325b",
   "metadata": {},
   "source": [
    "**Ans:**"
   ]
  },
  {
   "cell_type": "code",
   "execution_count": 45,
   "id": "dbcc06dd",
   "metadata": {},
   "outputs": [
    {
     "name": "stdout",
     "output_type": "stream",
     "text": [
      "date when I was 10,000 days old: 2020-04-18\n"
     ]
    }
   ],
   "source": [
    "from datetime import datetime, timedelta\n",
    "\n",
    "year = 1992\n",
    "month = 12\n",
    "day = 1\n",
    "\n",
    "# Create a date object for your birthdate\n",
    "birthdate = datetime(year, month, day).date()\n",
    "\n",
    "# Calculate the date when I was 10,000 days old\n",
    "ten_thousand_days = timedelta(days=10000)\n",
    "target_date = birthdate + ten_thousand_days\n",
    "\n",
    "# Print the date\n",
    "print(\"date when I was 10,000 days old:\", target_date)\n"
   ]
  },
  {
   "cell_type": "code",
   "execution_count": null,
   "id": "336425f0",
   "metadata": {},
   "outputs": [],
   "source": []
  }
 ],
 "metadata": {
  "kernelspec": {
   "display_name": "Python 3 (ipykernel)",
   "language": "python",
   "name": "python3"
  },
  "language_info": {
   "codemirror_mode": {
    "name": "ipython",
    "version": 3
   },
   "file_extension": ".py",
   "mimetype": "text/x-python",
   "name": "python",
   "nbconvert_exporter": "python",
   "pygments_lexer": "ipython3",
   "version": "3.9.7"
  }
 },
 "nbformat": 4,
 "nbformat_minor": 5
}

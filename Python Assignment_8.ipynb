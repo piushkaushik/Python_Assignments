{
 "cells": [
  {
   "cell_type": "markdown",
   "id": "21393d5d",
   "metadata": {},
   "source": [
    "# 1. Is the Python Standard Library included with PyInputPlus?"
   ]
  },
  {
   "cell_type": "markdown",
   "id": "ad06094b",
   "metadata": {},
   "source": [
    "Answer:"
   ]
  },
  {
   "cell_type": "markdown",
   "id": "28b75038",
   "metadata": {},
   "source": [
    "No, PyInputPlus is a third-party module and doesn't come with the Python Standard Library."
   ]
  },
  {
   "cell_type": "markdown",
   "id": "be5237d3",
   "metadata": {},
   "source": [
    "# 2. Why is PyInputPlus commonly imported with import pyinputplus as pypi?"
   ]
  },
  {
   "cell_type": "markdown",
   "id": "bacc82d6",
   "metadata": {},
   "source": [
    "Answer:"
   ]
  },
  {
   "cell_type": "markdown",
   "id": "eca190d0",
   "metadata": {},
   "source": [
    "- Using pypi as an alias is a common convention, but we can choose any alias we want. \n",
    "- The main benefit is code conciseness and readability\n",
    "- It's also less likely to clash with other variable names in our code, reducing the risk of naming conflicts."
   ]
  },
  {
   "cell_type": "markdown",
   "id": "428dc41b",
   "metadata": {},
   "source": [
    "# 3. How do you distinguish between `inputInt()` and `inputFloat()`?"
   ]
  },
  {
   "cell_type": "markdown",
   "id": "7df6c85a",
   "metadata": {},
   "source": [
    "Answer:"
   ]
  },
  {
   "cell_type": "markdown",
   "id": "35f17462",
   "metadata": {},
   "source": [
    "In PyInputPlus, you can distinguish between `inputInt()` and `inputFloat()` based on the type of numeric input you want to receive"
   ]
  },
  {
   "cell_type": "markdown",
   "id": "c058722c",
   "metadata": {},
   "source": [
    "The key distinction is that `inputInt()` is for receiving integer inputs, while `inputFloat()` is for receiving floating-point (decimal) inputs. Both functions ensure that the user provides valid numeric input and handle invalid input gracefully by prompting for a correction."
   ]
  },
  {
   "cell_type": "markdown",
   "id": "41f419dc",
   "metadata": {},
   "source": [
    "# 4. Using PyInputPlus, how do you ensure that the user enters a whole number between 0 and 99?"
   ]
  },
  {
   "cell_type": "markdown",
   "id": "79322990",
   "metadata": {},
   "source": [
    "Answer:"
   ]
  },
  {
   "cell_type": "markdown",
   "id": "f59bfad0",
   "metadata": {},
   "source": [
    "By using the inputInt() function with the min and max parameters set to restrict the range of valid inputs. Here's how you can do it:"
   ]
  },
  {
   "cell_type": "code",
   "execution_count": 12,
   "id": "43bbdd69",
   "metadata": {},
   "outputs": [
    {
     "name": "stdout",
     "output_type": "stream",
     "text": [
      "Enter a number between 0 and 99: 2.4\n",
      "'2.4' is not an integer.\n",
      "Enter a number between 0 and 99: 4d\n",
      "'4d' is not an integer.\n",
      "Enter a number between 0 and 99: 50\n"
     ]
    }
   ],
   "source": [
    "import pyinputplus as pypi\n",
    "number = pypi.inputInt(prompt='Enter a number between 0 and 99: ', min=0, max=99)"
   ]
  },
  {
   "cell_type": "markdown",
   "id": "0e8b3a1c",
   "metadata": {},
   "source": [
    "# 5. What is transferred to the keyword arguments allowRegexes and blockRegexes?"
   ]
  },
  {
   "cell_type": "markdown",
   "id": "36cef6b3",
   "metadata": {},
   "source": [
    "Answer:"
   ]
  },
  {
   "cell_type": "markdown",
   "id": "4b423b26",
   "metadata": {},
   "source": [
    "In PyInputPlus, the allowRegexes and blockRegexes keyword arguments are used to specify regular expressions that control which inputs are allowed (allowedRegexes) and which inputs are blocked (blockRegexes). These arguments accept lists of regular expression patterns as strings."
   ]
  },
  {
   "cell_type": "markdown",
   "id": "e9dc8f86",
   "metadata": {},
   "source": [
    "# 6. If a blank input is entered three times, what does `inputStr(limit=3)` do?"
   ]
  },
  {
   "cell_type": "markdown",
   "id": "1415e3f3",
   "metadata": {},
   "source": [
    "Answer:"
   ]
  },
  {
   "cell_type": "markdown",
   "id": "0718045f",
   "metadata": {},
   "source": [
    "If a blank input (an empty string or whitespace-only input) is entered three times while using inputStr(limit=3), PyInputPlus will raise a pyinputplus.RetryLimitException. This exception indicates that the user has exceeded the specified input limit of three attempts to provide valid input."
   ]
  },
  {
   "cell_type": "code",
   "execution_count": 15,
   "id": "faa6c604",
   "metadata": {},
   "outputs": [
    {
     "name": "stdout",
     "output_type": "stream",
     "text": [
      "Enter something: \n",
      "Blank values are not allowed.\n",
      "Enter something: \n",
      "Blank values are not allowed.\n",
      "Enter something: \n",
      "Blank values are not allowed.\n",
      "User exceeded the retry limit for providing valid input.\n"
     ]
    }
   ],
   "source": [
    "# Example:\n",
    "\n",
    "import pyinputplus as pypi\n",
    "\n",
    "try:\n",
    "    user_input = pypi.inputStr(prompt='Enter something: ', limit=3)\n",
    "    print('User entered:', user_input)\n",
    "except pypi.RetryLimitException:\n",
    "    print('User exceeded the retry limit for providing valid input.')"
   ]
  },
  {
   "cell_type": "markdown",
   "id": "182c404e",
   "metadata": {},
   "source": [
    "# 7. If blank input is entered three times, what does `inputStr(limit=3, default='hello')` do?"
   ]
  },
  {
   "cell_type": "markdown",
   "id": "70abea4b",
   "metadata": {},
   "source": [
    "Answer:"
   ]
  },
  {
   "cell_type": "markdown",
   "id": "454bb9a3",
   "metadata": {},
   "source": [
    "If a blank input is entered three times while using `inputStr(limit=3, default='hello')`, PyInputPlus will not raise a `RetryLimitException` as it would with the default behavior. Instead, it will return the default value 'hello' after the third attempt."
   ]
  },
  {
   "cell_type": "code",
   "execution_count": 18,
   "id": "3b288f37",
   "metadata": {},
   "outputs": [
    {
     "name": "stdout",
     "output_type": "stream",
     "text": [
      "Enter something: \n",
      "Blank values are not allowed.\n",
      "Enter something: \n",
      "Blank values are not allowed.\n",
      "Enter something: \n",
      "Blank values are not allowed.\n",
      "User entered: hello\n"
     ]
    }
   ],
   "source": [
    "# Example:\n",
    "\n",
    "import pyinputplus as pypi\n",
    "\n",
    "user_input = pypi.inputStr(prompt='Enter something: ', limit=3, default='hello')\n",
    "print('User entered:', user_input)"
   ]
  },
  {
   "cell_type": "code",
   "execution_count": null,
   "id": "c2729173",
   "metadata": {},
   "outputs": [],
   "source": []
  }
 ],
 "metadata": {
  "kernelspec": {
   "display_name": "Python 3 (ipykernel)",
   "language": "python",
   "name": "python3"
  },
  "language_info": {
   "codemirror_mode": {
    "name": "ipython",
    "version": 3
   },
   "file_extension": ".py",
   "mimetype": "text/x-python",
   "name": "python",
   "nbconvert_exporter": "python",
   "pygments_lexer": "ipython3",
   "version": "3.9.7"
  }
 },
 "nbformat": 4,
 "nbformat_minor": 5
}

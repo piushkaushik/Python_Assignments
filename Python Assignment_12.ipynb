{
 "cells": [
  {
   "cell_type": "markdown",
   "id": "2d6b776f",
   "metadata": {},
   "source": [
    "# 1. In what modes should the PdfFileReader() and PdfFileWriter() File objects will be opened?"
   ]
  },
  {
   "cell_type": "markdown",
   "id": "339079cf",
   "metadata": {},
   "source": [
    "**Answer:**"
   ]
  },
  {
   "cell_type": "markdown",
   "id": "3b6d291a",
   "metadata": {},
   "source": [
    "`PdfFileReader()` needs to be opened in read-binary mode by passing 'rb' as the second argument to open(). Likewise, the File object passed to PyPDF2. PdfFileWriter() needs to be opened in write-binary mode with 'wb'."
   ]
  },
  {
   "cell_type": "markdown",
   "id": "c1cbc2fd",
   "metadata": {},
   "source": [
    "# 2. From a PdfFileReader object, how do you get a Page object for page 5?"
   ]
  },
  {
   "cell_type": "markdown",
   "id": "a569f737",
   "metadata": {},
   "source": [
    "**Answer:**"
   ]
  },
  {
   "cell_type": "markdown",
   "id": "1a40f1df",
   "metadata": {},
   "source": [
    "We can get a Page object by calling the `getPage()` method on a `PdfFileReader` object and passing it the page number of the page you're interested in"
   ]
  },
  {
   "cell_type": "markdown",
   "id": "6854fc92",
   "metadata": {},
   "source": [
    "**However, PdfFileReader class has been deprecated and removed in PyPDF2 version 3.0.0. Instead, we need to use the PdfReader class for reading PDF files.**"
   ]
  },
  {
   "cell_type": "markdown",
   "id": "157e4221",
   "metadata": {
    "scrolled": true
   },
   "source": [
    "# 3. What PdfFileReader variable stores the number of pages in the PDF document?"
   ]
  },
  {
   "cell_type": "markdown",
   "id": "3178ba59",
   "metadata": {},
   "source": [
    "**Answer:**"
   ]
  },
  {
   "cell_type": "markdown",
   "id": "c582fcb7",
   "metadata": {},
   "source": [
    "The total number of pages in the document is stored in the `numPages` attribute of a `PdfFileReader` object"
   ]
  },
  {
   "cell_type": "markdown",
   "id": "e9f4017f",
   "metadata": {},
   "source": [
    "# 4. If a PdfFileReader object’s PDF is encrypted with the password swordfish, what must you do before you can obtain Page objects from it?"
   ]
  },
  {
   "cell_type": "markdown",
   "id": "26f731e3",
   "metadata": {},
   "source": [
    "**Answer:**"
   ]
  },
  {
   "cell_type": "markdown",
   "id": "3b806e8c",
   "metadata": {},
   "source": [
    "To obtain Page objects from an encrypted PDF (e.g., with the password 'swordfish') using PyPDF2:\n",
    "\n",
    "- Open the PDF file in read-binary ('rb') mode.\n",
    "\n",
    "- Create a PdfFileReader object with the opened file.\n",
    "\n",
    "- Use the decrypt() method with the password to unlock the PDF.\n",
    "\n",
    "- We can now obtain Page objects and work with the PDF as usual."
   ]
  },
  {
   "cell_type": "markdown",
   "id": "063ea4db",
   "metadata": {},
   "source": [
    "# 5. What methods do you use to rotate a page?"
   ]
  },
  {
   "cell_type": "markdown",
   "id": "eab804ff",
   "metadata": {},
   "source": [
    "**Answer:**"
   ]
  },
  {
   "cell_type": "markdown",
   "id": "5cfbbe08",
   "metadata": {},
   "source": [
    "We can use the `rotateClockwise()` or `rotateCounterClockwise()` methods of the `PageObject` class"
   ]
  },
  {
   "cell_type": "markdown",
   "id": "e5acfbec",
   "metadata": {},
   "source": [
    "# 6. What is the difference between a Run object and a Paragraph object?"
   ]
  },
  {
   "cell_type": "markdown",
   "id": "b07b0bed",
   "metadata": {},
   "source": [
    "**Answer:**"
   ]
  },
  {
   "cell_type": "markdown",
   "id": "4488d6e7",
   "metadata": {},
   "source": [
    "Paragraph objects represent entire paragraphs, while Run objects represent specific sections of text within those paragraphs with their unique formatting."
   ]
  },
  {
   "cell_type": "markdown",
   "id": "657743dc",
   "metadata": {},
   "source": [
    "# 7. How do you obtain a list of Paragraph objects for a Document object that’s stored in a variable named doc?"
   ]
  },
  {
   "cell_type": "markdown",
   "id": "b55569b4",
   "metadata": {},
   "source": [
    "**Answer:**"
   ]
  },
  {
   "cell_type": "code",
   "execution_count": 4,
   "id": "3712cabb",
   "metadata": {},
   "outputs": [
    {
     "name": "stdout",
     "output_type": "stream",
     "text": [
      "Collecting python-docx\n",
      "  Downloading python-docx-0.8.11.tar.gz (5.6 MB)\n",
      "Requirement already satisfied: lxml>=2.3.2 in c:\\programdata\\anaconda3\\lib\\site-packages (from python-docx) (4.6.3)\n",
      "Building wheels for collected packages: python-docx\n",
      "  Building wheel for python-docx (setup.py): started\n",
      "  Building wheel for python-docx (setup.py): finished with status 'done'\n",
      "  Created wheel for python-docx: filename=python_docx-0.8.11-py3-none-any.whl size=184508 sha256=05a0060cca157a0e51baefa68b5cafe47954885683ce090ee86cb2a236230a22\n",
      "  Stored in directory: c:\\users\\piush\\appdata\\local\\pip\\cache\\wheels\\83\\8b\\7c\\09ae60c42c7ba4ed2dddaf2b8b9186cb105255856d6ed3dba5\n",
      "Successfully built python-docx\n",
      "Installing collected packages: python-docx\n",
      "Successfully installed python-docx-0.8.11\n",
      "Note: you may need to restart the kernel to use updated packages.\n"
     ]
    }
   ],
   "source": [
    "pip install python-docx"
   ]
  },
  {
   "cell_type": "code",
   "execution_count": 11,
   "id": "a440bbe5",
   "metadata": {},
   "outputs": [],
   "source": [
    "from docx import Document\n",
    "\n",
    "# Load the DOCX document\n",
    "doc = Document('Downloads\\Piush_Kumar_Sharma_Resume.docx')\n",
    "\n",
    "# Get a list of Paragraph objects\n",
    "paragraphs = doc.paragraphs\n",
    "\n",
    "# Now, 'paragraphs' contains a list of all the paragraphs in the document"
   ]
  },
  {
   "cell_type": "markdown",
   "id": "8ca0601e",
   "metadata": {},
   "source": [
    "# 8. What type of object has bold, underline, italic, strike, and outline variables?"
   ]
  },
  {
   "cell_type": "markdown",
   "id": "904f13c6",
   "metadata": {},
   "source": [
    "**Answer:**"
   ]
  },
  {
   "cell_type": "markdown",
   "id": "54712580",
   "metadata": {},
   "source": [
    "The objects that have attributes like bold, underline, italic, strike, and outline typically refer to the formatting properties of text runs within a Microsoft Word document. In the context of the python-docx library, which is used to work with Word documents, these attributes are part of the Run objects."
   ]
  },
  {
   "cell_type": "code",
   "execution_count": 17,
   "id": "4c021264",
   "metadata": {},
   "outputs": [],
   "source": [
    "from docx import Document\n",
    "from docx.shared import Pt\n",
    "\n",
    "# Load a Word document\n",
    "doc = Document('Downloads\\Piush_Kumar_Sharma_Resume.docx')\n",
    "\n",
    "# Get the first paragraph in the document\n",
    "paragraph = doc.paragraphs[2]\n",
    "\n",
    "# Access the first run in the paragraph\n",
    "run = paragraph.runs[2]\n",
    "\n",
    "# Modify formatting attributes\n",
    "run.bold = True\n",
    "run.underline = True\n",
    "run.italic = True\n",
    "run.strike = True\n",
    "run.font.size = Pt(20)  # Change font size to 14 points\n"
   ]
  },
  {
   "cell_type": "markdown",
   "id": "f6606afc",
   "metadata": {},
   "source": [
    "# 9. What is the difference between `False`, `True`, and `None` for the bold variable?"
   ]
  },
  {
   "cell_type": "markdown",
   "id": "9e35cc05",
   "metadata": {},
   "source": [
    "**Answer:**"
   ]
  },
  {
   "cell_type": "markdown",
   "id": "628ff0ac",
   "metadata": {},
   "source": [
    "- True for bold makes the text bold.\n",
    "- False for bold makes the text not bold.\n",
    "- None for bold inherits the bold formatting from the paragraph style."
   ]
  },
  {
   "cell_type": "markdown",
   "id": "58a47a2e",
   "metadata": {},
   "source": [
    "# 10. How do you create a Document object for a new Word document?"
   ]
  },
  {
   "cell_type": "markdown",
   "id": "48e2d2b1",
   "metadata": {},
   "source": [
    "**Answer:**"
   ]
  },
  {
   "cell_type": "markdown",
   "id": "d7ede38c",
   "metadata": {},
   "source": [
    "- Import the Document Class\n",
    "- Create an object of Document class.\n",
    "- Create an object of DocumentBuilder class.\n",
    "- Insert text into document using DocumentBuilder. write() method.\n",
    "- Save the Word document using Document. save() method."
   ]
  },
  {
   "cell_type": "markdown",
   "id": "968aafab",
   "metadata": {},
   "source": [
    "# 11. How do you add a paragraph with the text 'Hello, there!' to a Document object stored in a variable named doc?"
   ]
  },
  {
   "cell_type": "markdown",
   "id": "46d9c11d",
   "metadata": {},
   "source": [
    "**Answer:**"
   ]
  },
  {
   "cell_type": "code",
   "execution_count": 21,
   "id": "1a4de79c",
   "metadata": {},
   "outputs": [],
   "source": [
    "from docx import Document\n",
    "\n",
    "doc = Document('Downloads\\Piush_Kumar_Sharma_Resume.docx')\n",
    "\n",
    "# Add a new paragraph with the text 'Hello, there!'\n",
    "doc.add_paragraph('Hello, there!')\n",
    "\n",
    "# Save the document (if needed)\n",
    "doc.save('existing_document.docx')\n"
   ]
  },
  {
   "cell_type": "markdown",
   "id": "e1c580a1",
   "metadata": {},
   "source": [
    "# 12. What integers represent the levels of headings available in Word documents?"
   ]
  },
  {
   "cell_type": "markdown",
   "id": "36036a26",
   "metadata": {},
   "source": [
    "In Word documents, headings are organized into levels, and each level is represented by an integer. The most commonly used heading levels and their corresponding integers are as follows:\n",
    "\n",
    "- Heading 1: Represented by the integer `1`\n",
    "- Heading 2: Represented by the integer `2`\n",
    "- Heading 3: Represented by the integer `3`\n",
    "- Heading 4: Represented by the integer `4`\n",
    "- Heading 5: Represented by the integer `5`\n",
    "- Heading 6: Represented by the integer `6`\n",
    "\n",
    "These heading levels are used to structure and format the content of Word documents. We can apply different styles, fonts, and formatting to each heading level, making it easier to create well-organized documents with clear hierarchy."
   ]
  },
  {
   "cell_type": "code",
   "execution_count": null,
   "id": "f43c0290",
   "metadata": {},
   "outputs": [],
   "source": []
  }
 ],
 "metadata": {
  "kernelspec": {
   "display_name": "Python 3 (ipykernel)",
   "language": "python",
   "name": "python3"
  },
  "language_info": {
   "codemirror_mode": {
    "name": "ipython",
    "version": 3
   },
   "file_extension": ".py",
   "mimetype": "text/x-python",
   "name": "python",
   "nbconvert_exporter": "python",
   "pygments_lexer": "ipython3",
   "version": "3.9.7"
  }
 },
 "nbformat": 4,
 "nbformat_minor": 5
}

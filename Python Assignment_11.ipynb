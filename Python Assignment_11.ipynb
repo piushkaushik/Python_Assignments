{
 "cells": [
  {
   "cell_type": "markdown",
   "id": "9fa50df1",
   "metadata": {},
   "source": [
    "# 1. Create an assert statement that throws an AssertionError if the variable spam is a negative integer."
   ]
  },
  {
   "cell_type": "markdown",
   "id": "e95ee53c",
   "metadata": {},
   "source": [
    "**Answer:**"
   ]
  },
  {
   "cell_type": "code",
   "execution_count": 7,
   "id": "8f123d38",
   "metadata": {},
   "outputs": [
    {
     "name": "stdout",
     "output_type": "stream",
     "text": [
      "Enter a number for spam: -4\n"
     ]
    },
    {
     "ename": "AssertionError",
     "evalue": "spam should not be a negative integer",
     "output_type": "error",
     "traceback": [
      "\u001b[1;31m---------------------------------------------------------------------------\u001b[0m",
      "\u001b[1;31mAssertionError\u001b[0m                            Traceback (most recent call last)",
      "\u001b[1;32m~\\AppData\\Local\\Temp/ipykernel_13232/1848683916.py\u001b[0m in \u001b[0;36m<module>\u001b[1;34m\u001b[0m\n\u001b[0;32m      5\u001b[0m \u001b[1;33m\u001b[0m\u001b[0m\n\u001b[0;32m      6\u001b[0m \u001b[1;31m# Check if spam is a negative integer\u001b[0m\u001b[1;33m\u001b[0m\u001b[1;33m\u001b[0m\u001b[0m\n\u001b[1;32m----> 7\u001b[1;33m \u001b[1;32massert\u001b[0m \u001b[0mspam\u001b[0m \u001b[1;33m>=\u001b[0m \u001b[1;36m0\u001b[0m\u001b[1;33m,\u001b[0m \u001b[1;34m\"spam should not be a negative integer\"\u001b[0m\u001b[1;33m\u001b[0m\u001b[1;33m\u001b[0m\u001b[0m\n\u001b[0m",
      "\u001b[1;31mAssertionError\u001b[0m: spam should not be a negative integer"
     ]
    }
   ],
   "source": [
    "spam = int(input(\"Enter a number for spam: \"))\n",
    "\n",
    "# Check if spam is a negative integer\n",
    "assert spam >= 0, \"spam should not be a negative integer\"\n"
   ]
  },
  {
   "cell_type": "markdown",
   "id": "3883453a",
   "metadata": {},
   "source": [
    "# 2. Write an assert statement that triggers an AssertionError if the variables eggs and bacon contain strings that are the same as each other, even if their cases are different (that is, 'hello' and 'hello' are considered the same, and 'goodbye' and 'GOODbye' are also considered the same)."
   ]
  },
  {
   "cell_type": "markdown",
   "id": "b5d7a1b5",
   "metadata": {},
   "source": [
    "**Answer:**"
   ]
  },
  {
   "cell_type": "raw",
   "id": "3251bb87",
   "metadata": {},
   "source": [
    "# Assuming eggs and bacon are the variables you want to compare\n",
    "assert eggs.lower() != bacon.lower(), \"eggs and bacon should not be the same (case-insensitive)\""
   ]
  },
  {
   "cell_type": "markdown",
   "id": "235633fa",
   "metadata": {},
   "source": [
    "# 3. Create an assert statement that throws an AssertionError every time."
   ]
  },
  {
   "cell_type": "markdown",
   "id": "6f0b4da0",
   "metadata": {},
   "source": [
    "**Answer:**"
   ]
  },
  {
   "cell_type": "code",
   "execution_count": 11,
   "id": "95cdacc1",
   "metadata": {},
   "outputs": [
    {
     "ename": "AssertionError",
     "evalue": "This is always an AssertionError",
     "output_type": "error",
     "traceback": [
      "\u001b[1;31m---------------------------------------------------------------------------\u001b[0m",
      "\u001b[1;31mAssertionError\u001b[0m                            Traceback (most recent call last)",
      "\u001b[1;32m~\\AppData\\Local\\Temp/ipykernel_13232/1442364756.py\u001b[0m in \u001b[0;36m<module>\u001b[1;34m\u001b[0m\n\u001b[0;32m      1\u001b[0m \u001b[1;31m# This assert statement will always raise an AssertionError\u001b[0m\u001b[1;33m\u001b[0m\u001b[1;33m\u001b[0m\u001b[0m\n\u001b[1;32m----> 2\u001b[1;33m \u001b[1;32massert\u001b[0m \u001b[1;32mFalse\u001b[0m\u001b[1;33m,\u001b[0m \u001b[1;34m\"This is always an AssertionError\"\u001b[0m\u001b[1;33m\u001b[0m\u001b[1;33m\u001b[0m\u001b[0m\n\u001b[0m",
      "\u001b[1;31mAssertionError\u001b[0m: This is always an AssertionError"
     ]
    }
   ],
   "source": [
    "# This assert statement will always raise an AssertionError\n",
    "assert False, \"This is always an AssertionError\""
   ]
  },
  {
   "cell_type": "markdown",
   "id": "54d62f24",
   "metadata": {},
   "source": [
    "# 4. What are the two lines that must be present in your software in order to call logging.debug()?"
   ]
  },
  {
   "cell_type": "markdown",
   "id": "e5973a89",
   "metadata": {},
   "source": [
    "**Answer:**"
   ]
  },
  {
   "cell_type": "code",
   "execution_count": 14,
   "id": "07c3a20a",
   "metadata": {},
   "outputs": [],
   "source": [
    "import logging\n",
    "\n",
    "logging.basicConfig(level=logging.DEBUG)"
   ]
  },
  {
   "cell_type": "code",
   "execution_count": 15,
   "id": "01382b37",
   "metadata": {},
   "outputs": [
    {
     "name": "stderr",
     "output_type": "stream",
     "text": [
      "DEBUG:root:This is a debug message.\n"
     ]
    }
   ],
   "source": [
    "# After these two lines are present, we can call logging.debug() in our code to log debug-level messages.\n",
    "logging.debug(\"This is a debug message.\")"
   ]
  },
  {
   "cell_type": "markdown",
   "id": "7c949fe2",
   "metadata": {},
   "source": [
    "# 5. What are the two lines that your program must have in order to have logging.debug() send a logging message to a file named programLog.txt?"
   ]
  },
  {
   "cell_type": "markdown",
   "id": "beb7ecd0",
   "metadata": {},
   "source": [
    "**Answer:**"
   ]
  },
  {
   "cell_type": "code",
   "execution_count": 18,
   "id": "fb7eb4f3",
   "metadata": {},
   "outputs": [],
   "source": [
    "import logging\n",
    "\n",
    "logging.basicConfig(level=logging.DEBUG, filename='programLog.txt', filemode='w')"
   ]
  },
  {
   "cell_type": "markdown",
   "id": "4895380b",
   "metadata": {},
   "source": [
    "# 6. What are the five levels of logging?"
   ]
  },
  {
   "cell_type": "markdown",
   "id": "18fabec1",
   "metadata": {},
   "source": [
    "**Answer:**"
   ]
  },
  {
   "cell_type": "markdown",
   "id": "343ed78b",
   "metadata": {},
   "source": [
    "1. **DEBUG**: \n",
    "\n",
    "The lowest level. Used for detailed diagnostic information. Typically, you would use `logging.debug()` for messages at this level."
   ]
  },
  {
   "cell_type": "markdown",
   "id": "9df4454e",
   "metadata": {},
   "source": [
    "2. **INFO**: \n",
    "\n",
    "Used to confirm that things are working as expected. It provides general information about the program's operation. Messages at this level are typically less detailed than `DEBUG` messages but provide useful insights. Typically, we would use `logging.info()` for messages at this level."
   ]
  },
  {
   "cell_type": "markdown",
   "id": "ee6f16d0",
   "metadata": {},
   "source": [
    "3. **WARNING**: \n",
    "\n",
    "Indicates a potential problem but does not necessarily prevent the program from continuing to run. It is often used to alert about situations that could lead to issues. Typically, we would use `logging.warning()` for messages at this level."
   ]
  },
  {
   "cell_type": "markdown",
   "id": "809cb367",
   "metadata": {},
   "source": [
    "4. **ERROR**: \n",
    "\n",
    "Indicates a more severe problem that prevented a specific function or operation from succeeding. It signals that something went wrong, but the program can still continue to run. Typically, you would use `logging.error()` for messages at this level."
   ]
  },
  {
   "cell_type": "markdown",
   "id": "b88c0f87",
   "metadata": {},
   "source": [
    "5. **CRITICAL**: The highest level. Indicates a critical error that prevents the program from continuing to run. It represents a severe failure. Typically, we would use `logging.critical()` for messages at this level."
   ]
  },
  {
   "cell_type": "markdown",
   "id": "b9add371",
   "metadata": {},
   "source": [
    "# 7. What line of code would you add to your software to disable all logging messages?"
   ]
  },
  {
   "cell_type": "markdown",
   "id": "e23d823d",
   "metadata": {},
   "source": [
    "**Answer:**"
   ]
  },
  {
   "cell_type": "code",
   "execution_count": 20,
   "id": "f59df64c",
   "metadata": {},
   "outputs": [],
   "source": [
    "import logging\n",
    "\n",
    "logging.disable(logging.CRITICAL + 1)"
   ]
  },
  {
   "cell_type": "markdown",
   "id": "34a0525c",
   "metadata": {},
   "source": [
    "# 8.Why is using logging messages better than using print() to display the same message?"
   ]
  },
  {
   "cell_type": "markdown",
   "id": "0a97070f",
   "metadata": {},
   "source": [
    "**Answer:**"
   ]
  },
  {
   "cell_type": "markdown",
   "id": "d7da73f7",
   "metadata": {},
   "source": [
    "Using the logging module provides a structured and flexible approach to handling and managing log messages, making it a more powerful and maintainable option compared to using `print()` for logging purposes."
   ]
  },
  {
   "cell_type": "markdown",
   "id": "2ba619f1",
   "metadata": {},
   "source": [
    "# 9. What are the differences between the Step Over, Step In, and Step Out buttons in the debugger?"
   ]
  },
  {
   "cell_type": "markdown",
   "id": "a7973b1b",
   "metadata": {},
   "source": [
    "**Answer:**"
   ]
  },
  {
   "cell_type": "markdown",
   "id": "473d90ac",
   "metadata": {},
   "source": [
    "- \"Step Over\" lets us move forward without diving into function calls\n",
    "\n",
    "- \"Step In\" allows us to explore and debug function internals\n",
    "\n",
    "- \"Step Out\" returns  the caller's context if we have gone too deep into a function"
   ]
  },
  {
   "cell_type": "markdown",
   "id": "85db8361",
   "metadata": {},
   "source": [
    "# 10.After you click Continue, when will the debugger stop ?"
   ]
  },
  {
   "cell_type": "markdown",
   "id": "89aef92e",
   "metadata": {},
   "source": [
    "**Answer:**"
   ]
  },
  {
   "cell_type": "markdown",
   "id": "30d050d7",
   "metadata": {},
   "source": [
    "Clicking \"Continue\" allows the program to run without interruption until one of the specified conditions occurs: hitting a breakpoint, encountering an unhandled exception, completing execution, or being manually stopped by the user."
   ]
  },
  {
   "cell_type": "markdown",
   "id": "8830beb5",
   "metadata": {},
   "source": [
    "# 11. What is the concept of a breakpoint?"
   ]
  },
  {
   "cell_type": "markdown",
   "id": "72ac683e",
   "metadata": {},
   "source": [
    "**Answer:**"
   ]
  },
  {
   "cell_type": "markdown",
   "id": "733aa687",
   "metadata": {},
   "source": [
    "- A breakpoint is a debugging feature used in software development to pause the execution of a program at a specific line of code or condition. When a breakpoint is set, the debugger will interrupt the program's execution at that point, allowing us to inspect the program's state, variables, and memory contents. \n",
    "\n",
    "- Breakpoints are an essential tool for debugging and troubleshooting code."
   ]
  },
  {
   "cell_type": "code",
   "execution_count": null,
   "id": "12fa178b",
   "metadata": {},
   "outputs": [],
   "source": []
  }
 ],
 "metadata": {
  "kernelspec": {
   "display_name": "Python 3 (ipykernel)",
   "language": "python",
   "name": "python3"
  },
  "language_info": {
   "codemirror_mode": {
    "name": "ipython",
    "version": 3
   },
   "file_extension": ".py",
   "mimetype": "text/x-python",
   "name": "python",
   "nbconvert_exporter": "python",
   "pygments_lexer": "ipython3",
   "version": "3.9.7"
  }
 },
 "nbformat": 4,
 "nbformat_minor": 5
}

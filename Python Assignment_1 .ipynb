{
 "cells": [
  {
   "cell_type": "markdown",
   "id": "e37bf337",
   "metadata": {},
   "source": [
    "### 1. In the below elements which of them are values or an expression? eg:- values can be integer or string and expressions will be mathematical operators.\n",
    "* \n",
    "'hello'\n",
    "-87.8\n",
    "- \n",
    "/ \n",
    "+\t\n",
    "6 \n",
    "\n",
    "Answer: Expressions- *   / +\n",
    "\tValues: 'hello', -87.8, 6 "
   ]
  },
  {
   "cell_type": "markdown",
   "id": "6192e572",
   "metadata": {},
   "source": [
    "### 2. What is the difference between string and variable?\n",
    "\n",
    "Ans:\n",
    "\n",
    "##### String:\n",
    "\n",
    "•\tA string is a data type that represents a sequence of characters. It is enclosed in either single quotes ('...') or double quotes (\"...\"). For example: my_string = \"Hello, world!\"\n",
    "\n",
    "•\tStrings are immutable, meaning their values cannot be changed once they are created. However, you can create new strings by manipulating existing ones using various string methods.\n",
    "\n",
    "##### Variable:\n",
    "A variable, on the other hand, is a name that represents a value stored in the computer's memory. It serves as a reference to that value, allowing you to access and modify it. Variables can hold different types of data, including strings. They act as containers or placeholders for storing and manipulating values. \n",
    "For example: my_variable = 42\n",
    "\n",
    "Here, ‘my_variable’ is a variable that holds the integer value 42. You can assign different values to the same variable throughout the program, and the variable will reference the latest assigned value.\n"
   ]
  },
  {
   "cell_type": "code",
   "execution_count": 8,
   "id": "f2e3391c",
   "metadata": {},
   "outputs": [],
   "source": [
    "my_string = \"Hello, world!\" \n",
    "my_variable = 42  "
   ]
  },
  {
   "cell_type": "markdown",
   "id": "efcf5c8a",
   "metadata": {},
   "source": [
    "### 3. Describe three different data types.\n",
    "\n",
    "##### 1. Integer (int):\n",
    "\n",
    "The integer data type represents whole numbers without any fractional or decimal parts. For example: my_integer = 42\n",
    "##### 2.\tString (str):\n",
    "\n",
    "The string data type represents a sequence of characters. It is enclosed in quotes (single or double). For example: my_string = \"Hello, world!\"\n",
    "\n",
    "##### 3.\tBoolean (bool): \n",
    "\n",
    "The Boolean data type represents the truth values True and False. Booleans are often used in logical operations and control flow statements. For example: is_valid = True\n"
   ]
  },
  {
   "cell_type": "code",
   "execution_count": 7,
   "id": "a10686cd",
   "metadata": {},
   "outputs": [],
   "source": [
    "my_integer = 42\n",
    "my_string = \"Hello, world!\"\n",
    "is_valid = True"
   ]
  },
  {
   "cell_type": "markdown",
   "id": "192cb240",
   "metadata": {},
   "source": [
    "### 4. What is an expression made up of? What do all expressions do?\n",
    "\n",
    "A combination of operands and operators is called an expression. The expression in Python produces some value or result after being interpreted by the Python interpreter. An expression in Python is a combination of operators and operands. An example of expression can be :\n",
    "\n",
    "1.\tresult = 2 + 3 * 4  # Arithmetic expression\n",
    "2.\tis_equal = (a == b)  # Comparison expression\n",
    "3.\tgreeting = \"Hello, \" + name  # String concatenation expression (name = “name of a person”)\n",
    "4.\tresult = math.sqrt(16) + math.sin(0.5)  # Function call expression\n",
    "\n",
    "##### What do all expressions do?\n",
    "\n",
    "Expressions in Python serve the purpose of computing or evaluating values based on the combination of literals, variables, operators, and function calls. They allow you to perform various tasks and operations within a program. Here are the main things that expressions do:\n",
    "\n",
    "1. Evaluation\n",
    "2. Computations\n",
    "3. Comparison\n",
    "4. Logical operations\n",
    "5. String operations\n",
    "6. Function calls\n",
    "7. Control flow\n"
   ]
  },
  {
   "cell_type": "code",
   "execution_count": 10,
   "id": "77fe3a23",
   "metadata": {},
   "outputs": [
    {
     "name": "stdout",
     "output_type": "stream",
     "text": [
      "4.479425538604203\n",
      "False\n",
      "Hello, Alice\n"
     ]
    }
   ],
   "source": [
    "#Examples of expression:\n",
    "\n",
    "import math\n",
    "\n",
    "result = 2 + 3 * 4  # Arithmetic expression\n",
    "a = 5\n",
    "b = 7\n",
    "is_equal = (a == b)  # Comparison expression\n",
    "name = \"Alice\"\n",
    "greeting = \"Hello, \" + name  # String concatenation expression\n",
    "result = math.sqrt(16) + math.sin(0.5)  # Function call expression\n",
    "\n",
    "print(result)\n",
    "print(is_equal)\n",
    "print(greeting)"
   ]
  },
  {
   "cell_type": "markdown",
   "id": "fe81ed06",
   "metadata": {},
   "source": [
    "### 5. This assignment statements, like spam = 10. What is the difference between an expression and a statement?\n",
    "\n",
    "##### Ans:\n",
    "\n",
    "An assignment statement like spam = 10 assigns the value 10 to the variable spam. Statements are standalone instructions that Python executes to perform a specific task.\n",
    "\n",
    "The main difference between an expression and a statement is that an expression produces a value when evaluated, while a statement performs an action or operation."
   ]
  },
  {
   "cell_type": "markdown",
   "id": "8c985ab2",
   "metadata": {},
   "source": [
    "### 6. After running the following code, what does the variable bacon contain?\n",
    "\n",
    "bacon = 22\n",
    "bacon + 1\n",
    "\n",
    "Ans: 22"
   ]
  },
  {
   "cell_type": "code",
   "execution_count": 14,
   "id": "5910eec2",
   "metadata": {},
   "outputs": [
    {
     "data": {
      "text/plain": [
       "23"
      ]
     },
     "execution_count": 14,
     "metadata": {},
     "output_type": "execute_result"
    }
   ],
   "source": [
    "bacon = 22\n",
    "bacon + 1"
   ]
  },
  {
   "cell_type": "code",
   "execution_count": 16,
   "id": "b427f477",
   "metadata": {},
   "outputs": [
    {
     "data": {
      "text/plain": [
       "22"
      ]
     },
     "execution_count": 16,
     "metadata": {},
     "output_type": "execute_result"
    }
   ],
   "source": [
    "bacon"
   ]
  },
  {
   "cell_type": "markdown",
   "id": "15361b58",
   "metadata": {},
   "source": [
    "### 7. What should the values of the following two terms be?\n",
    "\n",
    "‘spam’ + ‘spamspam’\n",
    "‘spam’ *3\n",
    "\n",
    "##### Ans:\n",
    "\n",
    "##### 'spam' + 'spamspam': \n",
    "\n",
    "This expression performs string concatenation, which combines the two given strings into a single string. The result would be 'spamspamspam'\n",
    "\n",
    "##### 'spam' * 3:\n",
    "\n",
    "This expression uses the multiplication operator (*) with a string and an integer. The string 'spam' is multiplied by 3, which means it is repeated three times. The result would be 'spamspamspam'\n"
   ]
  },
  {
   "cell_type": "code",
   "execution_count": 18,
   "id": "7eeb64a3",
   "metadata": {},
   "outputs": [
    {
     "data": {
      "text/plain": [
       "'spamspamspam'"
      ]
     },
     "execution_count": 18,
     "metadata": {},
     "output_type": "execute_result"
    }
   ],
   "source": [
    "'spam' + 'spamspam'"
   ]
  },
  {
   "cell_type": "code",
   "execution_count": 19,
   "id": "3ea87c3b",
   "metadata": {},
   "outputs": [
    {
     "data": {
      "text/plain": [
       "'spamspamspam'"
      ]
     },
     "execution_count": 19,
     "metadata": {},
     "output_type": "execute_result"
    }
   ],
   "source": [
    "'spam'*3"
   ]
  },
  {
   "cell_type": "markdown",
   "id": "dd0978f4",
   "metadata": {},
   "source": [
    "### 8. Why is eggs a valid variable name while 100 is invalid?\n",
    "\n",
    "##### Valid variable names:\n",
    "\n",
    "Must start with a letter (a-z, A-Z) or an underscore (_).\n",
    "\n",
    "Can be followed by letters, digits (0-9), or underscores.\n",
    "\n",
    " 'eggs' is a valid variable name because it starts with a letter and consists of only letters.\n",
    "\n",
    "##### Invalid variable names:\n",
    "\n",
    "Cannot start with a digit.\n",
    "\n",
    "Cannot contain spaces or special characters (except underscore).\n",
    "\n",
    "The variable name '100' is invalid because it starts with a digit, violating the rule that variable names cannot begin with a digit."
   ]
  },
  {
   "cell_type": "markdown",
   "id": "cbfc592a",
   "metadata": {},
   "source": [
    "### 9. What three functions can be used to get the integer, floating-point number, or string version of a value?\n",
    "\n",
    "##### int(): The int() function can be used to convert a value to an integer.\n",
    "\n",
    "Example:  integer_value = int(\"42\")\n",
    "\n",
    "##### float(): The float() function is used to convert a value to a floating-point number\n",
    "\n",
    "Example: float_value = float(\"3.14\")"
   ]
  },
  {
   "cell_type": "code",
   "execution_count": 23,
   "id": "b82a6932",
   "metadata": {},
   "outputs": [],
   "source": [
    "integer_value = int(\"42\")    #string \"42\" is converted to the integer 42 using the int()"
   ]
  },
  {
   "cell_type": "code",
   "execution_count": 25,
   "id": "87311c78",
   "metadata": {},
   "outputs": [
    {
     "data": {
      "text/plain": [
       "42"
      ]
     },
     "execution_count": 25,
     "metadata": {},
     "output_type": "execute_result"
    }
   ],
   "source": [
    "integer_value"
   ]
  },
  {
   "cell_type": "code",
   "execution_count": 24,
   "id": "5901e18a",
   "metadata": {},
   "outputs": [],
   "source": [
    "float_value = float(\"3.14\")  #string \"3.14\" is converted to the float 3.14 "
   ]
  },
  {
   "cell_type": "code",
   "execution_count": 26,
   "id": "5a91e0a1",
   "metadata": {},
   "outputs": [
    {
     "data": {
      "text/plain": [
       "3.14"
      ]
     },
     "execution_count": 26,
     "metadata": {},
     "output_type": "execute_result"
    }
   ],
   "source": [
    "float_value"
   ]
  },
  {
   "cell_type": "code",
   "execution_count": 28,
   "id": "c8c4d267",
   "metadata": {},
   "outputs": [],
   "source": [
    "string_value = str(42)     # integer 42 is converted to the string \"42\" using the str() function"
   ]
  },
  {
   "cell_type": "code",
   "execution_count": 27,
   "id": "b86ee43e",
   "metadata": {},
   "outputs": [
    {
     "data": {
      "text/plain": [
       "'42'"
      ]
     },
     "execution_count": 27,
     "metadata": {},
     "output_type": "execute_result"
    }
   ],
   "source": [
    "string_value"
   ]
  },
  {
   "cell_type": "markdown",
   "id": "502925de",
   "metadata": {},
   "source": [
    "### 10. Why does this expression cause an error? How can you fix it?\n",
    "\n",
    "‘I have eaten’ + 99 + ‘burritos’\n",
    "\n",
    "##### Ans: \n",
    "\n",
    "The given expression 'I have eaten' + 99 + 'burritos' causes an error because it involves concatenating different data types. In this case, the expression tries to concatenate a string ('I have eaten') with an integer (99), which is not directly supported.\n",
    "\n",
    "##### How can you fix it?\n",
    "\n",
    "We can fix it by converting the integer to a string before concatenating it.\n",
    "\n",
    "Like this: 'I have eaten ' + str(99) + ' burritos'"
   ]
  },
  {
   "cell_type": "code",
   "execution_count": 29,
   "id": "c394d86e",
   "metadata": {},
   "outputs": [
    {
     "data": {
      "text/plain": [
       "'I have eaten 99 burritos'"
      ]
     },
     "execution_count": 29,
     "metadata": {},
     "output_type": "execute_result"
    }
   ],
   "source": [
    "'I have eaten ' + str(99) + ' burritos'"
   ]
  },
  {
   "cell_type": "code",
   "execution_count": null,
   "id": "637bdfd0",
   "metadata": {},
   "outputs": [],
   "source": []
  }
 ],
 "metadata": {
  "kernelspec": {
   "display_name": "Python 3 (ipykernel)",
   "language": "python",
   "name": "python3"
  },
  "language_info": {
   "codemirror_mode": {
    "name": "ipython",
    "version": 3
   },
   "file_extension": ".py",
   "mimetype": "text/x-python",
   "name": "python",
   "nbconvert_exporter": "python",
   "pygments_lexer": "ipython3",
   "version": "3.9.7"
  }
 },
 "nbformat": 4,
 "nbformat_minor": 5
}

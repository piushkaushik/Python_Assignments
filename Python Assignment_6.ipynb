{
 "cells": [
  {
   "cell_type": "markdown",
   "id": "091934c9",
   "metadata": {},
   "source": [
    "## 1. What are escape characters, and how do you use them?"
   ]
  },
  {
   "cell_type": "markdown",
   "id": "6f8fa0aa",
   "metadata": {},
   "source": [
    "- Escape characters in programming are special sequences of characters that have a specific meaning and are used to represent certain characters or control codes that cannot be easily represented directly in a string. \n",
    "\n",
    "- Escape characters are typically preceded by a backslash '\\\\'. \n",
    "\n",
    "- They allow you to include special characters, such as newline, tab, or double quotes, within string literals."
   ]
  },
  {
   "cell_type": "raw",
   "id": "da410879",
   "metadata": {},
   "source": [
    "Here are some common escape characters and their meanings in Python:\n",
    "\n",
    "1.  \\\\ - Backslash: Represents a literal backslash character.\n",
    "2.  \\' - Single Quote: Represents a single quote character within a single-quoted string.\n",
    "3.  \\\" - Double Quote:Represents a double quote character within a double-quoted string.\n",
    "4.  \\n - Newline:Represents a newline character, causing text to start on a new line.\n",
    "5.  \\t - Tab:Represents a tab character, causing text to be indented.\n",
    "6.  \\r - Carriage Return:Represents a carriage return character, used for text formatting.\n",
    "7.  \\b - Backspace:Represents a backspace character, used to erase the preceding character.\n",
    "8.  \\f - Form Feed:Represents a form feed character, used for page breaks and formatting.\n",
    "9.  \\uXXXX - Unicode Escape:Represents a Unicode character specified by its four-digit hexadecimal code point. For example, \\u2022 represents the bullet character (•).\n",
    "10.  \\UXXXXXXXX - Extended Unicode Escape (Python 3+):Represents a Unicode character specified by its eight-digit hexadecimal code point.\n",
    "11.  \\ooo - Octal Escape:Represents a character using its octal representation. For example, \\077 represents the character with octal code 77."
   ]
  },
  {
   "cell_type": "markdown",
   "id": "b8abf83e",
   "metadata": {},
   "source": [
    "###### Use of escape characters:"
   ]
  },
  {
   "cell_type": "code",
   "execution_count": 1,
   "id": "1d1915af",
   "metadata": {},
   "outputs": [
    {
     "name": "stdout",
     "output_type": "stream",
     "text": [
      "This is a single-quoted string with a single quote (').\n",
      "This is a double-quoted string with a double quote (\").\n",
      "This is a\n",
      "multiline\n",
      "string with newlines.\n",
      "This is a\ttabbed\tstring.\n",
      "α is the Greek letter alpha.\n"
     ]
    }
   ],
   "source": [
    "# Using escape characters\n",
    "single_quoted_string = 'This is a single-quoted string with a single quote (\\').'\n",
    "double_quoted_string = \"This is a double-quoted string with a double quote (\\\").\"\n",
    "multiline_string = \"This is a\\nmultiline\\nstring with newlines.\"\n",
    "tabbed_string = \"This is a\\ttabbed\\tstring.\"\n",
    "unicode_string = \"\\u03B1 is the Greek letter alpha.\"\n",
    "\n",
    "print(single_quoted_string)\n",
    "print(double_quoted_string)\n",
    "print(multiline_string)\n",
    "print(tabbed_string)\n",
    "print(unicode_string)"
   ]
  },
  {
   "cell_type": "markdown",
   "id": "30364a91",
   "metadata": {},
   "source": [
    "## 2. What do the escape characters n and t stand for?"
   ]
  },
  {
   "cell_type": "markdown",
   "id": "a7d19cba",
   "metadata": {},
   "source": [
    "n - Newline\n",
    "\n",
    "t - Tab"
   ]
  },
  {
   "cell_type": "markdown",
   "id": "e380d78d",
   "metadata": {},
   "source": [
    "## 3. What is the way to include backslash characters in a string?"
   ]
  },
  {
   "cell_type": "markdown",
   "id": "987a7bc4",
   "metadata": {},
   "source": [
    "To include a literal backslash \\ character in a string in Python, you need to escape it by using another backslash \\\\. This is because a single backslash is an escape character itself, so \\\\ is used to represent a single backslash."
   ]
  },
  {
   "cell_type": "code",
   "execution_count": 4,
   "id": "ea7ea889",
   "metadata": {},
   "outputs": [
    {
     "name": "stdout",
     "output_type": "stream",
     "text": [
      "This is a backslash: \\\n"
     ]
    }
   ],
   "source": [
    "# Including backslash characters in a string\n",
    "backslash_string = \"This is a backslash: \\\\\"\n",
    "\n",
    "print(backslash_string)"
   ]
  },
  {
   "cell_type": "markdown",
   "id": "da9006aa",
   "metadata": {},
   "source": [
    "## 4. The string \"Howl's Moving Castle\" is a correct value. Why isn't the single quote character in the word Howl's not escaped a problem?"
   ]
  },
  {
   "cell_type": "markdown",
   "id": "d56234e2",
   "metadata": {},
   "source": [
    "This is because Python allows us to use single quotes within double-quoted strings and vice versa without the need for escaping."
   ]
  },
  {
   "cell_type": "code",
   "execution_count": 5,
   "id": "a2e10f57",
   "metadata": {},
   "outputs": [
    {
     "name": "stdout",
     "output_type": "stream",
     "text": [
      "Howl's Moving Castle\n",
      "Howl's Moving Castle\n"
     ]
    }
   ],
   "source": [
    "# Using double-quoted string\n",
    "double_quoted_string = \"Howl's Moving Castle\"\n",
    "\n",
    "# Using single-quoted string\n",
    "single_quoted_string = 'Howl\\'s Moving Castle'\n",
    "\n",
    "print(double_quoted_string)\n",
    "print(single_quoted_string)"
   ]
  },
  {
   "cell_type": "markdown",
   "id": "22278b4f",
   "metadata": {},
   "source": [
    "## 5. How do you write a string of newlines if you don't want to use the n character?"
   ]
  },
  {
   "cell_type": "markdown",
   "id": "187323d6",
   "metadata": {},
   "source": [
    "- We can achieve this by using triple-quoted strings, which allow us to include newlines directly in the string without escaping them. \n",
    "\n",
    "- Triple-quoted strings can be enclosed in either triple single quotes ''' or triple double quotes \"\"\"."
   ]
  },
  {
   "cell_type": "code",
   "execution_count": 7,
   "id": "876c51e4",
   "metadata": {},
   "outputs": [
    {
     "name": "stdout",
     "output_type": "stream",
     "text": [
      "\n",
      "This is a\n",
      "multiline\n",
      "string with newlines.\n",
      "\n",
      "\n",
      "This is another\n",
      "multiline\n",
      "string with newlines.\n",
      "\n"
     ]
    }
   ],
   "source": [
    "# Using triple-quoted string with triple double quotes\n",
    "multiline_string = \"\"\"\n",
    "This is a\n",
    "multiline\n",
    "string with newlines.\n",
    "\"\"\"\n",
    "\n",
    "# Using triple-quoted string with triple single quotes\n",
    "another_multiline_string = '''\n",
    "This is another\n",
    "multiline\n",
    "string with newlines.\n",
    "'''\n",
    "\n",
    "print(multiline_string)\n",
    "print(another_multiline_string)\n"
   ]
  },
  {
   "cell_type": "code",
   "execution_count": 9,
   "id": "a1f3ee7e",
   "metadata": {},
   "outputs": [
    {
     "data": {
      "text/plain": [
       "'e'"
      ]
     },
     "execution_count": 9,
     "metadata": {},
     "output_type": "execute_result"
    }
   ],
   "source": [
    "'Hello, world!'[1]"
   ]
  },
  {
   "cell_type": "markdown",
   "id": "41c6a08f",
   "metadata": {},
   "source": [
    "## 6. What are the values of the given expressions?\n",
    "#### 'Hello, world!'[1]\n",
    "#### 'Hello, world!'[0:5]\n",
    "#### 'Hello, world!'[:5]\n",
    "#### 'Hello, world!'[3:]\n",
    "\n"
   ]
  },
  {
   "cell_type": "markdown",
   "id": "e1131a13",
   "metadata": {},
   "source": [
    "1. 'Hello, world!'[1]: This expression extracts the character at index 1 of the string. In Python, indexing starts at 0, so it will return the character at the second position, which is 'e'."
   ]
  },
  {
   "cell_type": "code",
   "execution_count": 10,
   "id": "a75a6694",
   "metadata": {},
   "outputs": [
    {
     "data": {
      "text/plain": [
       "'e'"
      ]
     },
     "execution_count": 10,
     "metadata": {},
     "output_type": "execute_result"
    }
   ],
   "source": [
    "'Hello, world!'[1]"
   ]
  },
  {
   "cell_type": "markdown",
   "id": "dc651352",
   "metadata": {},
   "source": [
    "2. 'Hello, world!'[0:5]: This expression is a slice that extracts characters from index 0 up to (but not including) index 5. It will return the substring 'Hello'."
   ]
  },
  {
   "cell_type": "code",
   "execution_count": 11,
   "id": "f069d282",
   "metadata": {},
   "outputs": [
    {
     "data": {
      "text/plain": [
       "'Hello'"
      ]
     },
     "execution_count": 11,
     "metadata": {},
     "output_type": "execute_result"
    }
   ],
   "source": [
    "'Hello, world!'[0:5]"
   ]
  },
  {
   "cell_type": "markdown",
   "id": "f832b6a2",
   "metadata": {},
   "source": [
    "3. 'Hello, world!'[:5]: This is also a slice, but without a specified start index. It starts from the beginning of the string and extracts characters up to (but not including) index 5. It will also return 'Hello'."
   ]
  },
  {
   "cell_type": "code",
   "execution_count": 12,
   "id": "2ac42d52",
   "metadata": {},
   "outputs": [
    {
     "data": {
      "text/plain": [
       "'Hello'"
      ]
     },
     "execution_count": 12,
     "metadata": {},
     "output_type": "execute_result"
    }
   ],
   "source": [
    "'Hello, world!'[:5]"
   ]
  },
  {
   "cell_type": "markdown",
   "id": "f03d7747",
   "metadata": {},
   "source": [
    "4. 'Hello, world!'[3:]: This slice starts from index 3 and goes until the end of the string. It will return the substring 'lo, world!'."
   ]
  },
  {
   "cell_type": "code",
   "execution_count": 14,
   "id": "5b9ac86a",
   "metadata": {},
   "outputs": [
    {
     "data": {
      "text/plain": [
       "'lo, world!'"
      ]
     },
     "execution_count": 14,
     "metadata": {},
     "output_type": "execute_result"
    }
   ],
   "source": [
    "'Hello, world!'[3:]"
   ]
  },
  {
   "cell_type": "markdown",
   "id": "fd0b1b9d",
   "metadata": {},
   "source": [
    "## 7. What are the values of the following expressions?\n",
    "#####  'Hello'.upper()\n",
    "#####  'Hello'.upper().isupper()\n",
    "#####  'Hello'.upper().lower()"
   ]
  },
  {
   "cell_type": "code",
   "execution_count": 15,
   "id": "ba8f8f1c",
   "metadata": {},
   "outputs": [
    {
     "data": {
      "text/plain": [
       "'HELLO'"
      ]
     },
     "execution_count": 15,
     "metadata": {},
     "output_type": "execute_result"
    }
   ],
   "source": [
    "'Hello'.upper() # returns 'HELLO'  (converts all characters in the string to uppercase)"
   ]
  },
  {
   "cell_type": "code",
   "execution_count": 16,
   "id": "270e15aa",
   "metadata": {},
   "outputs": [
    {
     "data": {
      "text/plain": [
       "True"
      ]
     },
     "execution_count": 16,
     "metadata": {},
     "output_type": "execute_result"
    }
   ],
   "source": [
    "'Hello'.upper().isupper() # returns True (checks if all characters in the string are uppercase)"
   ]
  },
  {
   "cell_type": "code",
   "execution_count": 18,
   "id": "78962150",
   "metadata": {},
   "outputs": [
    {
     "data": {
      "text/plain": [
       "'hello'"
      ]
     },
     "execution_count": 18,
     "metadata": {},
     "output_type": "execute_result"
    }
   ],
   "source": [
    "'Hello'.upper().lower() # returns 'hello' (onverts all characters in the string to lowercase)"
   ]
  },
  {
   "cell_type": "markdown",
   "id": "ca55ab98",
   "metadata": {},
   "source": [
    "## 8. What are the values of the following expressions?\n",
    "#####  'Remember, remember, the fifth of July.'.split()\n",
    "#####  '-'.join('There can only one.'.split())"
   ]
  },
  {
   "cell_type": "code",
   "execution_count": 20,
   "id": "439a2fb6",
   "metadata": {},
   "outputs": [
    {
     "data": {
      "text/plain": [
       "['Remember,', 'remember,', 'the', 'fifth', 'of', 'July.']"
      ]
     },
     "execution_count": 20,
     "metadata": {},
     "output_type": "execute_result"
    }
   ],
   "source": [
    "'Remember, remember, the fifth of July.'.split()\n",
    "\n",
    "# This expression uses the split() method with no arguments, \n",
    "# it splits the string into a list of substrings based on whitespace (spaces and tabs). \n",
    "# It returns the list ['Remember,', 'remember,', 'the', 'fifth', 'of', 'July.']"
   ]
  },
  {
   "cell_type": "markdown",
   "id": "00985543",
   "metadata": {},
   "source": [
    "**'-'.join('There can only one.'.split()):** In this expression, we first apply the split() method to the string 'There can only one.', which splits the string into a list of substrings based on whitespace. It returns the following list:\n",
    "\n",
    "['There', 'can', 'only', 'one.']\n",
    "\n",
    "Then, we use the join() method to join the elements of this list using the hyphen '-' as the separator. It returns the following string:\n",
    "\n",
    "'There-can-only-one.'\n"
   ]
  },
  {
   "cell_type": "code",
   "execution_count": 22,
   "id": "789554b1",
   "metadata": {},
   "outputs": [
    {
     "data": {
      "text/plain": [
       "['There', 'can', 'only', 'one.']"
      ]
     },
     "execution_count": 22,
     "metadata": {},
     "output_type": "execute_result"
    }
   ],
   "source": [
    "'There can only one.'.split()"
   ]
  },
  {
   "cell_type": "code",
   "execution_count": 23,
   "id": "56e42be0",
   "metadata": {},
   "outputs": [
    {
     "data": {
      "text/plain": [
       "'There-can-only-one.'"
      ]
     },
     "execution_count": 23,
     "metadata": {},
     "output_type": "execute_result"
    }
   ],
   "source": [
    "'-'.join('There can only one.'.split())"
   ]
  },
  {
   "cell_type": "markdown",
   "id": "edec3f9f",
   "metadata": {},
   "source": [
    "## 9. What are the methods for right-justifying, left-justifying, and centering a string?"
   ]
  },
  {
   "cell_type": "markdown",
   "id": "da4ece76",
   "metadata": {},
   "source": [
    "1. **Right-Justify**: To right-justify a string within a specified width, you can use the `str.rjust(width, fillchar)` method. It pads the string on the left with a specified `fillchar` (default is a space) to achieve the desired width."
   ]
  },
  {
   "cell_type": "code",
   "execution_count": 25,
   "id": "64f53b3f",
   "metadata": {},
   "outputs": [
    {
     "name": "stdout",
     "output_type": "stream",
     "text": [
      "     Hello\n"
     ]
    }
   ],
   "source": [
    "text = 'Hello'\n",
    "width = 10\n",
    "justified_text = text.rjust(width)\n",
    "print(justified_text)"
   ]
  },
  {
   "cell_type": "markdown",
   "id": "0ae03cac",
   "metadata": {},
   "source": [
    "2. **Left-Justify**: To left-justify a string within a specified width, you can use the `str.ljust(width, fillchar)` method. It pads the string on the right with a specified `fillchar` (default is a space) to achieve the desired width."
   ]
  },
  {
   "cell_type": "code",
   "execution_count": 28,
   "id": "a11c099b",
   "metadata": {},
   "outputs": [
    {
     "name": "stdout",
     "output_type": "stream",
     "text": [
      "Hello     \n"
     ]
    }
   ],
   "source": [
    "text = 'Hello'\n",
    "width = 10\n",
    "justified_text = text.ljust(width)\n",
    "print(justified_text)"
   ]
  },
  {
   "cell_type": "markdown",
   "id": "202e46ef",
   "metadata": {},
   "source": [
    "3. **Center**: To center a string within a specified width, you can use the `str.center(width, fillchar)` method. It pads the string on both sides with a specified `fillchar` (default is a space) to achieve the desired width, with the string centered."
   ]
  },
  {
   "cell_type": "code",
   "execution_count": 32,
   "id": "1b947982",
   "metadata": {},
   "outputs": [
    {
     "name": "stdout",
     "output_type": "stream",
     "text": [
      "  Hello   \n"
     ]
    }
   ],
   "source": [
    "text = 'Hello'\n",
    "width = 10\n",
    "centered_text = text.center(width)\n",
    "print(centered_text)"
   ]
  },
  {
   "cell_type": "markdown",
   "id": "9ea6265d",
   "metadata": {},
   "source": [
    "## 10. What is the best way to remove whitespace characters from the start or end?"
   ]
  },
  {
   "cell_type": "markdown",
   "id": "0d9cab43",
   "metadata": {},
   "source": [
    "The best way to remove whitespace characters from the start or end of a string in Python is to use the str.strip() method. This method removes leading (start) and trailing (end) whitespace characters from a string."
   ]
  },
  {
   "cell_type": "code",
   "execution_count": 38,
   "id": "f3c69b42",
   "metadata": {},
   "outputs": [
    {
     "name": "stdout",
     "output_type": "stream",
     "text": [
      "Hello, World!   \n"
     ]
    }
   ],
   "source": [
    "# To remove leading whitespace (whitespace at the start of the string):\n",
    "\n",
    "text = \"   Hello, World!   \"\n",
    "stripped_text = text.lstrip()\n",
    "print(stripped_text)  # output: 'Hello, World!   '"
   ]
  },
  {
   "cell_type": "code",
   "execution_count": 39,
   "id": "07b42f22",
   "metadata": {},
   "outputs": [
    {
     "name": "stdout",
     "output_type": "stream",
     "text": [
      "   Hello, World!\n"
     ]
    }
   ],
   "source": [
    "# To remove trailing whitespace (whitespace at the end of the string):\n",
    "\n",
    "text = \"   Hello, World!   \"\n",
    "stripped_text = text.rstrip()\n",
    "print(stripped_text)     # output: '   Hello, World!'"
   ]
  },
  {
   "cell_type": "code",
   "execution_count": 40,
   "id": "6835be24",
   "metadata": {},
   "outputs": [
    {
     "name": "stdout",
     "output_type": "stream",
     "text": [
      "Hello, World!\n"
     ]
    }
   ],
   "source": [
    "# To remove both leading and trailing whitespace:\n",
    "\n",
    "text = \"   Hello, World!   \"\n",
    "stripped_text = text.strip()\n",
    "print(stripped_text)   # output 'Hello, World!'"
   ]
  },
  {
   "cell_type": "code",
   "execution_count": null,
   "id": "70162495",
   "metadata": {},
   "outputs": [],
   "source": []
  },
  {
   "cell_type": "code",
   "execution_count": null,
   "id": "9a8eb7df",
   "metadata": {},
   "outputs": [],
   "source": []
  }
 ],
 "metadata": {
  "kernelspec": {
   "display_name": "Python 3 (ipykernel)",
   "language": "python",
   "name": "python3"
  },
  "language_info": {
   "codemirror_mode": {
    "name": "ipython",
    "version": 3
   },
   "file_extension": ".py",
   "mimetype": "text/x-python",
   "name": "python",
   "nbconvert_exporter": "python",
   "pygments_lexer": "ipython3",
   "version": "3.9.7"
  }
 },
 "nbformat": 4,
 "nbformat_minor": 5
}

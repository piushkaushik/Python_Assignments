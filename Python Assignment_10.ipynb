{
 "cells": [
  {
   "cell_type": "markdown",
   "id": "84157363",
   "metadata": {},
   "source": [
    "# 1. How do you distinguish between `shutil.copy()` and `shutil.copytree()`?"
   ]
  },
  {
   "cell_type": "markdown",
   "id": "3ff12581",
   "metadata": {},
   "source": [
    "**Answer:**"
   ]
  },
  {
   "cell_type": "markdown",
   "id": "444ffc36",
   "metadata": {},
   "source": [
    "`shutil.copy()` is used for copying individual files, while `shutil.copytree()` is used for copying entire directories and their contents. The choice between them depends on whether we need to copy a single file or a directory structure."
   ]
  },
  {
   "cell_type": "markdown",
   "id": "606916ac",
   "metadata": {},
   "source": [
    "# 2. What function is used to rename files?"
   ]
  },
  {
   "cell_type": "markdown",
   "id": "8c2c9c41",
   "metadata": {},
   "source": [
    "**Answer:**"
   ]
  },
  {
   "cell_type": "markdown",
   "id": "13a79f4d",
   "metadata": {},
   "source": [
    "The function used to rename files in Python is `os.rename()`"
   ]
  },
  {
   "cell_type": "code",
   "execution_count": 7,
   "id": "36a652fd",
   "metadata": {},
   "outputs": [],
   "source": [
    "import os\n",
    "\n",
    "# Rename a file from 'Downloads\\\\Python Assignment_8.ipynb' to 'new_file.ipynb'\n",
    "os.rename('Downloads\\\\Python Assignment_8.ipynb', 'new_file.ipynb')"
   ]
  },
  {
   "cell_type": "markdown",
   "id": "ed85edf6",
   "metadata": {},
   "source": [
    "# 3. What is the difference between the delete functions in the send2trash and shutil modules?"
   ]
  },
  {
   "cell_type": "markdown",
   "id": "a0a47834",
   "metadata": {},
   "source": [
    "**Answer**"
   ]
  },
  {
   "cell_type": "markdown",
   "id": "a7cbbd3a",
   "metadata": {},
   "source": [
    "The main difference is that `send2trash` moves files and directories to the system's trash or recycle bin for potential recovery, while `shutil` functions permanently delete files and directories."
   ]
  },
  {
   "cell_type": "markdown",
   "id": "62c7917b",
   "metadata": {},
   "source": [
    "# 4. ZipFile objects have a `close()` method just like File objects’ `close()` method. What ZipFile method is equivalent to File objects’ `open()` method?"
   ]
  },
  {
   "cell_type": "markdown",
   "id": "c90dab08",
   "metadata": {},
   "source": [
    "**Answer**"
   ]
  },
  {
   "cell_type": "markdown",
   "id": "cc17b5f1",
   "metadata": {},
   "source": [
    "The equivalent method to a File object's `open()` method for a ZipFile object is the `zipfile.ZipFile()` constructor."
   ]
  },
  {
   "cell_type": "markdown",
   "id": "d125e944",
   "metadata": {},
   "source": [
    "# 5. Create a programme that searches a folder tree for files with a certain file extension (such as .pdf or .jpg). Copy these files from whatever location they are in to a new folder."
   ]
  },
  {
   "cell_type": "markdown",
   "id": "b109bdc6",
   "metadata": {},
   "source": [
    "**Answer:**"
   ]
  },
  {
   "cell_type": "code",
   "execution_count": 23,
   "id": "7ad28af5",
   "metadata": {},
   "outputs": [
    {
     "name": "stdout",
     "output_type": "stream",
     "text": [
      "Copy operation completed.\n"
     ]
    }
   ],
   "source": [
    "import os\n",
    "import shutil\n",
    "\n",
    "def copy_files_by_extension(source_folder, destination_folder, file_extension):\n",
    "    try:\n",
    "        # Create the destination folder if it doesn't exist\n",
    "        if not os.path.exists(destination_folder):\n",
    "            os.makedirs(destination_folder)\n",
    "\n",
    "        # Walk through the source folder and its subdirectories\n",
    "        for foldername, subfolders, filenames in os.walk(source_folder):\n",
    "            for filename in filenames:\n",
    "                # Check if the file has the desired extension\n",
    "                if filename.endswith(file_extension):\n",
    "                    source_file = os.path.join(foldername, filename)\n",
    "                    destination_file = os.path.join(destination_folder, filename)\n",
    "\n",
    "                    # Copy the file to the destination folder\n",
    "                    shutil.copy2(source_file, destination_file)\n",
    "                    print(f\"Copied: {source_file} --> {destination_file}\")\n",
    "\n",
    "        print(\"Copy operation completed.\")\n",
    "    except Exception as e:\n",
    "        print(f\"An error occurred: {str(e)}\")\n",
    "\n",
    "if __name__ == \"__main__\":\n",
    "    # Specify the source folder, destination folder, and file extension\n",
    "    source_folder = \"/path/to/source_folder\"  # Replace with your source folder path\n",
    "    destination_folder = \"/path/to/destination_folder\"  # Replace with your destination folder path\n",
    "    file_extension = \".pdf\"  # Specify the file extension you want to search for\n",
    "\n",
    "    # Call the function to copy files\n",
    "    copy_files_by_extension(source_folder, destination_folder, file_extension)\n"
   ]
  },
  {
   "cell_type": "code",
   "execution_count": null,
   "id": "1f2f2e27",
   "metadata": {},
   "outputs": [],
   "source": []
  },
  {
   "cell_type": "code",
   "execution_count": null,
   "id": "72f5894d",
   "metadata": {},
   "outputs": [],
   "source": []
  },
  {
   "cell_type": "code",
   "execution_count": null,
   "id": "1327de52",
   "metadata": {},
   "outputs": [],
   "source": []
  },
  {
   "cell_type": "code",
   "execution_count": null,
   "id": "08d6b294",
   "metadata": {},
   "outputs": [],
   "source": []
  }
 ],
 "metadata": {
  "kernelspec": {
   "display_name": "Python 3 (ipykernel)",
   "language": "python",
   "name": "python3"
  },
  "language_info": {
   "codemirror_mode": {
    "name": "ipython",
    "version": 3
   },
   "file_extension": ".py",
   "mimetype": "text/x-python",
   "name": "python",
   "nbconvert_exporter": "python",
   "pygments_lexer": "ipython3",
   "version": "3.9.7"
  }
 },
 "nbformat": 4,
 "nbformat_minor": 5
}

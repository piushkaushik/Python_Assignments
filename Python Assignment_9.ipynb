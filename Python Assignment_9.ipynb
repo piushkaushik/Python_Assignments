{
 "cells": [
  {
   "cell_type": "markdown",
   "id": "0a0a55de",
   "metadata": {},
   "source": [
    "# 1. To what does a relative path refer?"
   ]
  },
  {
   "cell_type": "markdown",
   "id": "d580e0b0",
   "metadata": {},
   "source": [
    "**Answer:**"
   ]
  },
  {
   "cell_type": "markdown",
   "id": "0d65f16c",
   "metadata": {},
   "source": [
    "A relative file path is interpreted from the perspective your current working directory. If you use a relative file path from the wrong directory, then the path will refer to a different file than you intend, or it will refer to no file at all."
   ]
  },
  {
   "cell_type": "markdown",
   "id": "adc32392",
   "metadata": {},
   "source": [
    "# 2. What does an absolute path start with your operating system?"
   ]
  },
  {
   "cell_type": "markdown",
   "id": "7bd03a49",
   "metadata": {},
   "source": [
    "**Answer:**"
   ]
  },
  {
   "cell_type": "markdown",
   "id": "f5e2a746",
   "metadata": {},
   "source": [
    "An absolute path is defined as specifying the location of a file or directory from the root directory(/)."
   ]
  },
  {
   "cell_type": "markdown",
   "id": "2e353b84",
   "metadata": {},
   "source": [
    "- In Linux and macOS (Unix-like systems), an absolute path starts with the root directory `/`. Like `/home/user/documents/file.txt` or `/var/www/index.html`\n",
    " \n",
    "- In Windows, an absolute path often starts with a drive letter (e.g., C:\\, D:\\) followed by a backslash `\\`. Like `C:\\Users\\Username\\Documents\\file.txt` or `D:\\Projects\\project_folder\\script.py`"
   ]
  },
  {
   "cell_type": "markdown",
   "id": "3864d8ef",
   "metadata": {},
   "source": [
    "# 3. What do the functions `os.getcwd()` and `os.chdir()` do?"
   ]
  },
  {
   "cell_type": "markdown",
   "id": "30750eca",
   "metadata": {},
   "source": [
    "**Answer:**"
   ]
  },
  {
   "cell_type": "markdown",
   "id": "6e5d1579",
   "metadata": {},
   "source": [
    "The functions `os.getcwd()` and `os.chdir()` are part of the os module and are used to interact with the file system and manage the current working directory of a Python script or program."
   ]
  },
  {
   "cell_type": "markdown",
   "id": "aec826f8",
   "metadata": {},
   "source": [
    "**Use of os.getcwd()**:"
   ]
  },
  {
   "cell_type": "code",
   "execution_count": 4,
   "id": "bd8e12d3",
   "metadata": {},
   "outputs": [
    {
     "name": "stdout",
     "output_type": "stream",
     "text": [
      "Current Working Directory: C:\\Users\\piush\n"
     ]
    }
   ],
   "source": [
    "import os\n",
    "\n",
    "current_directory = os.getcwd()\n",
    "print(\"Current Working Directory:\", current_directory)\n",
    "\n",
    "#It allows you to retrieve the path of the directory where your script is located or where it's currently working."
   ]
  },
  {
   "cell_type": "markdown",
   "id": "31ce6287",
   "metadata": {},
   "source": [
    "**Use of os.chdir()**:"
   ]
  },
  {
   "cell_type": "markdown",
   "id": "0b7d3758",
   "metadata": {},
   "source": [
    "    To Change the current working directory to a new path\n",
    "    \n",
    "`new_directory = \"/path/to/new_directory\"`\n",
    "\n",
    "`os.chdir(new_directory)`\n",
    "\n",
    "    Now, the current working directory is the new_directory"
   ]
  },
  {
   "cell_type": "markdown",
   "id": "e56b2794",
   "metadata": {},
   "source": [
    "# 4. What are the `.` and `..` folders?"
   ]
  },
  {
   "cell_type": "markdown",
   "id": "9b8eee57",
   "metadata": {},
   "source": [
    "**Answer:**"
   ]
  },
  {
   "cell_type": "markdown",
   "id": "a5311a69",
   "metadata": {},
   "source": [
    "- The `.` (dot) folder represents the current directory or the directory you're currently in."
   ]
  },
  {
   "cell_type": "markdown",
   "id": "8db804db",
   "metadata": {},
   "source": [
    "- The `..` (dot-dot) folder represents the parent directory or the directory one level above the current directory."
   ]
  },
  {
   "cell_type": "markdown",
   "id": "9ecb20f5",
   "metadata": {},
   "source": [
    "# 5. In `C:\\bacon\\eggs\\spam.txt`, which part is the dir name, and which part is the base name?"
   ]
  },
  {
   "cell_type": "markdown",
   "id": "3e336e71",
   "metadata": {},
   "source": [
    "**Answer:**"
   ]
  },
  {
   "cell_type": "markdown",
   "id": "dfd9edf8",
   "metadata": {},
   "source": [
    "- Directory Name: C:\\bacon\\eggs\n",
    "\n",
    "- Base Name: spam.txt"
   ]
  },
  {
   "cell_type": "markdown",
   "id": "824e6490",
   "metadata": {},
   "source": [
    "# 6. What are the three “mode” arguments that can be passed to the open() function?"
   ]
  },
  {
   "cell_type": "markdown",
   "id": "9148e636",
   "metadata": {},
   "source": [
    "**Answer:**"
   ]
  },
  {
   "cell_type": "markdown",
   "id": "7caa9a60",
   "metadata": {},
   "source": [
    "1. 'r' (Read Mode):\n",
    "    - 'r' is used to open the file in read mode.\n",
    "    - It allows you to read the contents of the file but does not allow you to modify or write to it.\n",
    "    - If the file does not exist, it will raise a FileNotFoundError."
   ]
  },
  {
   "cell_type": "code",
   "execution_count": 11,
   "id": "bd9002e9",
   "metadata": {},
   "outputs": [],
   "source": [
    "with open('Downloads\\Python Assignment_8.ipynb', 'r') as file:\n",
    "    content = file.read()"
   ]
  },
  {
   "cell_type": "markdown",
   "id": "c6564d7b",
   "metadata": {},
   "source": [
    "2. 'w' (Write Mode):\n",
    "    - 'w' is used to open the file in write mode.\n",
    "    - It allows you to create a new file or overwrite the contents of an existing file.\n",
    "    - If the file exists, its previous content will be erased.\n",
    "    - If the file does not exist, a new file will be created."
   ]
  },
  {
   "cell_type": "code",
   "execution_count": 12,
   "id": "914fd4c4",
   "metadata": {},
   "outputs": [],
   "source": [
    "with open('Downloads\\Python Assignment_8.ipynb', 'w') as file:\n",
    "    file.write('This is a new file.')"
   ]
  },
  {
   "cell_type": "markdown",
   "id": "dd88fc07",
   "metadata": {},
   "source": [
    "3. 'a' (Append Mode):\n",
    "    - 'a' is used to open the file in append mode.\n",
    "    - It allows you to open an existing file for writing and append new data to the end of the file.\n",
    "    - If the file does not exist, a new file will be created.\n",
    "    - Existing content is preserved, and new data is added to the end."
   ]
  },
  {
   "cell_type": "code",
   "execution_count": 13,
   "id": "ab3f3baf",
   "metadata": {},
   "outputs": [],
   "source": [
    "with open('Downloads\\Python Assignment_8.ipynb', 'a') as file:\n",
    "    file.write('This is appended text.')"
   ]
  },
  {
   "cell_type": "markdown",
   "id": "171b6c74",
   "metadata": {},
   "source": [
    "# 7. What happens if an existing file is opened in write mode?"
   ]
  },
  {
   "cell_type": "markdown",
   "id": "f501d545",
   "metadata": {},
   "source": [
    "**Answer:**"
   ]
  },
  {
   "cell_type": "markdown",
   "id": "7463fe3e",
   "metadata": {},
   "source": [
    "If we open an existing file in write mode , the previous data will be erased , and the file object will be positioned at the beginning of the file."
   ]
  },
  {
   "cell_type": "markdown",
   "id": "c2356959",
   "metadata": {},
   "source": [
    "# 8. How do you tell the difference between read() and readlines()?"
   ]
  },
  {
   "cell_type": "markdown",
   "id": "b02d1845",
   "metadata": {},
   "source": [
    "**Answer:**"
   ]
  },
  {
   "cell_type": "markdown",
   "id": "24f79603",
   "metadata": {},
   "source": [
    "- `read()` returns the entire file content as a single string.\n",
    "- `readlines()` returns the file content as a list of strings, with each string representing a line from the file."
   ]
  },
  {
   "cell_type": "code",
   "execution_count": 16,
   "id": "4f3dc85f",
   "metadata": {},
   "outputs": [],
   "source": [
    "# Example - read():\n",
    "\n",
    "with open('Downloads\\Python Assignment_8.ipynb', 'r') as file:\n",
    "    content = file.read()"
   ]
  },
  {
   "cell_type": "code",
   "execution_count": 19,
   "id": "63217cc1",
   "metadata": {},
   "outputs": [
    {
     "data": {
      "text/plain": [
       "'This is a new file.This is appended text.'"
      ]
     },
     "execution_count": 19,
     "metadata": {},
     "output_type": "execute_result"
    }
   ],
   "source": [
    "content"
   ]
  },
  {
   "cell_type": "code",
   "execution_count": 17,
   "id": "1f69d2c0",
   "metadata": {},
   "outputs": [],
   "source": [
    "# Example - readlines():\n",
    "\n",
    "with open('Downloads\\Python Assignment_8.ipynb', 'r') as file:\n",
    "    lines = file.readlines()"
   ]
  },
  {
   "cell_type": "code",
   "execution_count": 18,
   "id": "7b2bfa81",
   "metadata": {},
   "outputs": [
    {
     "data": {
      "text/plain": [
       "['This is a new file.This is appended text.']"
      ]
     },
     "execution_count": 18,
     "metadata": {},
     "output_type": "execute_result"
    }
   ],
   "source": [
    "lines"
   ]
  },
  {
   "cell_type": "markdown",
   "id": "5bd35d00",
   "metadata": {},
   "source": [
    "# 9. What data structure does a shelf value resemble?"
   ]
  },
  {
   "cell_type": "markdown",
   "id": "c978f3c8",
   "metadata": {},
   "source": [
    "A shelf value resembles a dictionary value; it has keys and values, along with `keys()` and `values()` methods that work similarly to the dictionary methods of the same names."
   ]
  },
  {
   "cell_type": "code",
   "execution_count": 20,
   "id": "ba34195f",
   "metadata": {},
   "outputs": [
    {
     "name": "stdout",
     "output_type": "stream",
     "text": [
      "Alice\n",
      "30\n"
     ]
    }
   ],
   "source": [
    "import shelve\n",
    "\n",
    "# Create or open a shelf file\n",
    "shelf = shelve.open('my_shelf')\n",
    "\n",
    "# Store data\n",
    "shelf['name'] = 'Alice'\n",
    "shelf['age'] = 30\n",
    "\n",
    "# Retrieve data\n",
    "print(shelf['name'])\n",
    "print(shelf['age'])\n",
    "\n",
    "# Close the shelf\n",
    "shelf.close()\n"
   ]
  },
  {
   "cell_type": "code",
   "execution_count": null,
   "id": "71893c79",
   "metadata": {},
   "outputs": [],
   "source": []
  }
 ],
 "metadata": {
  "kernelspec": {
   "display_name": "Python 3 (ipykernel)",
   "language": "python",
   "name": "python3"
  },
  "language_info": {
   "codemirror_mode": {
    "name": "ipython",
    "version": 3
   },
   "file_extension": ".py",
   "mimetype": "text/x-python",
   "name": "python",
   "nbconvert_exporter": "python",
   "pygments_lexer": "ipython3",
   "version": "3.9.7"
  }
 },
 "nbformat": 4,
 "nbformat_minor": 5
}

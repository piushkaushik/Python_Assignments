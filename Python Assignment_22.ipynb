{
 "cells": [
  {
   "cell_type": "markdown",
   "id": "42c59eb2",
   "metadata": {},
   "source": [
    "# 1. What is the result of the code, and explain?\n",
    "\n",
    "#### >>>X = 'iNeuron'\n",
    "#### >>>def func():\n",
    "####    print(X)\n",
    "#### >>>func()"
   ]
  },
  {
   "cell_type": "markdown",
   "id": "40e37191",
   "metadata": {},
   "source": [
    "**Ans:**"
   ]
  },
  {
   "cell_type": "code",
   "execution_count": 5,
   "id": "a1e7ffa8",
   "metadata": {},
   "outputs": [
    {
     "name": "stdout",
     "output_type": "stream",
     "text": [
      "iNeuron\n"
     ]
    }
   ],
   "source": [
    "X = 'iNeuron'\n",
    "\n",
    "def func():\n",
    "    print(X)\n",
    "func()"
   ]
  },
  {
   "cell_type": "markdown",
   "id": "a7e92245",
   "metadata": {},
   "source": [
    "- It is printing the value of X, which is 'iNeuron', because the `func` function has access to the variable X defined in the global scope."
   ]
  },
  {
   "cell_type": "markdown",
   "id": "8ed6fa87",
   "metadata": {},
   "source": [
    "# 2. What is the result of the code, and explain?\n",
    "\n",
    "#### >>>X = 'iNeuron'\n",
    "#### >>>def func():\n",
    "#### X = 'NI!'\n",
    "\n",
    "#### >>>func()\n",
    "#### >>>print(X)"
   ]
  },
  {
   "cell_type": "markdown",
   "id": "11ec2c73",
   "metadata": {},
   "source": [
    "**Ans:**"
   ]
  },
  {
   "cell_type": "code",
   "execution_count": 8,
   "id": "fe7d2d2d",
   "metadata": {},
   "outputs": [
    {
     "name": "stdout",
     "output_type": "stream",
     "text": [
      "iNeuron\n"
     ]
    }
   ],
   "source": [
    "X = 'iNeuron'\n",
    "def func():\n",
    "    X = 'NI!'\n",
    "func()\n",
    "print(X)"
   ]
  },
  {
   "cell_type": "markdown",
   "id": "8ab7bad5",
   "metadata": {},
   "source": [
    "**Explanation:**"
   ]
  },
  {
   "cell_type": "markdown",
   "id": "5cf638ec",
   "metadata": {},
   "source": [
    "1. A global variable `X` is assigned the value `'iNeuron'`.\n",
    "2. A function `func` is defined, which contains a local variable `X` with the value `'NI!'`.\n",
    "3. The `func()` function is called.\n",
    "4. Local variable `X` in `func` goes out of scope after the function call.\n",
    "5. `print(X)` outside the function refers to the global `X`, which remains `'iNeuron'`.\n",
    "6. Therefore, `print(X)` prints `'iNeuron'`, not `'NI!'`."
   ]
  },
  {
   "cell_type": "markdown",
   "id": "a5d19dbc",
   "metadata": {},
   "source": [
    "- In Python, variables defined inside a function have local scope and do not affect variables with the same name in the global scope unless explicitly modified using the global keyword."
   ]
  },
  {
   "cell_type": "markdown",
   "id": "d82b1d20",
   "metadata": {},
   "source": [
    "# 3. What does this code print, and why?\n",
    "\n",
    "#### >>>X = 'iNeuron'\n",
    "#### >>>def func():\n",
    "#### X = 'NI'\n",
    "#### print(X)\n",
    "\n",
    "#### >>>func()\n",
    "#### >>>print(X)"
   ]
  },
  {
   "cell_type": "markdown",
   "id": "1b16dd2e",
   "metadata": {},
   "source": [
    "**Ans:**"
   ]
  },
  {
   "cell_type": "code",
   "execution_count": 10,
   "id": "5b8ef6d5",
   "metadata": {},
   "outputs": [
    {
     "name": "stdout",
     "output_type": "stream",
     "text": [
      "NI\n",
      "iNeuron\n"
     ]
    }
   ],
   "source": [
    "X = 'iNeuron'\n",
    "def func():\n",
    "    X = 'NI'\n",
    "    print(X)\n",
    "func()\n",
    "print(X)"
   ]
  },
  {
   "cell_type": "markdown",
   "id": "fb74a53f",
   "metadata": {},
   "source": [
    "- This code prints `'NI'` when inside the function `func()` and `'iNeuron'` when outside the function, demonstrating variable scoping."
   ]
  },
  {
   "cell_type": "markdown",
   "id": "702e2587",
   "metadata": {},
   "source": [
    "1. A global variable `X` is assigned the value `'iNeuron'`.\n",
    "2. A function `func` is defined, which contains a local variable `X` with the value `'NI'`.\n",
    "3. Inside the `func()` function, `print(X)` prints the local variable `X`, which is `'NI'`.\n",
    "4. After the `func()` function call, when `print(X)` is called outside the function, it prints the global variable `X`, which remains `'iNeuron'`."
   ]
  },
  {
   "cell_type": "markdown",
   "id": "4803be14",
   "metadata": {},
   "source": [
    "# 4. What output does this code produce? Why?\n",
    "\n",
    "#### >>>X = 'iNeuron'\n",
    "#### >>> def func():\n",
    "#### global X\n",
    "#### X = 'NI'\n",
    "\n",
    "#### >>> func()\n",
    "#### >>> print(X)"
   ]
  },
  {
   "cell_type": "markdown",
   "id": "ec0de00d",
   "metadata": {},
   "source": [
    "**Ans:**"
   ]
  },
  {
   "cell_type": "code",
   "execution_count": 12,
   "id": "67b9a5b7",
   "metadata": {},
   "outputs": [
    {
     "name": "stdout",
     "output_type": "stream",
     "text": [
      "NI\n"
     ]
    }
   ],
   "source": [
    "X = 'iNeuron'\n",
    "def func():\n",
    "    global X\n",
    "    X = 'NI'\n",
    "func()\n",
    "print(X)"
   ]
  },
  {
   "cell_type": "markdown",
   "id": "b91ba36b",
   "metadata": {},
   "source": [
    "- This code produces the output `'NI'` because the `global` keyword inside the function `func()` tells Python to use the global variable `X` instead of creating a new local variable `X`."
   ]
  },
  {
   "cell_type": "markdown",
   "id": "b33bff7a",
   "metadata": {},
   "source": [
    "# 5. What about this code—what’s the output, and why?\n",
    "\n",
    "#### >>> X = 'iNeuron'\n",
    "#### >>> def func():\n",
    "#### X = 'NI'\n",
    "#### def nested():\n",
    "#### print(X)\n",
    "#### nested()\n",
    "\n",
    "#### >>> func()\n",
    "#### >>> X"
   ]
  },
  {
   "cell_type": "markdown",
   "id": "b32c1c95",
   "metadata": {},
   "source": [
    "**Ans:**"
   ]
  },
  {
   "cell_type": "code",
   "execution_count": 17,
   "id": "11d1de33",
   "metadata": {},
   "outputs": [
    {
     "data": {
      "text/plain": [
       "'iNeuron'"
      ]
     },
     "execution_count": 17,
     "metadata": {},
     "output_type": "execute_result"
    }
   ],
   "source": [
    "X = 'iNeuron'\n",
    "def func():\n",
    "    X = 'NI'\n",
    "    def nested():\n",
    "        print(X)\n",
    "        nested()\n",
    "func()\n",
    "X\n",
    "        "
   ]
  },
  {
   "cell_type": "markdown",
   "id": "017562fc",
   "metadata": {},
   "source": [
    "    The output of this code is `'iNeuron'`.\n",
    "\n",
    "1. The `func()` function is defined, which contains a local variable `X` with the value `'NI'`.\n",
    "2. Inside `func()`, another function `nested()` is defined, which attempts to print the variable `X`.\n",
    "3. When `func()` is called, it invokes `nested()`. Since `nested()` doesn't have its own `X` variable, it looks for `X` in its enclosing scope, which is the `func()` function.\n",
    "4. Inside the `func()` function, the `X` variable is `'NI'`, so when `nested()` prints `X`, it prints `'NI'`.\n",
    "\n",
    "However, the global variable `X` (which is `'iNeuron'`) is not modified by the `func()` or `nested()` functions, so when we print `X` outside of the functions, it retains its original value of `'iNeuron'`."
   ]
  },
  {
   "cell_type": "markdown",
   "id": "8e15e0fd",
   "metadata": {},
   "source": [
    "# 6. How about this code: what is its output in Python 3, and explain?\n",
    "\n",
    "#### >>> def func():\n",
    "#### X = 'NI'\n",
    "#### def nested():\n",
    "#### nonlocal X\n",
    "#### X = 'Spam'\n",
    "#### nested()\n",
    "#### print(X)\n",
    "\n",
    "#### >>> func()"
   ]
  },
  {
   "cell_type": "markdown",
   "id": "9b5f2f22",
   "metadata": {},
   "source": [
    "**Ans:**"
   ]
  },
  {
   "cell_type": "code",
   "execution_count": 22,
   "id": "7e8858d6",
   "metadata": {},
   "outputs": [],
   "source": [
    "def func():\n",
    "    X = 'NI'\n",
    "    def nested():\n",
    "        nonlocal X\n",
    "        X = 'Spam'\n",
    "        nested()\n",
    "        print(X)\n",
    "func()"
   ]
  },
  {
   "cell_type": "markdown",
   "id": "bfe663cb",
   "metadata": {},
   "source": [
    "1. The `func()` function is defined.\n",
    "2. Inside `func()`, there is another function called `nested()`.\n",
    "3. In `nested()`, the `nonlocal` keyword is used to indicate that `X` is a variable from the nearest enclosing scope (which is `func()` in this case). It's used correctly to modify the `X` variable from `func()` inside the `nested()` function.\n",
    "4. The `nested()` function is called within `func()`.\n",
    "5. When `nested()` is called, it changes the value of `X` to `'Spam'` in the nearest enclosing scope (`func()`).\n",
    "6. Finally, `print(X)` within `func()` prints the value of `X`, which is now `'Spam'`."
   ]
  },
  {
   "cell_type": "code",
   "execution_count": null,
   "id": "3a48f90c",
   "metadata": {},
   "outputs": [],
   "source": []
  }
 ],
 "metadata": {
  "kernelspec": {
   "display_name": "Python 3 (ipykernel)",
   "language": "python",
   "name": "python3"
  },
  "language_info": {
   "codemirror_mode": {
    "name": "ipython",
    "version": 3
   },
   "file_extension": ".py",
   "mimetype": "text/x-python",
   "name": "python",
   "nbconvert_exporter": "python",
   "pygments_lexer": "ipython3",
   "version": "3.9.7"
  }
 },
 "nbformat": 4,
 "nbformat_minor": 5
}

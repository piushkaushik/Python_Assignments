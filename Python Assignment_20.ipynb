{
 "cells": [
  {
   "cell_type": "markdown",
   "id": "2326363b",
   "metadata": {},
   "source": [
    "# 1. Set the variable test1 to the string 'This is a test of the emergency text system', and save test1 to a file named test.txt."
   ]
  },
  {
   "cell_type": "markdown",
   "id": "5dd1c07f",
   "metadata": {},
   "source": [
    "**Ans:**"
   ]
  },
  {
   "cell_type": "code",
   "execution_count": 1,
   "id": "0e0c1254",
   "metadata": {},
   "outputs": [],
   "source": [
    "# Set the variable test1 to the string\n",
    "test1 = 'This is a test of the emergency text system'\n",
    "\n",
    "# Save test1 to a file named test.txt\n",
    "with open('test.txt', 'w') as file:\n",
    "    file.write(test1)"
   ]
  },
  {
   "cell_type": "markdown",
   "id": "b034422f",
   "metadata": {},
   "source": [
    "# 2. Read the contents of the file test.txt into the variable test2. Is there a difference between test 1 and test 2?"
   ]
  },
  {
   "cell_type": "markdown",
   "id": "be0d0e10",
   "metadata": {},
   "source": [
    "**Ans:**"
   ]
  },
  {
   "cell_type": "code",
   "execution_count": 3,
   "id": "74993eb3",
   "metadata": {},
   "outputs": [],
   "source": [
    "# Read the contents of the file test.txt into the variable test2\n",
    "with open('test.txt', 'r') as file:\n",
    "    test2 = file.read()  # the contents of the file test.txt will be stored in the test2 variable as a string\n"
   ]
  },
  {
   "cell_type": "code",
   "execution_count": 4,
   "id": "82485fd6",
   "metadata": {},
   "outputs": [
    {
     "name": "stdout",
     "output_type": "stream",
     "text": [
      "test1 and test2 are identical.\n"
     ]
    }
   ],
   "source": [
    "if test1 == test2:\n",
    "    print(\"test1 and test2 are identical.\")\n",
    "else:\n",
    "    print(\"test1 and test2 are different.\")\n"
   ]
  },
  {
   "cell_type": "markdown",
   "id": "3c4785a8",
   "metadata": {},
   "source": [
    "# 3. Create a CSV file called `books.csv` by using these lines:\n",
    "\n",
    "### title,author,year\n",
    "### The Weirdstone of Brisingamen,Alan Garner,1960\n",
    "### Perdido Street Station,China Miéville,2000\n",
    "### Thud!,Terry Pratchett,2005\n",
    "### The Spellman Files,Lisa Lutz,2007\n",
    "### Small Gods,Terry Pratchett,1992"
   ]
  },
  {
   "cell_type": "markdown",
   "id": "2acc090c",
   "metadata": {},
   "source": [
    "**Ans:**"
   ]
  },
  {
   "cell_type": "code",
   "execution_count": 8,
   "id": "aec2c7eb",
   "metadata": {},
   "outputs": [
    {
     "name": "stdout",
     "output_type": "stream",
     "text": [
      "The file books.csv has been created.\n"
     ]
    }
   ],
   "source": [
    "import csv\n",
    "\n",
    "data = [\n",
    "    ['title', 'author', 'year'],\n",
    "    ['The Weirdstone of Brisingamen', 'Alan Garner', '1960'],\n",
    "    ['Perdido Street Station', 'China Mieville', '2000'],\n",
    "    ['Thud!', 'Terry Pratchett', '2005'],\n",
    "    ['The Spellman Files', 'Lisa Lutz', '2007'],\n",
    "    ['Small Gods', 'Terry Pratchett', '1992']\n",
    "]\n",
    "\n",
    "filename = 'books.csv'\n",
    "\n",
    "# Write the data to the CSV file\n",
    "with open(filename, 'w', newline='') as csvfile:\n",
    "    csvwriter = csv.writer(csvfile)\n",
    "    csvwriter.writerows(data)\n",
    "\n",
    "print(f'The file {filename} has been created.')\n"
   ]
  },
  {
   "cell_type": "markdown",
   "id": "50e7dd7e",
   "metadata": {},
   "source": [
    "# 4. Use the sqlite3 module to create a SQLite database called books.db, and a table called books with these fields: title (text), author (text), and year (integer)."
   ]
  },
  {
   "cell_type": "markdown",
   "id": "d6e1328e",
   "metadata": {},
   "source": [
    "**Ans:**"
   ]
  },
  {
   "cell_type": "code",
   "execution_count": 11,
   "id": "b31badfd",
   "metadata": {},
   "outputs": [],
   "source": [
    "import sqlite3"
   ]
  },
  {
   "cell_type": "code",
   "execution_count": 13,
   "id": "d047b083",
   "metadata": {},
   "outputs": [
    {
     "name": "stdout",
     "output_type": "stream",
     "text": [
      "The SQLite database \"books.db\" and table \"books\" have been created.\n"
     ]
    }
   ],
   "source": [
    "\n",
    "# Connect to the SQLite database (or create it if it doesn't exist)\n",
    "conn = sqlite3.connect('books.db')\n",
    "\n",
    "# Create a cursor object to interact with the database\n",
    "cursor = conn.cursor()\n",
    "\n",
    "# Define the SQL command to create the 'books' table\n",
    "create_table_query = '''\n",
    "CREATE TABLE IF NOT EXISTS books (\n",
    "    title TEXT,\n",
    "    author TEXT,\n",
    "    year INTEGER\n",
    ");\n",
    "'''\n",
    "\n",
    "# Execute the SQL command to create the table\n",
    "cursor.execute(create_table_query)\n",
    "\n",
    "# Commit the changes and close the database connection\n",
    "conn.commit()\n",
    "conn.close()\n",
    "\n",
    "print('The SQLite database \"books.db\" and table \"books\" have been created.')\n"
   ]
  },
  {
   "cell_type": "markdown",
   "id": "ee6a8ad5",
   "metadata": {},
   "source": [
    "# 5. Read books.csv and insert its data into the book table."
   ]
  },
  {
   "cell_type": "markdown",
   "id": "356db9fc",
   "metadata": {},
   "source": [
    "**Ans:**"
   ]
  },
  {
   "cell_type": "code",
   "execution_count": 14,
   "id": "2794d04d",
   "metadata": {},
   "outputs": [],
   "source": [
    "# Connect to the SQLite database\n",
    "conn = sqlite3.connect('books.db')\n",
    "cursor = conn.cursor()\n",
    "\n",
    "# Create the \"books\" table if it doesn't exist\n",
    "cursor.execute('''\n",
    "    CREATE TABLE IF NOT EXISTS books (\n",
    "        title TEXT,\n",
    "        author TEXT,\n",
    "        year INTEGER\n",
    "    )\n",
    "''')\n",
    "\n",
    "# Open and read the CSV file\n",
    "with open('books.csv', 'r', newline='', encoding='utf-8') as csv_file:\n",
    "    csv_reader = csv.reader(csv_file)\n",
    "    \n",
    "    # Skip the header row\n",
    "    next(csv_reader)\n",
    "    \n",
    "    # Insert each row from the CSV into the database\n",
    "    for row in csv_reader:\n",
    "        title, author, year = row\n",
    "        cursor.execute(\"INSERT INTO books (title, author, year) VALUES (?, ?, ?)\", (title, author, int(year)))\n",
    "\n",
    "# Commit the changes and close the connection\n",
    "conn.commit()\n",
    "conn.close()\n"
   ]
  },
  {
   "cell_type": "markdown",
   "id": "25bddaf6",
   "metadata": {},
   "source": [
    "# 6. Select and print the title column from the book table in alphabetical order."
   ]
  },
  {
   "cell_type": "markdown",
   "id": "d58c5e99",
   "metadata": {},
   "source": [
    "**Ans:**"
   ]
  },
  {
   "cell_type": "code",
   "execution_count": 17,
   "id": "531ae9f8",
   "metadata": {},
   "outputs": [
    {
     "name": "stdout",
     "output_type": "stream",
     "text": [
      "Perdido Street Station\n",
      "Small Gods\n",
      "The Spellman Files\n",
      "The Weirdstone of Brisingamen\n",
      "Thud!\n"
     ]
    }
   ],
   "source": [
    "# Connect to the SQLite database\n",
    "conn = sqlite3.connect('books.db')\n",
    "cursor = conn.cursor()\n",
    "\n",
    "# Select the titles in alphabetical order\n",
    "cursor.execute(\"SELECT title FROM books ORDER BY title\")\n",
    "\n",
    "# Fetch all the titles and print them\n",
    "titles = cursor.fetchall()\n",
    "for title in titles:\n",
    "    print(title[0])\n",
    "\n",
    "# Close the database connection\n",
    "conn.close()\n"
   ]
  },
  {
   "cell_type": "markdown",
   "id": "44def49e",
   "metadata": {},
   "source": [
    "# 7. From the book table, select and print all columns in the order of publication."
   ]
  },
  {
   "cell_type": "markdown",
   "id": "ee0e6f76",
   "metadata": {},
   "source": [
    "**Ans:**"
   ]
  },
  {
   "cell_type": "code",
   "execution_count": 20,
   "id": "bf72c7b2",
   "metadata": {},
   "outputs": [
    {
     "name": "stdout",
     "output_type": "stream",
     "text": [
      "('The Weirdstone of Brisingamen', 'Alan Garner', 1960)\n",
      "('Small Gods', 'Terry Pratchett', 1992)\n",
      "('Perdido Street Station', 'China Mieville', 2000)\n",
      "('Thud!', 'Terry Pratchett', 2005)\n",
      "('The Spellman Files', 'Lisa Lutz', 2007)\n"
     ]
    }
   ],
   "source": [
    "# Connect to the SQLite database\n",
    "conn = sqlite3.connect('books.db')\n",
    "cursor = conn.cursor()\n",
    "\n",
    "# Select all columns and order by year\n",
    "cursor.execute(\"SELECT * FROM books ORDER BY year\")\n",
    "\n",
    "# Fetch all the rows and print them\n",
    "books = cursor.fetchall()\n",
    "for book in books:\n",
    "    print(book)\n",
    "\n",
    "# Close the database connection\n",
    "conn.close()\n"
   ]
  },
  {
   "cell_type": "markdown",
   "id": "71d76713",
   "metadata": {},
   "source": [
    "# 8. Use the sqlalchemy module to connect to the sqlite3 database books.db that you just made in exercise 6."
   ]
  },
  {
   "cell_type": "markdown",
   "id": "1dc5ec47",
   "metadata": {},
   "source": [
    "**Ans:**"
   ]
  },
  {
   "cell_type": "code",
   "execution_count": 23,
   "id": "68080144",
   "metadata": {},
   "outputs": [
    {
     "name": "stdout",
     "output_type": "stream",
     "text": [
      "('The Weirdstone of Brisingamen', 'Alan Garner', 1960)\n",
      "('Perdido Street Station', 'China Mieville', 2000)\n",
      "('Thud!', 'Terry Pratchett', 2005)\n",
      "('The Spellman Files', 'Lisa Lutz', 2007)\n",
      "('Small Gods', 'Terry Pratchett', 1992)\n"
     ]
    }
   ],
   "source": [
    "from sqlalchemy import create_engine\n",
    "\n",
    "# Create a SQLAlchemy engine to connect to the database\n",
    "engine = create_engine('sqlite:///books.db')\n",
    "\n",
    "# Establish a connection\n",
    "connection = engine.connect()\n",
    "\n",
    "# Now you can use this connection to execute SQL queries\n",
    "# For example:\n",
    "result = connection.execute('SELECT * FROM books')\n",
    "\n",
    "# Fetch and print the rows\n",
    "for row in result:\n",
    "    print(row)\n",
    "\n",
    "# Close the connection when done\n",
    "connection.close()\n"
   ]
  },
  {
   "cell_type": "markdown",
   "id": "3426d443",
   "metadata": {},
   "source": [
    "# 9. Install the Redis server and the Python redis library (pip install redis) on your computer. Create a Redis hash called test with the fields count (1) and name ('Fester Bestertester'). Print all the fields for test."
   ]
  },
  {
   "cell_type": "markdown",
   "id": "8362480a",
   "metadata": {},
   "source": [
    "**Ans:**"
   ]
  },
  {
   "cell_type": "code",
   "execution_count": 25,
   "id": "a1916a28",
   "metadata": {},
   "outputs": [
    {
     "name": "stdout",
     "output_type": "stream",
     "text": [
      "Collecting redis\n",
      "  Downloading redis-5.0.0-py3-none-any.whl (250 kB)\n",
      "Collecting async-timeout>=4.0.2\n",
      "  Downloading async_timeout-4.0.3-py3-none-any.whl (5.7 kB)\n",
      "Note: you may need to restart the kernel to use updated packages.\n",
      "Installing collected packages: async-timeout, redis\n",
      "Successfully installed async-timeout-4.0.3 redis-5.0.0\n"
     ]
    }
   ],
   "source": [
    "pip install redis"
   ]
  },
  {
   "cell_type": "code",
   "execution_count": 5,
   "id": "1b9023a4",
   "metadata": {},
   "outputs": [],
   "source": [
    "import redis"
   ]
  },
  {
   "cell_type": "code",
   "execution_count": 6,
   "id": "9e64bcff",
   "metadata": {},
   "outputs": [],
   "source": [
    "# please help me with this question\n",
    "# I have written code for this,  but kernel stuck every time.  \n",
    "# I have restarted the kernel several times but it is not able to produce output"
   ]
  },
  {
   "cell_type": "code",
   "execution_count": null,
   "id": "6f2bf76e",
   "metadata": {},
   "outputs": [],
   "source": [
    "# Connect to the Redis server\n",
    "r = redis.StrictRedis(host='localhost', port=8888, db=0)\n",
    "\n",
    "# Set the hash fields\n",
    "r.hset('test', 'count', 1)\n",
    "r.hset('test', 'name', 'Fester Bestertester')\n",
    "\n",
    "# Retrieve all fields and their values\n",
    "hash_data = r.hgetall('test')\n",
    "\n",
    "# Print the fields and their values\n",
    "for field, value in hash_data.items():\n",
    "    print(f'{field.decode(\"utf-8\")}: {value.decode(\"utf-8\")}')\n"
   ]
  },
  {
   "cell_type": "markdown",
   "id": "490fbdd3",
   "metadata": {},
   "source": [
    "# 10. Increment the count field of test and print it."
   ]
  },
  {
   "cell_type": "code",
   "execution_count": 2,
   "id": "3c4cfa64",
   "metadata": {},
   "outputs": [],
   "source": [
    "# please help me with this question also\n",
    "# Facing same difficulty as previous question"
   ]
  },
  {
   "cell_type": "code",
   "execution_count": null,
   "id": "2cb68f7d",
   "metadata": {},
   "outputs": [],
   "source": [
    "# Connect to the Redis server\n",
    "r = redis.StrictRedis(host='127.0.0.1', port=8888, db=0)\n",
    "\n",
    "# Increment the 'count' field by 1\n",
    "r.hincrby('test', 'count', 1)\n",
    "\n",
    "# Retrieve and print the updated 'count' field\n",
    "updated_count = r.hget('test', 'count').decode('utf-8')\n",
    "print(f'Updated count: {updated_count}')\n"
   ]
  },
  {
   "cell_type": "code",
   "execution_count": null,
   "id": "8e64602b",
   "metadata": {},
   "outputs": [],
   "source": []
  },
  {
   "cell_type": "code",
   "execution_count": null,
   "id": "b7061182",
   "metadata": {},
   "outputs": [],
   "source": []
  }
 ],
 "metadata": {
  "kernelspec": {
   "display_name": "Python 3 (ipykernel)",
   "language": "python",
   "name": "python3"
  },
  "language_info": {
   "codemirror_mode": {
    "name": "ipython",
    "version": 3
   },
   "file_extension": ".py",
   "mimetype": "text/x-python",
   "name": "python",
   "nbconvert_exporter": "python",
   "pygments_lexer": "ipython3",
   "version": "3.9.7"
  }
 },
 "nbformat": 4,
 "nbformat_minor": 5
}

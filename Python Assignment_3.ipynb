{
 "cells": [
  {
   "cell_type": "markdown",
   "id": "7b37710b",
   "metadata": {},
   "source": [
    "## 1. Why are functions advantageous to have in your programs?"
   ]
  },
  {
   "cell_type": "markdown",
   "id": "d2a2a8fa",
   "metadata": {},
   "source": [
    "Answer: "
   ]
  },
  {
   "cell_type": "markdown",
   "id": "d383b7cc",
   "metadata": {},
   "source": [
    "Functions in Python offer a wide range of advantages, including code organization, reusability, abstraction, and improved collaboration. They are a fundamental building block of structured programming and are essential for creating efficient, maintainable, and scalable Python programs."
   ]
  },
  {
   "cell_type": "markdown",
   "id": "5f7f1d0c",
   "metadata": {},
   "source": [
    "Functions in Python are advantageous because they:\n",
    "\n",
    "1. Modularize Code: Break code into manageable pieces.\n",
    "\n",
    "2. Promote Reusability: Use functions multiple times.\n",
    "\n",
    "3. Abstract Complexity: Hide internal details.\n",
    "\n",
    "4. Parameterize: Adapt functions with different inputs.\n",
    "\n",
    "5. Simplify Testing: Isolate and test functions.\n",
    "\n",
    "6. Enhance Collaboration: Make code readable and sharable.\n",
    "\n",
    "7. Provide Documentation: Include docstrings for clarity.\n",
    "\n",
    "8. Improve Maintainability: Facilitate updates and changes."
   ]
  },
  {
   "cell_type": "markdown",
   "id": "36ab4e91",
   "metadata": {},
   "source": [
    "## 2. When does the code in a function run: when it&#39;s specified or when it&#39;s called?"
   ]
  },
  {
   "cell_type": "markdown",
   "id": "f370e203",
   "metadata": {},
   "source": [
    "Answer:\n",
    "\n",
    "The code in a function runs when it is called, not when it is specified or defined. In Python, defining a function simply defines its structure and behavior, but it does not execute the code within the function at that moment. The code inside a function is executed only when the function is explicitly called in your program."
   ]
  },
  {
   "cell_type": "code",
   "execution_count": 5,
   "id": "997e7ea1",
   "metadata": {},
   "outputs": [],
   "source": [
    "def greet():\n",
    "    print(\"Hello, World!\")\n",
    "\n",
    "# The code inside the 'greet' function is defined but doesn't run here.\n"
   ]
  },
  {
   "cell_type": "code",
   "execution_count": 6,
   "id": "d6bf35fe",
   "metadata": {},
   "outputs": [
    {
     "name": "stdout",
     "output_type": "stream",
     "text": [
      "Hello, World!\n"
     ]
    }
   ],
   "source": [
    "# Now, we call the 'greet' function to execute its code.\n",
    "greet()"
   ]
  },
  {
   "cell_type": "markdown",
   "id": "37d587dd",
   "metadata": {},
   "source": [
    "## 3. What statement creates a function?"
   ]
  },
  {
   "cell_type": "markdown",
   "id": "dfa5600a",
   "metadata": {},
   "source": [
    "Answer:"
   ]
  },
  {
   "cell_type": "markdown",
   "id": "c50ea6a7",
   "metadata": {},
   "source": [
    "In Python, the def statement is used to create (define) a function. The def statement is followed by the function name, a pair of parentheses for specifying parameters (if any), and a colon : to indicate the start of the function block.\n",
    "\n"
   ]
  },
  {
   "cell_type": "code",
   "execution_count": 2,
   "id": "4105dcb8",
   "metadata": {},
   "outputs": [
    {
     "name": "stdout",
     "output_type": "stream",
     "text": [
      "12\n"
     ]
    }
   ],
   "source": [
    "# Here's an example of defining a simple function that adds two numbers:\n",
    "\n",
    "def add_numbers(a, b):\n",
    "    result = a + b\n",
    "    return result\n",
    "sum_result = add_numbers(5, 7) # Calling the function\n",
    "print(sum_result) "
   ]
  },
  {
   "cell_type": "markdown",
   "id": "49df76d7",
   "metadata": {},
   "source": [
    "In this example, add_numbers is the function name, and it takes two parameters, a and b. The code block under the function defines what the function does.\n",
    "\n",
    "After defining a function, you can call it in your program to execute the code within the function's body."
   ]
  },
  {
   "cell_type": "markdown",
   "id": "ddf10583",
   "metadata": {},
   "source": [
    "The def statement is fundamental for creating custom functions in Python, allowing you to encapsulate and reuse blocks of code for various purposes in your programs."
   ]
  },
  {
   "cell_type": "markdown",
   "id": "d4296a47",
   "metadata": {},
   "source": [
    "## 4. What is the difference between a function and a function call?"
   ]
  },
  {
   "cell_type": "markdown",
   "id": "5352bc57",
   "metadata": {},
   "source": [
    "A function is a block of code that performs a specific task, while a function call is an expression that invokes a function and executes the code in the function."
   ]
  },
  {
   "cell_type": "markdown",
   "id": "795ffc17",
   "metadata": {},
   "source": [
    "In above example of question number 3 the function is-"
   ]
  },
  {
   "cell_type": "raw",
   "id": "11065544",
   "metadata": {},
   "source": [
    "def add_numbers(a, b):\n",
    "    result = a + b\n",
    "    return result"
   ]
  },
  {
   "cell_type": "markdown",
   "id": "bf4c4d79",
   "metadata": {},
   "source": [
    "and the expression for function call is-"
   ]
  },
  {
   "cell_type": "raw",
   "id": "9390f471",
   "metadata": {},
   "source": [
    "sum_result = add_numbers(5, 7)"
   ]
  },
  {
   "cell_type": "markdown",
   "id": "bdb0c758",
   "metadata": {},
   "source": [
    "## 5. How many global scopes are there in a Python program? How many local scopes?"
   ]
  },
  {
   "cell_type": "markdown",
   "id": "3884483c",
   "metadata": {},
   "source": [
    " There is typically one global scope and one local scope for each function or method call."
   ]
  },
  {
   "cell_type": "markdown",
   "id": "86f665bd",
   "metadata": {},
   "source": [
    "Global Scope:\n",
    "\n",
    "- There is one global scope in a Python program.\n",
    "\n",
    "- The global scope encompasses the entire program, including all functions, classes, and variables defined at the top level of the program.\n",
    "\n",
    "- Variables defined in the global scope are accessible from anywhere in the program.\n",
    "\n",
    "Example of a global variable:"
   ]
  },
  {
   "cell_type": "code",
   "execution_count": 3,
   "id": "31135fb4",
   "metadata": {},
   "outputs": [],
   "source": [
    "global_var = 42  # This variable is in the global scope"
   ]
  },
  {
   "cell_type": "markdown",
   "id": "07b86372",
   "metadata": {},
   "source": [
    "Local Scope:\n",
    "\n",
    "- There can be multiple local scopes, but each local scope is associated with a specific function or method.\n",
    "\n",
    "- When a function is called, it creates its own local scope, which contains variables and parameters specific to that function.\n",
    "\n",
    "- Variables defined within a local scope are only accessible within that function and do not exist outside of it."
   ]
  },
  {
   "cell_type": "code",
   "execution_count": 4,
   "id": "26e5a9b2",
   "metadata": {},
   "outputs": [],
   "source": [
    "def my_function():\n",
    "    local_var = 10  # This variable is in the local scope of my_function"
   ]
  },
  {
   "cell_type": "markdown",
   "id": "3dc30f38",
   "metadata": {},
   "source": [
    "Nested Local Scopes:\n",
    "\n",
    "- If a function is defined inside another function, it creates a nested local scope.\n",
    "\n",
    "- Variables in the inner function are accessible within that function's scope, but not in the outer function's scope."
   ]
  },
  {
   "cell_type": "code",
   "execution_count": 5,
   "id": "ef878983",
   "metadata": {},
   "outputs": [],
   "source": [
    "def outer_function():\n",
    "    outer_var = 5  # Variable in the outer local scope\n",
    "\n",
    "    def inner_function():\n",
    "        inner_var = 7  # Variable in the inner local scope"
   ]
  },
  {
   "cell_type": "markdown",
   "id": "ca5e70a4",
   "metadata": {},
   "source": [
    "## 6. What happens to variables in a local scope when the function call returns?"
   ]
  },
  {
   "cell_type": "markdown",
   "id": "db40b830",
   "metadata": {},
   "source": [
    "When a function call returns in Python, the variables that were defined within the local scope of that function cease to exist. This process is known as variable scope and lifetime."
   ]
  },
  {
   "cell_type": "markdown",
   "id": "e6a7bc3d",
   "metadata": {},
   "source": [
    "Local Variables are Destroyed:\n",
    "\n",
    "- Any variables defined within the local scope of the function are destroyed (or garbage collected) when the function returns.\n",
    "\n",
    "- This means that these variables are no longer accessible or usable in the program after the function exits."
   ]
  },
  {
   "cell_type": "markdown",
   "id": "25a63a81",
   "metadata": {},
   "source": [
    "Return Values are Passed Back:\n",
    "\n",
    "- If the function returns a value using the return statement, that value is passed back to the caller.\n",
    "\n",
    "- The return value can be assigned to a variable in the caller's scope, allowing you to capture and use the result of the function's computation."
   ]
  },
  {
   "cell_type": "code",
   "execution_count": 6,
   "id": "17ea81e1",
   "metadata": {},
   "outputs": [
    {
     "name": "stdout",
     "output_type": "stream",
     "text": [
      "42\n"
     ]
    }
   ],
   "source": [
    "def my_function():\n",
    "    local_var = 42\n",
    "    return local_var\n",
    "\n",
    "result = my_function()  # Calling the function and capturing its return value\n",
    "print(result)  # Output: 42\n",
    "\n",
    "# Attempting to access local_var here would result in a NameError"
   ]
  },
  {
   "cell_type": "markdown",
   "id": "5552520c",
   "metadata": {},
   "source": [
    "    In this example, local_var is a local variable within the my_function scope. When the function returns, local_var is destroyed, and the return value (42) is passed back to the caller and stored in the result variable."
   ]
  },
  {
   "cell_type": "markdown",
   "id": "e82eded7",
   "metadata": {},
   "source": [
    "Note:\n",
    "\n",
    "Variables defined in the global scope or in any other enclosing scope (such as nested functions or classes) are not affected by the destruction of local variables within a function's scope. The lifetimes of global and enclosing variables extend throughout the program's execution."
   ]
  },
  {
   "cell_type": "markdown",
   "id": "eba03270",
   "metadata": {},
   "source": [
    "## 7. What is the concept of a return value? Is it possible to have a return value in an expression?"
   ]
  },
  {
   "cell_type": "markdown",
   "id": "8f722725",
   "metadata": {},
   "source": [
    "Answer:"
   ]
  },
  {
   "cell_type": "markdown",
   "id": "4b7488df",
   "metadata": {},
   "source": [
    "Concept of a return value:\n",
    "\n",
    "The concept of a return value is fundamental in programming and refers to the value that a function provides as its output when it is called. In most programming languages, including Python, functions can return data or results to the caller through the use of the return statement."
   ]
  },
  {
   "cell_type": "markdown",
   "id": "2fe87e15",
   "metadata": {},
   "source": [
    "Return Statement:\n",
    "\n",
    "- In Python, we can use the return statement within a function to specify what value or data the function should produce as its output.\n",
    "- The return statement is followed by an expression or a value that is evaluated and returned as the function's result."
   ]
  },
  {
   "cell_type": "markdown",
   "id": "f8f977b5",
   "metadata": {},
   "source": [
    "Returning Values:\n",
    "\n",
    "- When a function is called and it reaches a return statement, the function's execution is terminated, and the specified value is passed back to the caller.\n",
    "\n",
    "- The caller can capture and store the returned value in a variable, which can then be used in expressions or assigned to other variables."
   ]
  },
  {
   "cell_type": "code",
   "execution_count": 7,
   "id": "83a5b00b",
   "metadata": {},
   "outputs": [
    {
     "name": "stdout",
     "output_type": "stream",
     "text": [
      "12\n"
     ]
    }
   ],
   "source": [
    "def add_numbers(a, b):\n",
    "    result = a + b\n",
    "    return result  # This function returns the sum of 'a' and 'b'\n",
    "\n",
    "sum_result = add_numbers(5, 7)  # Calling the function and capturing its return value\n",
    "print(sum_result)  # Output: 12\n"
   ]
  },
  {
   "cell_type": "markdown",
   "id": "29ac5d2a",
   "metadata": {},
   "source": [
    "    In this example, the add_numbers function returns the result of adding a and b, which is 12. The sum_result variable captures this return value, allowing you to use it in expressions or print it."
   ]
  },
  {
   "cell_type": "markdown",
   "id": "4909c82c",
   "metadata": {},
   "source": [
    "##### Is it possible to have a return value in an expression?"
   ]
  },
  {
   "cell_type": "markdown",
   "id": "87707c4f",
   "metadata": {},
   "source": [
    "Yes, it is possible to use a return value in an expression. Once we have captured the return value in a variable, we can use that variable in mathematical calculations, comparisons, assignments, or any other operations just like any other value or variable in your code."
   ]
  },
  {
   "cell_type": "markdown",
   "id": "14ad97b2",
   "metadata": {},
   "source": [
    "## 8. If a function does not have a return statement, what is the return value of a call to that function?"
   ]
  },
  {
   "cell_type": "markdown",
   "id": "3bac5f61",
   "metadata": {},
   "source": [
    "Answer: \n",
    "\n",
    "If a function in Python does not have a return statement, or if it reaches the end of the function's code block without encountering a return statement, the function implicitly returns a special value called None. None represents the absence of a value or the lack of a return value."
   ]
  },
  {
   "cell_type": "code",
   "execution_count": 1,
   "id": "4ece28ba",
   "metadata": {},
   "outputs": [
    {
     "name": "stdout",
     "output_type": "stream",
     "text": [
      "Hello, Alice!\n",
      "None\n"
     ]
    }
   ],
   "source": [
    "#Example: \n",
    "\n",
    "def greet(name):\n",
    "    print(f\"Hello, {name}!\")\n",
    "\n",
    "result = greet(\"Alice\")\n",
    "print(result)  # Output: None"
   ]
  },
  {
   "cell_type": "markdown",
   "id": "f99173f5",
   "metadata": {},
   "source": [
    "    In this example, the greet function does not have a return statement. When you call greet(\"Alice\"), it prints the greeting message but does not explicitly return a value. As a result, the result variable contains None."
   ]
  },
  {
   "cell_type": "markdown",
   "id": "70d6dc7d",
   "metadata": {},
   "source": [
    "## 9. How do you make a function variable refer to the global variable?"
   ]
  },
  {
   "cell_type": "markdown",
   "id": "f7100951",
   "metadata": {},
   "source": [
    "Answer:"
   ]
  },
  {
   "cell_type": "markdown",
   "id": "2293ef57",
   "metadata": {},
   "source": [
    "Wecan make a function variable refer to a global variable by using the 'global' keyword within the function. This tells Python that we want to work with the global variable of the same name, rather than creating a new local variable with the same name."
   ]
  },
  {
   "cell_type": "code",
   "execution_count": 2,
   "id": "c13ce675",
   "metadata": {},
   "outputs": [
    {
     "name": "stdout",
     "output_type": "stream",
     "text": [
      "100\n"
     ]
    }
   ],
   "source": [
    "# Example:\n",
    "\n",
    "global_var = 42  # This is a global variable\n",
    "\n",
    "def my_function():\n",
    "    global global_var  # Declare 'global_var' as a global variable\n",
    "    global_var = 100   # Modify the global variable\n",
    "\n",
    "my_function()  # Call the function to modify the global variable\n",
    "print(global_var)  # Output: 100 (global variable has been updated)\n"
   ]
  },
  {
   "cell_type": "markdown",
   "id": "46a8feff",
   "metadata": {},
   "source": [
    "    In this example, global_var is declared as a global variable within the my_function using the global keyword. When you assign a new value to global_var inside the function, it modifies the global variable's value, not a local variable."
   ]
  },
  {
   "cell_type": "markdown",
   "id": "2b2e555a",
   "metadata": {},
   "source": [
    "## 10. What is the data type of None?"
   ]
  },
  {
   "cell_type": "markdown",
   "id": "4b149852",
   "metadata": {},
   "source": [
    "Answer:"
   ]
  },
  {
   "cell_type": "markdown",
   "id": "b23e080a",
   "metadata": {},
   "source": [
    "The data type of None is called NoneType. None is a special object in Python that represents the absence of a value or the lack of an object. It is commonly used to indicate that a variable or function does not have a meaningful value to return or that an object does not exist."
   ]
  },
  {
   "cell_type": "code",
   "execution_count": 5,
   "id": "00cf6880",
   "metadata": {},
   "outputs": [
    {
     "name": "stdout",
     "output_type": "stream",
     "text": [
      "<class 'NoneType'>\n"
     ]
    }
   ],
   "source": [
    "# We can check the data type of None using the type() function:\n",
    "\n",
    "x = None\n",
    "print(type(x))  # Output: <class 'NoneType'>"
   ]
  },
  {
   "cell_type": "markdown",
   "id": "69f6f710",
   "metadata": {},
   "source": [
    "## 11. What does the sentence import areallyourpetsnamederic do?"
   ]
  },
  {
   "cell_type": "markdown",
   "id": "5ac5c0dc",
   "metadata": {},
   "source": [
    " Answer:\n",
    " \n",
    " It's not a valid Python module or package that can be imported using the import statement."
   ]
  },
  {
   "cell_type": "code",
   "execution_count": 7,
   "id": "425f8355",
   "metadata": {},
   "outputs": [
    {
     "ename": "ModuleNotFoundError",
     "evalue": "No module named 'areallyourpetsnamederic'",
     "output_type": "error",
     "traceback": [
      "\u001b[1;31m---------------------------------------------------------------------------\u001b[0m",
      "\u001b[1;31mModuleNotFoundError\u001b[0m                       Traceback (most recent call last)",
      "\u001b[1;32m~\\AppData\\Local\\Temp/ipykernel_900/51184242.py\u001b[0m in \u001b[0;36m<module>\u001b[1;34m\u001b[0m\n\u001b[1;32m----> 1\u001b[1;33m \u001b[1;32mimport\u001b[0m \u001b[0mareallyourpetsnamederic\u001b[0m\u001b[1;33m\u001b[0m\u001b[1;33m\u001b[0m\u001b[0m\n\u001b[0m",
      "\u001b[1;31mModuleNotFoundError\u001b[0m: No module named 'areallyourpetsnamederic'"
     ]
    }
   ],
   "source": [
    "import areallyourpetsnamederic"
   ]
  },
  {
   "cell_type": "markdown",
   "id": "03c21886",
   "metadata": {},
   "source": [
    "The import statement is used to bring in external modules or libraries so that you can use their functions, classes, or variables in your code. These modules are typically part of the Python Standard Library or external packages installed using tools like pip."
   ]
  },
  {
   "cell_type": "markdown",
   "id": "fd9496fb",
   "metadata": {},
   "source": [
    "## 12. If you had a bacon() feature in a spam module, what would you call it after importing spam?"
   ]
  },
  {
   "cell_type": "markdown",
   "id": "eeeac5c7",
   "metadata": {},
   "source": [
    "Answer:"
   ]
  },
  {
   "cell_type": "markdown",
   "id": "8b01a5ef",
   "metadata": {},
   "source": [
    "After importing the spam module in Python, we can call the bacon() feature by prefixing it with the module name.\n",
    "\n",
    "like this:"
   ]
  },
  {
   "cell_type": "raw",
   "id": "48f1bd30",
   "metadata": {},
   "source": [
    "import spam\n",
    "\n",
    "result = spam.bacon()"
   ]
  },
  {
   "cell_type": "markdown",
   "id": "f131724a",
   "metadata": {},
   "source": [
    "    In this example, spam is the name of the module, and bacon() is a function or feature defined within the spam module. By using the dot notation (spam.bacon()), you specify that you want to access the bacon() function from the spam module.\n"
   ]
  },
  {
   "cell_type": "markdown",
   "id": "b720eacc",
   "metadata": {},
   "source": [
    "This is the standard way to call functions, classes, or variables from an imported module in Python to avoid naming conflicts and make the code more explicit and readable."
   ]
  },
  {
   "cell_type": "markdown",
   "id": "6e2fd22f",
   "metadata": {},
   "source": [
    "## 13. What can you do to save a programme from crashing if it encounters an error?"
   ]
  },
  {
   "cell_type": "markdown",
   "id": "ba1aff2c",
   "metadata": {},
   "source": [
    "Answer:"
   ]
  },
  {
   "cell_type": "markdown",
   "id": "238de1a2",
   "metadata": {},
   "source": [
    "To prevent a program from crashing when it encounters an error, we can use exception handling techniques in Python. Exception handling allows to gracefully handle errors, recover from unexpected situations, and continue the program's execution without abruptly terminating it. \n",
    "\n",
    "\n",
    "Here are some common strategies:"
   ]
  },
  {
   "cell_type": "markdown",
   "id": "9695cac6",
   "metadata": {},
   "source": [
    "1. Try-Except Blocks:\n",
    "\n",
    "- Use try and except blocks to catch and handle exceptions that might occur within a specific section of code.\n",
    "\n",
    "- Place the code that might raise an exception inside the try block, and specify how to handle the exception in the except block."
   ]
  },
  {
   "cell_type": "code",
   "execution_count": 13,
   "id": "1db00a2a",
   "metadata": {},
   "outputs": [
    {
     "name": "stdout",
     "output_type": "stream",
     "text": [
      "An error occurred: division by zero\n"
     ]
    }
   ],
   "source": [
    "# Example: \n",
    "\n",
    "try:\n",
    "    # Code that may raise an exception\n",
    "    result = 10 / 0  # This will raise a ZeroDivisionError\n",
    "except ZeroDivisionError as e:\n",
    "    # Handle the specific exception\n",
    "    print(f\"An error occurred: {e}\")"
   ]
  },
  {
   "cell_type": "markdown",
   "id": "f6b34d6b",
   "metadata": {},
   "source": [
    "2. Multiple Except Blocks:\n",
    "\n",
    "- We can have multiple except blocks to handle different types of exceptions separately."
   ]
  },
  {
   "cell_type": "code",
   "execution_count": 14,
   "id": "e43d7678",
   "metadata": {},
   "outputs": [
    {
     "name": "stdout",
     "output_type": "stream",
     "text": [
      "Division by zero error: division by zero\n"
     ]
    }
   ],
   "source": [
    "# Example:\n",
    "\n",
    "try:\n",
    "    result = 10 / 0\n",
    "except ZeroDivisionError as e:\n",
    "    print(f\"Division by zero error: {e}\")\n",
    "except ValueError as e:\n",
    "    print(f\"Value error: {e}\")"
   ]
  },
  {
   "cell_type": "markdown",
   "id": "d77193d0",
   "metadata": {},
   "source": [
    "3. Finally Block:\n",
    "\n",
    "- We can use a finally block to specify code that should run regardless of whether an exception was raised or not. This block is often used for cleanup operations."
   ]
  },
  {
   "cell_type": "code",
   "execution_count": 15,
   "id": "600c9bb5",
   "metadata": {},
   "outputs": [
    {
     "name": "stdout",
     "output_type": "stream",
     "text": [
      "An error occurred: division by zero\n",
      "Cleanup or finalization\n"
     ]
    }
   ],
   "source": [
    "# Example:\n",
    "\n",
    "try:\n",
    "    # Code that may raise an exception\n",
    "    result = 10 / 0\n",
    "except ZeroDivisionError as e:\n",
    "    print(f\"An error occurred: {e}\")\n",
    "finally:\n",
    "    # Code that runs no matter what\n",
    "    print(\"Cleanup or finalization\")\n"
   ]
  },
  {
   "cell_type": "markdown",
   "id": "ff5c17d9",
   "metadata": {},
   "source": [
    "4. Exception Handling Hierarchy:\n",
    "\n",
    "- Python has a hierarchy of exceptions, where more specific exceptions are subclasses of more general ones. We can catch a broader range of exceptions by specifying a more general exception type."
   ]
  },
  {
   "cell_type": "code",
   "execution_count": 16,
   "id": "2d3ad2be",
   "metadata": {},
   "outputs": [
    {
     "name": "stdout",
     "output_type": "stream",
     "text": [
      "An error occurred: division by zero\n"
     ]
    }
   ],
   "source": [
    "# Example:\n",
    "\n",
    "try:\n",
    "    # Code that may raise an exception\n",
    "    result = 10 / 0\n",
    "except Exception as e:  # Catches most exceptions\n",
    "    print(f\"An error occurred: {e}\")\n"
   ]
  },
  {
   "cell_type": "markdown",
   "id": "9ea5cb0e",
   "metadata": {},
   "source": [
    "5. Logging and Error Reporting:\n",
    "\n",
    "- Consider using logging to record errors and their details for debugging purposes.\n",
    "\n",
    "- Implement proper error reporting mechanisms to notify administrators or users of critical errors."
   ]
  },
  {
   "cell_type": "markdown",
   "id": "fc7c4c6c",
   "metadata": {},
   "source": [
    "By using these exception handling techniques, wecan make the Python programs more robust and resilient to errors, ensuring that they continue to run gracefully even when unexpected issues occur."
   ]
  },
  {
   "cell_type": "markdown",
   "id": "ad7c98cf",
   "metadata": {},
   "source": [
    "## 14. What is the purpose of the try clause? What is the purpose of the except clause?"
   ]
  },
  {
   "cell_type": "markdown",
   "id": "f57405f6",
   "metadata": {},
   "source": [
    "Answer:"
   ]
  },
  {
   "cell_type": "markdown",
   "id": "eed045ce",
   "metadata": {},
   "source": [
    "#### Purpose of the try Clause:"
   ]
  },
  {
   "cell_type": "markdown",
   "id": "7ecc046c",
   "metadata": {},
   "source": [
    "The try clause is used to enclose a block of code where you anticipate that an exception might occur. Its primary purposes are:"
   ]
  },
  {
   "cell_type": "markdown",
   "id": "a1eb0efc",
   "metadata": {},
   "source": [
    "The try clause is used to enclose a block of code where you anticipate that an exception might occur. Its primary purposes are:"
   ]
  },
  {
   "cell_type": "markdown",
   "id": "1107215d",
   "metadata": {},
   "source": [
    "1. Testing for Exceptions: It allows to test a piece of code to see if it raises any exceptions during execution."
   ]
  },
  {
   "cell_type": "markdown",
   "id": "4869ca28",
   "metadata": {},
   "source": [
    "2. Error Isolation: It isolates the potentially problematic code, separating it from the rest of the program. This ensures that a single error won't crash the entire application."
   ]
  },
  {
   "cell_type": "markdown",
   "id": "f1dada36",
   "metadata": {},
   "source": [
    "3. Continuing Execution: When an exception is raised within the try block, the normal flow of the program is interrupted, but the program does not terminate immediately. Instead, it transfers control to the corresponding except block."
   ]
  },
  {
   "cell_type": "markdown",
   "id": "f5a7e077",
   "metadata": {},
   "source": [
    "#### Purpose of the except Clause:"
   ]
  },
  {
   "cell_type": "markdown",
   "id": "3c02fde7",
   "metadata": {},
   "source": [
    "The except clause is used to handle exceptions that were raised within the associated try block. Its primary purposes are:"
   ]
  },
  {
   "cell_type": "markdown",
   "id": "bbd20c02",
   "metadata": {},
   "source": [
    "1. Exception Handling: It specifies what actions should be taken when a specific exception is encountered. You can define code within an except block to handle the exception gracefully."
   ]
  },
  {
   "cell_type": "markdown",
   "id": "c497138b",
   "metadata": {},
   "source": [
    "2. Error Recovery: It allows you to recover from exceptions by executing alternative code paths or providing fallback behavior. This helps the program continue running even after an exception occurs."
   ]
  },
  {
   "cell_type": "markdown",
   "id": "e46b7fee",
   "metadata": {},
   "source": [
    "3. Exception Details: You can access details about the exception, such as the error message, using the except block. This information can be helpful for debugging."
   ]
  },
  {
   "cell_type": "code",
   "execution_count": 1,
   "id": "1be97b0f",
   "metadata": {},
   "outputs": [
    {
     "name": "stdout",
     "output_type": "stream",
     "text": [
      "An error occurred: division by zero\n"
     ]
    }
   ],
   "source": [
    "# A typical structure of a try and except block:\n",
    "\n",
    "try:\n",
    "    # Code that may raise an exception\n",
    "    result = 10 / 0  # This may raise a ZeroDivisionError\n",
    "except ZeroDivisionError as e:\n",
    "    # Handling the ZeroDivisionError\n",
    "    print(f\"An error occurred: {e}\")"
   ]
  },
  {
   "cell_type": "markdown",
   "id": "3f3cae3a",
   "metadata": {},
   "source": [
    "    In this example, the try block tests the code for a potential ZeroDivisionError. If such an error occurs, the program doesn't crash but transfers control to the except block, where you can handle the error, print an error message, and continue with the program's execution."
   ]
  },
  {
   "cell_type": "markdown",
   "id": "115292a7",
   "metadata": {},
   "source": [
    "In short:  The try clause is used to encapsulate code that may raise exceptions, while the except clause is used to define how to respond to those exceptions when they occur, ensuring that your program can handle errors gracefully."
   ]
  },
  {
   "cell_type": "code",
   "execution_count": null,
   "id": "8a85571b",
   "metadata": {},
   "outputs": [],
   "source": []
  }
 ],
 "metadata": {
  "kernelspec": {
   "display_name": "Python 3 (ipykernel)",
   "language": "python",
   "name": "python3"
  },
  "language_info": {
   "codemirror_mode": {
    "name": "ipython",
    "version": 3
   },
   "file_extension": ".py",
   "mimetype": "text/x-python",
   "name": "python",
   "nbconvert_exporter": "python",
   "pygments_lexer": "ipython3",
   "version": "3.9.7"
  }
 },
 "nbformat": 4,
 "nbformat_minor": 5
}

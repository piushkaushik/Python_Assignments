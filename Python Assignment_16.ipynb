{
 "cells": [
  {
   "cell_type": "markdown",
   "id": "53f21aec",
   "metadata": {},
   "source": [
    "# 1. Create a list called years_list, starting with the year of your birth, and each year thereafter until the year of your fifth birthday. For example, if you were born in 1980. the list would be years_list = [1980, 1981, 1982, 1983, 1984, 1985]."
   ]
  },
  {
   "cell_type": "markdown",
   "id": "521331dd",
   "metadata": {},
   "source": [
    "**Answer:**"
   ]
  },
  {
   "cell_type": "code",
   "execution_count": 2,
   "id": "34f96ccc",
   "metadata": {},
   "outputs": [],
   "source": [
    "years_list = [1992, 1993, 1994, 1995, 1996]"
   ]
  },
  {
   "cell_type": "markdown",
   "id": "0d9d5d25",
   "metadata": {},
   "source": [
    "# 2. In which year in years_list was your third birthday? Remember, you were 0 years of age for your first year."
   ]
  },
  {
   "cell_type": "markdown",
   "id": "a868f219",
   "metadata": {},
   "source": [
    "**Answer:**"
   ]
  },
  {
   "cell_type": "code",
   "execution_count": 6,
   "id": "7ce659d7",
   "metadata": {},
   "outputs": [
    {
     "name": "stdout",
     "output_type": "stream",
     "text": [
      "1995\n"
     ]
    }
   ],
   "source": [
    "years_list = [1992, 1993, 1994, 1995, 1996]\n",
    "\n",
    "# My third birthday (age 3) is in the year:\n",
    "third_birthday_year = years_list[3]\n",
    "\n",
    "print(third_birthday_year)"
   ]
  },
  {
   "cell_type": "markdown",
   "id": "34a9c043",
   "metadata": {},
   "source": [
    "# 3.In the years list, which year were you the oldest?"
   ]
  },
  {
   "cell_type": "markdown",
   "id": "c0d2141a",
   "metadata": {},
   "source": [
    "**Answer:**"
   ]
  },
  {
   "cell_type": "markdown",
   "id": "33bd1d6f",
   "metadata": {},
   "source": [
    "In year 1996"
   ]
  },
  {
   "cell_type": "markdown",
   "id": "bd7e6cc0",
   "metadata": {},
   "source": [
    "# 4. Make a list called things with these three strings as elements: \"mozzarella\", \"cinderella\" ,\"salmonella\"."
   ]
  },
  {
   "cell_type": "markdown",
   "id": "0ad6ca70",
   "metadata": {},
   "source": [
    "**Answer:**"
   ]
  },
  {
   "cell_type": "code",
   "execution_count": 9,
   "id": "89ab775f",
   "metadata": {},
   "outputs": [],
   "source": [
    "things = [\"mozzarella\", \"cinderella\", \"salmonella\"]"
   ]
  },
  {
   "cell_type": "markdown",
   "id": "affed606",
   "metadata": {},
   "source": [
    "# 5. Capitalize the element in things that refers to a person and then print the list. Did it change the element in the list?"
   ]
  },
  {
   "cell_type": "markdown",
   "id": "6d7bf661",
   "metadata": {},
   "source": [
    "**Answer:**"
   ]
  },
  {
   "cell_type": "code",
   "execution_count": 10,
   "id": "32523bb8",
   "metadata": {},
   "outputs": [
    {
     "name": "stdout",
     "output_type": "stream",
     "text": [
      "Original list: ['mozzarella', 'cinderella', 'salmonella']\n",
      "Capitalized person: Cinderella\n"
     ]
    }
   ],
   "source": [
    "things = [\"mozzarella\", \"cinderella\", \"salmonella\"]\n",
    "\n",
    "# Find the index of the element that refers to a person (\"cinderella\")\n",
    "index = things.index(\"cinderella\")\n",
    "\n",
    "# Capitalize the element at that index\n",
    "capitalized_person = things[index].capitalize()\n",
    "\n",
    "# Print the original list\n",
    "print(\"Original list:\", things)\n",
    "\n",
    "# Print the capitalized element\n",
    "print(\"Capitalized person:\", capitalized_person)\n"
   ]
  },
  {
   "cell_type": "markdown",
   "id": "8b88528a",
   "metadata": {},
   "source": [
    "-  It did not change the element in the original list; it only created a new capitalized string"
   ]
  },
  {
   "cell_type": "markdown",
   "id": "0050fa1e",
   "metadata": {},
   "source": [
    "# 6. Make a surprise list with the elements \"Groucho\", \"Chico\", and \"Harpo\"."
   ]
  },
  {
   "cell_type": "markdown",
   "id": "436c66a6",
   "metadata": {},
   "source": [
    "**Answer:**"
   ]
  },
  {
   "cell_type": "code",
   "execution_count": 12,
   "id": "273a3007",
   "metadata": {},
   "outputs": [],
   "source": [
    "surprise = [\"Groucho\", \"Chico\", \"Harpo\"]"
   ]
  },
  {
   "cell_type": "markdown",
   "id": "2f5a44c9",
   "metadata": {},
   "source": [
    "# 7. Lowercase the last element of the surprise list, reverse it, and then capitalize it."
   ]
  },
  {
   "cell_type": "markdown",
   "id": "bc90c0b8",
   "metadata": {},
   "source": [
    "**Answer:**"
   ]
  },
  {
   "cell_type": "code",
   "execution_count": 18,
   "id": "e4607966",
   "metadata": {},
   "outputs": [
    {
     "name": "stdout",
     "output_type": "stream",
     "text": [
      "Result: Oprah\n"
     ]
    }
   ],
   "source": [
    "surprise = [\"Groucho\", \"Chico\", \"Harpo\"]\n",
    "\n",
    "# Lowercase the last element\n",
    "last_element = surprise[-1].lower()\n",
    "\n",
    "# Reverse the lowercase last element\n",
    "reversed_last_element = last_element[::-1]\n",
    "\n",
    "# Capitalize the reversed last element\n",
    "capitalized_reversed_last_element = reversed_last_element.capitalize()\n",
    "\n",
    "# Print the result\n",
    "print(\"Result:\", capitalized_reversed_last_element)\n"
   ]
  },
  {
   "cell_type": "markdown",
   "id": "7708f7db",
   "metadata": {},
   "source": [
    "# 8. Make an English-to-French dictionary called e2f and print it. Here are your starter words: dog is chien, cat is chat, and walrus is morse."
   ]
  },
  {
   "cell_type": "markdown",
   "id": "f0f93564",
   "metadata": {},
   "source": [
    "**Answer:**"
   ]
  },
  {
   "cell_type": "code",
   "execution_count": 21,
   "id": "483e8881",
   "metadata": {},
   "outputs": [],
   "source": [
    "e2f = {\n",
    "    'dog': 'chien',\n",
    "    'cat': 'chat',\n",
    "    'walrus': 'morse'\n",
    "}"
   ]
  },
  {
   "cell_type": "markdown",
   "id": "9229c196",
   "metadata": {},
   "source": [
    "# 9. Write the French word for walrus in your three-word dictionary e2f."
   ]
  },
  {
   "cell_type": "markdown",
   "id": "d3b6d54b",
   "metadata": {},
   "source": [
    "**Answer:**"
   ]
  },
  {
   "cell_type": "code",
   "execution_count": 23,
   "id": "e7bad86a",
   "metadata": {},
   "outputs": [
    {
     "name": "stdout",
     "output_type": "stream",
     "text": [
      "French word for walrus: morse\n"
     ]
    }
   ],
   "source": [
    "french_word_for_walrus = e2f['walrus']\n",
    "\n",
    "print(\"French word for walrus:\", french_word_for_walrus)"
   ]
  },
  {
   "cell_type": "markdown",
   "id": "fbf5d63e",
   "metadata": {},
   "source": [
    "# 10. Make a French-to-English dictionary called f2e from e2f. Use the items method."
   ]
  },
  {
   "cell_type": "markdown",
   "id": "725f9e93",
   "metadata": {},
   "source": [
    "**Answer:**"
   ]
  },
  {
   "cell_type": "code",
   "execution_count": 24,
   "id": "7a42112e",
   "metadata": {},
   "outputs": [],
   "source": [
    "f2e = {value: key for key, value in e2f.items()}"
   ]
  },
  {
   "cell_type": "code",
   "execution_count": 25,
   "id": "94cc9225",
   "metadata": {},
   "outputs": [
    {
     "data": {
      "text/plain": [
       "{'chien': 'dog', 'chat': 'cat', 'morse': 'walrus'}"
      ]
     },
     "execution_count": 25,
     "metadata": {},
     "output_type": "execute_result"
    }
   ],
   "source": [
    "f2e"
   ]
  },
  {
   "cell_type": "markdown",
   "id": "082b2b30",
   "metadata": {},
   "source": [
    "# 11. Print the English version of the French word chien using f2e."
   ]
  },
  {
   "cell_type": "markdown",
   "id": "82c13d32",
   "metadata": {},
   "source": [
    "**Answer:**"
   ]
  },
  {
   "cell_type": "code",
   "execution_count": 26,
   "id": "ae596545",
   "metadata": {},
   "outputs": [
    {
     "name": "stdout",
     "output_type": "stream",
     "text": [
      "English version of 'chien' is: dog\n"
     ]
    }
   ],
   "source": [
    "french_word = 'chien'\n",
    "english_version = f2e[french_word]\n",
    "print(\"English version of 'chien' is:\", english_version)"
   ]
  },
  {
   "cell_type": "markdown",
   "id": "e8bb3097",
   "metadata": {},
   "source": [
    "# 12. Make and print a set of English words from the keys in e2f."
   ]
  },
  {
   "cell_type": "markdown",
   "id": "2d23c9e1",
   "metadata": {},
   "source": [
    "**Answer:**"
   ]
  },
  {
   "cell_type": "code",
   "execution_count": 29,
   "id": "6669d930",
   "metadata": {},
   "outputs": [],
   "source": [
    "english_words = set(e2f.keys())"
   ]
  },
  {
   "cell_type": "code",
   "execution_count": 30,
   "id": "0cbf2751",
   "metadata": {},
   "outputs": [
    {
     "name": "stdout",
     "output_type": "stream",
     "text": [
      "Set of English words: {'dog', 'cat', 'walrus'}\n"
     ]
    }
   ],
   "source": [
    "print(\"Set of English words:\", english_words)"
   ]
  },
  {
   "cell_type": "markdown",
   "id": "654bb00d",
   "metadata": {},
   "source": [
    "# 13. Make a multilevel dictionary called life. Use these strings for the topmost keys: 'animals', 'plants', and 'other'. Make the 'animals' key refer to another dictionary with the keys 'cats', 'octopi', and 'emus'. Make the 'cats' key refer to a list of strings with the values 'Henri', 'Grumpy', and 'Lucy' Make all the other keys refer to empty dictionaries."
   ]
  },
  {
   "cell_type": "markdown",
   "id": "c57243fb",
   "metadata": {},
   "source": [
    "**Answer:**"
   ]
  },
  {
   "cell_type": "code",
   "execution_count": 31,
   "id": "947cb3f3",
   "metadata": {},
   "outputs": [],
   "source": [
    "life = {\n",
    "    'animals': {\n",
    "        'cats': ['Henri', 'Grumpy', 'Lucy'],\n",
    "        'octopi': {},\n",
    "        'emus': {}\n",
    "    },\n",
    "    'plants': {},\n",
    "    'other': {}\n",
    "}\n",
    "\n"
   ]
  },
  {
   "cell_type": "markdown",
   "id": "841ddc6b",
   "metadata": {},
   "source": [
    "# 14. Print the top-level keys of life."
   ]
  },
  {
   "cell_type": "markdown",
   "id": "ff8a007b",
   "metadata": {},
   "source": [
    "**Answer:**"
   ]
  },
  {
   "cell_type": "code",
   "execution_count": 35,
   "id": "eec12671",
   "metadata": {},
   "outputs": [
    {
     "name": "stdout",
     "output_type": "stream",
     "text": [
      "Top-level keys of 'life': ['animals', 'plants', 'other']\n"
     ]
    }
   ],
   "source": [
    "top_level_keys = life.keys()\n",
    "\n",
    "print(\"Top-level keys of 'life':\", list(top_level_keys))"
   ]
  },
  {
   "cell_type": "markdown",
   "id": "2302d8ae",
   "metadata": {},
   "source": [
    "# 15. Print the keys for life ['animals']."
   ]
  },
  {
   "cell_type": "markdown",
   "id": "e4bc073a",
   "metadata": {},
   "source": [
    "**Answer:**"
   ]
  },
  {
   "cell_type": "code",
   "execution_count": 39,
   "id": "8100146a",
   "metadata": {},
   "outputs": [
    {
     "name": "stdout",
     "output_type": "stream",
     "text": [
      "Keys for 'animals' in 'life': ['cats', 'octopi', 'emus']\n"
     ]
    }
   ],
   "source": [
    "\n",
    "animals_keys = life['animals'].keys()\n",
    "\n",
    "print(\"Keys for 'animals' in 'life':\", list(animals_keys))\n"
   ]
  },
  {
   "cell_type": "markdown",
   "id": "0b30320c",
   "metadata": {},
   "source": [
    "# 16. Print the values for life['animals']['cats']"
   ]
  },
  {
   "cell_type": "markdown",
   "id": "48a08378",
   "metadata": {},
   "source": [
    "**Answer:**"
   ]
  },
  {
   "cell_type": "code",
   "execution_count": 42,
   "id": "2ec53ba7",
   "metadata": {},
   "outputs": [],
   "source": [
    "values = (life['animals']['cats'])"
   ]
  },
  {
   "cell_type": "code",
   "execution_count": 44,
   "id": "db1fb138",
   "metadata": {},
   "outputs": [
    {
     "name": "stdout",
     "output_type": "stream",
     "text": [
      "['Henri', 'Grumpy', 'Lucy']\n"
     ]
    }
   ],
   "source": [
    "print(values)"
   ]
  },
  {
   "cell_type": "code",
   "execution_count": null,
   "id": "5e1b8f58",
   "metadata": {},
   "outputs": [],
   "source": []
  },
  {
   "cell_type": "code",
   "execution_count": null,
   "id": "fef2f90d",
   "metadata": {},
   "outputs": [],
   "source": []
  }
 ],
 "metadata": {
  "kernelspec": {
   "display_name": "Python 3 (ipykernel)",
   "language": "python",
   "name": "python3"
  },
  "language_info": {
   "codemirror_mode": {
    "name": "ipython",
    "version": 3
   },
   "file_extension": ".py",
   "mimetype": "text/x-python",
   "name": "python",
   "nbconvert_exporter": "python",
   "pygments_lexer": "ipython3",
   "version": "3.9.7"
  }
 },
 "nbformat": 4,
 "nbformat_minor": 5
}

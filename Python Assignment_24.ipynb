{
 "cells": [
  {
   "cell_type": "markdown",
   "id": "99428dad",
   "metadata": {},
   "source": [
    "# 1. What is the relationship between def statements and lambda expressions ?"
   ]
  },
  {
   "cell_type": "markdown",
   "id": "c9ae5057",
   "metadata": {},
   "source": [
    "**Ans:**"
   ]
  },
  {
   "cell_type": "markdown",
   "id": "32be541e",
   "metadata": {},
   "source": [
    "The relationship between `def` statements and `lambda` expressions in Python is that they are both used to define functions, but they serve different purposes and have some key differences:\n",
    "\n",
    "1. **def Statement**:\n",
    "   - The `def` statement is used to define a regular (or named) function in Python.\n",
    "   - It allows you to create functions with multiple statements, a name, and optional parameters.\n",
    "   - Functions defined with `def` are typically named and can be reused throughout your code.\n",
    "   - They are defined using the `def` keyword followed by the function name, parameters in parentheses, and a colon (`:`)."
   ]
  },
  {
   "cell_type": "code",
   "execution_count": 12,
   "id": "6e2e741d",
   "metadata": {},
   "outputs": [],
   "source": [
    " # Example:\n",
    "\n",
    "def add(a, b):\n",
    "    return a + b"
   ]
  },
  {
   "cell_type": "code",
   "execution_count": 13,
   "id": "5ab7bd09",
   "metadata": {},
   "outputs": [
    {
     "data": {
      "text/plain": [
       "9"
      ]
     },
     "execution_count": 13,
     "metadata": {},
     "output_type": "execute_result"
    }
   ],
   "source": [
    "add(4,5)"
   ]
  },
  {
   "cell_type": "markdown",
   "id": "6a53de9b",
   "metadata": {},
   "source": [
    "2. **lambda Expression**:\n",
    "   - The `lambda` expression is used to create anonymous or unnamed functions, often referred to as lambda functions.\n",
    "   - Lambda functions are typically used for simple, one-line operations and are often used where functions are short-lived or used as arguments to other functions.\n",
    "   - They are defined using the `lambda` keyword, followed by parameters, a colon (`:`), and an expression to be evaluated and returned."
   ]
  },
  {
   "cell_type": "code",
   "execution_count": 14,
   "id": "854cf8e1",
   "metadata": {},
   "outputs": [],
   "source": [
    "# Example:\n",
    "\n",
    "add = lambda a, b, c: a + b + c"
   ]
  },
  {
   "cell_type": "code",
   "execution_count": 15,
   "id": "712f96aa",
   "metadata": {},
   "outputs": [
    {
     "data": {
      "text/plain": [
       "15"
      ]
     },
     "execution_count": 15,
     "metadata": {},
     "output_type": "execute_result"
    }
   ],
   "source": [
    "add(4,5,6)"
   ]
  },
  {
   "cell_type": "markdown",
   "id": "bcba4a42",
   "metadata": {},
   "source": [
    "Key Differences:\n",
    "\n",
    "- `def` functions have a name, while `lambda` functions are anonymous.\n",
    "- `def` functions can contain multiple statements and have a more complex structure, while `lambda` functions are limited to a single expression.\n",
    "- `def` functions can be reused throughout your code, while `lambda` functions are often used for short, simple operations.\n",
    "- `def` functions are usually more readable and suitable for complex logic, while `lambda` functions are concise but less readable for complex operations.\n"
   ]
  },
  {
   "cell_type": "markdown",
   "id": "95df75b7",
   "metadata": {},
   "source": [
    "# 2. What is the benefit of lambda?"
   ]
  },
  {
   "cell_type": "markdown",
   "id": "84b06322",
   "metadata": {},
   "source": [
    "**Ans:**"
   ]
  },
  {
   "cell_type": "markdown",
   "id": "fb3997b8",
   "metadata": {},
   "source": [
    "1. **Conciseness**: Lambda functions are concise, one-liner functions.\n",
    "2. **Readability**: They make code more readable for simple operations.\n",
    "3. **No Separate Name**: You can use them without naming.\n",
    "4. **Functional Programming**: Lambda functions are often used in functional programming paradigms. They are essential for functions like map(), filter(), and reduce(), which take functions as arguments.\n",
    "5. **Closure**: Lambda functions can capture variables from their containing scope (enclosure), which can be useful in certain cases, such as when creating closures for callbacks.\n",
    "6. **Reduced Code Bloat**: Useful for small, one-off functions, reducing code size."
   ]
  },
  {
   "cell_type": "markdown",
   "id": "baf789e2",
   "metadata": {},
   "source": [
    "However, it's important to note that lambda functions have limitations:\n",
    "\n",
    "- They can only contain a single expression.\n",
    "- They are limited in terms of complexity; they are not suitable for large or complex functions.\n",
    "- They lack a name, which can make debugging more challenging.\n",
    "- Their use should be limited to cases where their simplicity and conciseness enhance code readability, rather than making the - - code less clear."
   ]
  },
  {
   "cell_type": "markdown",
   "id": "b50dfb01",
   "metadata": {},
   "source": [
    "# 3. Compare and contrast map, filter, and reduce."
   ]
  },
  {
   "cell_type": "markdown",
   "id": "62152112",
   "metadata": {},
   "source": [
    "**Ans:**"
   ]
  },
  {
   "cell_type": "markdown",
   "id": "22121946",
   "metadata": {},
   "source": [
    "**Map, Filter, and Reduce** are higher-order functions in Python used for processing sequences (lists, tuples, etc.). Here's a comparison:\n",
    "\n",
    "1. **Map**:\n",
    "   - Applies a given function to each item in an iterable.\n",
    "   - Returns an iterable (often a new list) containing the results.\n",
    "   - Example: `map(func, iterable)`\n",
    "\n",
    "2. **Filter**:\n",
    "   - Filters elements from an iterable based on a given function's condition.\n",
    "   - Returns an iterable containing only the elements that satisfy the condition.\n",
    "   - Example: `filter(func, iterable)`\n",
    "\n",
    "3. **Reduce**:\n",
    "   - Combines elements of an iterable into a single value using a given function.\n",
    "   - Typically used to perform cumulative operations.\n",
    "   - Requires the `functools` module in Python 3.\n",
    "   - Example: `reduce(func, iterable, initializer)`\n",
    "\n",
    "**Contrasts**:\n",
    "- **Map** applies a function to every element and returns a mapped iterable, while **Filter** selects elements based on a condition.\n",
    "- **Reduce** aggregates elements into a single value, not returning an iterable.\n",
    "- **Map** and **Filter** produce new iterables, preserving the original data. **Reduce** transforms data into a single value.\n",
    "- **Map** and **Filter** are easier to understand and more commonly used for simple transformations and filtering. **Reduce** is less common and often requires more complex functions.\n",
    "- **Reduce** needs an initializer (starting value), whereas **Map** and **Filter** don't.\n"
   ]
  },
  {
   "cell_type": "code",
   "execution_count": 18,
   "id": "57aaa3ed",
   "metadata": {},
   "outputs": [
    {
     "name": "stdout",
     "output_type": "stream",
     "text": [
      "[2, 4, 6, 8, 10]\n",
      "['ALICE', 'BOB', 'CAROL']\n"
     ]
    }
   ],
   "source": [
    "# Map function:\n",
    "# Example 1: Mapping a function to double each element in a list\n",
    "numbers = [1, 2, 3, 4, 5]\n",
    "doubled_numbers = list(map(lambda x: x * 2, numbers))\n",
    "print(doubled_numbers)  # Output: [2, 4, 6, 8, 10]\n",
    "\n",
    "# Example 2: Mapping a function to convert strings to uppercase\n",
    "names = [\"alice\", \"bob\", \"carol\"]\n",
    "uppercase_names = list(map(str.upper, names))\n",
    "print(uppercase_names)  # Output: ['ALICE', 'BOB', 'CAROL']"
   ]
  },
  {
   "cell_type": "code",
   "execution_count": 19,
   "id": "7c571ab1",
   "metadata": {},
   "outputs": [
    {
     "name": "stdout",
     "output_type": "stream",
     "text": [
      "[2, 4, 6]\n",
      "['alice', 'amy']\n"
     ]
    }
   ],
   "source": [
    "# Filter function:\n",
    "# Example 1: Filtering even numbers from a list\n",
    "numbers = [1, 2, 3, 4, 5, 6]\n",
    "even_numbers = list(filter(lambda x: x % 2 == 0, numbers))\n",
    "print(even_numbers)  # Output: [2, 4, 6]\n",
    "\n",
    "# Example 2: Filtering names that start with 'A' from a list\n",
    "names = [\"alice\", \"bob\", \"carol\", \"amy\"]\n",
    "a_names = list(filter(lambda name: name.startswith('a'), names))\n",
    "print(a_names)  # Output: ['alice', 'amy']\n"
   ]
  },
  {
   "cell_type": "code",
   "execution_count": 20,
   "id": "59999d03",
   "metadata": {},
   "outputs": [
    {
     "name": "stdout",
     "output_type": "stream",
     "text": [
      "15\n"
     ]
    }
   ],
   "source": [
    "# Reduce function:\n",
    "# Example: Reducing a list of numbers to their sum\n",
    "from functools import reduce\n",
    "numbers = [1, 2, 3, 4, 5]\n",
    "sum_of_numbers = reduce(lambda x, y: x + y, numbers)\n",
    "print(sum_of_numbers)  # Output: 15\n"
   ]
  },
  {
   "cell_type": "markdown",
   "id": "f6de284f",
   "metadata": {},
   "source": [
    "# 4. What are function annotations, and how are they used?"
   ]
  },
  {
   "cell_type": "markdown",
   "id": "f83fe978",
   "metadata": {},
   "source": [
    "**Ans:**"
   ]
  },
  {
   "cell_type": "markdown",
   "id": "fcbe6d6a",
   "metadata": {},
   "source": [
    "Function annotations in Python are a way to add metadata or additional information to the parameters and return value of a function. They allow you to hint at the expected types of function arguments and the return type, although Python itself does not enforce these annotations. Function annotations are specified using colons (:) following the function's parameter or return type, within the function's definition.\n",
    "\n",
    "Here's how function annotations are used:\n",
    "\n",
    "1. **Parameter Annotations:** You can annotate the parameters of a function to indicate the expected data types of these parameters. Parameter annotations are placed after the parameter name and a colon."
   ]
  },
  {
   "cell_type": "code",
   "execution_count": 27,
   "id": "a51cb6e9",
   "metadata": {},
   "outputs": [],
   "source": [
    "def greet(name: str, age: int) -> str:\n",
    "    return f\"Hello, {name}! You are {age} years old.\""
   ]
  },
  {
   "cell_type": "code",
   "execution_count": 30,
   "id": "ede7c5d3",
   "metadata": {},
   "outputs": [
    {
     "data": {
      "text/plain": [
       "'Hello, Piyush! You are 30 years old.'"
      ]
     },
     "execution_count": 30,
     "metadata": {},
     "output_type": "execute_result"
    }
   ],
   "source": [
    "greet('Piyush', 30)"
   ]
  },
  {
   "cell_type": "markdown",
   "id": "88c4ed5d",
   "metadata": {},
   "source": [
    "In this example, `name` is expected to be a string, `age` an integer, and the function is expected to return a string."
   ]
  },
  {
   "cell_type": "markdown",
   "id": "8368567c",
   "metadata": {},
   "source": [
    "2. **Return Type Annotation:** You can annotate the return type of a function using the `->` symbol, followed by the expected return type."
   ]
  },
  {
   "cell_type": "code",
   "execution_count": 32,
   "id": "8c9295da",
   "metadata": {},
   "outputs": [],
   "source": [
    "def add(a: int, b: int) -> int:\n",
    "    return a + b"
   ]
  },
  {
   "cell_type": "code",
   "execution_count": 33,
   "id": "783584cc",
   "metadata": {},
   "outputs": [
    {
     "data": {
      "text/plain": [
       "11"
      ]
     },
     "execution_count": 33,
     "metadata": {},
     "output_type": "execute_result"
    }
   ],
   "source": [
    "add(5,6)"
   ]
  },
  {
   "cell_type": "markdown",
   "id": "fc9be8d9",
   "metadata": {},
   "source": [
    "Here, the `add` function takes two integers as input and returns an integer."
   ]
  },
  {
   "cell_type": "markdown",
   "id": "8e4f0397",
   "metadata": {},
   "source": [
    "3. **Annotations are Optional:** Python does not require you to use annotations. They are optional and primarily serve as documentation. Python's dynamic typing means you can still pass arguments of different types to a function, and the function will execute as long as the operations inside are valid for those types."
   ]
  },
  {
   "cell_type": "markdown",
   "id": "401dabcd",
   "metadata": {},
   "source": [
    "4. **Accessing Annotations:** You can access function annotations using the `__annotations__` attribute of the function. It returns a dictionary containing parameter and return type annotations."
   ]
  },
  {
   "cell_type": "code",
   "execution_count": 34,
   "id": "7807e24f",
   "metadata": {},
   "outputs": [
    {
     "name": "stdout",
     "output_type": "stream",
     "text": [
      "{'name': <class 'str'>, 'age': <class 'int'>, 'return': <class 'str'>}\n"
     ]
    }
   ],
   "source": [
    "print(greet.__annotations__)  # Output: {'name': <class 'str'>, 'age': <class 'int'>, 'return': <class 'str'>}"
   ]
  },
  {
   "cell_type": "code",
   "execution_count": 35,
   "id": "b1fea97d",
   "metadata": {},
   "outputs": [
    {
     "name": "stdout",
     "output_type": "stream",
     "text": [
      "{'a': <class 'int'>, 'b': <class 'int'>, 'return': <class 'int'>}\n"
     ]
    }
   ],
   "source": [
    "print(add.__annotations__)"
   ]
  },
  {
   "cell_type": "markdown",
   "id": "b1e176a3",
   "metadata": {},
   "source": [
    "Function annotations are commonly used for documentation purposes, as well as for type hinting when working with tools like linters or type checkers. While Python itself does not enforce these types, tools like `mypy` can analyze your code and provide static type checking based on these annotations, helping catch potential type-related errors early in development."
   ]
  },
  {
   "cell_type": "markdown",
   "id": "5f5cbaa5",
   "metadata": {},
   "source": [
    "# 5. What are recursive functions, and how are they used?"
   ]
  },
  {
   "cell_type": "markdown",
   "id": "17955acf",
   "metadata": {},
   "source": [
    "**Ans:**"
   ]
  },
  {
   "cell_type": "markdown",
   "id": "bdaa283a",
   "metadata": {},
   "source": [
    "**Recursive functions** are like tasks that can call themselves to solve a bigger problem by breaking it into smaller, similar problems. It's similar to solving a puzzle where you solve smaller parts of the puzzle to eventually solve the whole thing.\n",
    "\n",
    "Let's take an example:\n",
    "\n",
    "**Countdown Function:**\n",
    "\n",
    "Imagine you want to count down from a number, say 5, to 1. You can write a function to do this. But instead of counting down from 5 to 1 directly, you can use recursion to break it down:\n",
    "\n",
    "1. Start with 5.\n",
    "2. Print 5.\n",
    "3. Call the function again but with 4 instead of 5.\n",
    "4. Inside that call, print 4 and call the function again with 3.\n",
    "5. Repeat until you reach 1."
   ]
  },
  {
   "cell_type": "code",
   "execution_count": 15,
   "id": "6e778833",
   "metadata": {},
   "outputs": [],
   "source": [
    "def countdown(n):\n",
    "    if n <= 0:  # This is the stopping condition.\n",
    "        return\n",
    "    print(n)\n",
    "    countdown(n - 1)  # Call the function with a smaller number."
   ]
  },
  {
   "cell_type": "code",
   "execution_count": 14,
   "id": "c1ebd185",
   "metadata": {},
   "outputs": [
    {
     "name": "stdout",
     "output_type": "stream",
     "text": [
      "5\n",
      "4\n",
      "3\n",
      "2\n",
      "1\n"
     ]
    }
   ],
   "source": [
    "countdown(5)"
   ]
  },
  {
   "cell_type": "code",
   "execution_count": 16,
   "id": "fa019c75",
   "metadata": {},
   "outputs": [],
   "source": [
    "# Example: To calculatr factorial-\n",
    "\n",
    "def factorial(n):\n",
    "    if n == 0:\n",
    "        return 1  # Base case\n",
    "    else:\n",
    "        return n * factorial(n - 1)  # Recursive case"
   ]
  },
  {
   "cell_type": "code",
   "execution_count": 17,
   "id": "1c4a4120",
   "metadata": {},
   "outputs": [
    {
     "data": {
      "text/plain": [
       "120"
      ]
     },
     "execution_count": 17,
     "metadata": {},
     "output_type": "execute_result"
    }
   ],
   "source": [
    "factorial(5)"
   ]
  },
  {
   "cell_type": "code",
   "execution_count": 18,
   "id": "1de13862",
   "metadata": {},
   "outputs": [],
   "source": [
    "# To calculate fibonacci sequence-\n",
    "\n",
    "def fibonacci(n):\n",
    "    if n <= 0:\n",
    "        return 0\n",
    "    \n",
    "    elif n == 1:\n",
    "        return 1\n",
    "    \n",
    "    else:\n",
    "        return fibonacci(n - 1) + fibonacci(n - 2)\n",
    "\n"
   ]
  },
  {
   "cell_type": "code",
   "execution_count": 19,
   "id": "769434e4",
   "metadata": {},
   "outputs": [
    {
     "data": {
      "text/plain": [
       "89"
      ]
     },
     "execution_count": 19,
     "metadata": {},
     "output_type": "execute_result"
    }
   ],
   "source": [
    "fibonacci(11)"
   ]
  },
  {
   "cell_type": "code",
   "execution_count": 20,
   "id": "57c393dd",
   "metadata": {},
   "outputs": [
    {
     "name": "stdout",
     "output_type": "stream",
     "text": [
      "1\n",
      "1\n",
      "2\n",
      "3\n",
      "5\n",
      "8\n",
      "13\n",
      "21\n",
      "34\n",
      "55\n",
      "89\n"
     ]
    }
   ],
   "source": [
    "# To calculate fibonacci numbers between 1 to 100:\n",
    "def fibonacci(n):\n",
    "    if n <= 0:\n",
    "        return 0\n",
    "    elif n == 1:\n",
    "        return 1\n",
    "    else:\n",
    "        return fibonacci(n - 1) + fibonacci(n - 2)\n",
    "\n",
    "n = 1\n",
    "while fibonacci(n) <= 100:\n",
    "    print(fibonacci(n))\n",
    "    n += 1"
   ]
  },
  {
   "cell_type": "markdown",
   "id": "c47c581e",
   "metadata": {},
   "source": [
    "Here's how recursive functions work:\n",
    "\n",
    "1. **Base Case**: A recursive function typically starts with a base case or termination condition. This is the condition under which the function stops calling itself and returns a value. Without a base case, the recursive function would continue calling itself indefinitely, leading to a stack overflow error.\n",
    "\n",
    "2. **Recursive Case**: In the recursive case, the function divides the problem into smaller subproblems that are similar to the original problem. It then calls itself with these subproblems.\n",
    "\n",
    "3. **Combining Results**: As the recursive calls return values, the function combines these results to solve the original problem.\n"
   ]
  },
  {
   "cell_type": "code",
   "execution_count": 1,
   "id": "e54220a7",
   "metadata": {},
   "outputs": [],
   "source": [
    "# Here's a classic example of a recursive function to calculate the factorial of a number in Python:\n",
    "\n",
    "def factorial(n):\n",
    "    if n == 0:\n",
    "        return 1  # Base case\n",
    "    else:\n",
    "        return n * factorial(n - 1)  # Recursive case\n"
   ]
  },
  {
   "cell_type": "code",
   "execution_count": 2,
   "id": "49be60fc",
   "metadata": {},
   "outputs": [
    {
     "data": {
      "text/plain": [
       "120"
      ]
     },
     "execution_count": 2,
     "metadata": {},
     "output_type": "execute_result"
    }
   ],
   "source": [
    "factorial(5)"
   ]
  },
  {
   "cell_type": "markdown",
   "id": "5388c82c",
   "metadata": {},
   "source": [
    "In this example, `factorial(n)` calculates `n!` (n factorial) by breaking it down into smaller subproblems. The base case is when `n` is 0, where `1` is returned. In the recursive case, the function calls itself with a smaller value `n - 1` and multiplies the result by `n`."
   ]
  },
  {
   "cell_type": "markdown",
   "id": "2567d9cc",
   "metadata": {},
   "source": [
    "# 6. What are some general design guidelines for coding functions?"
   ]
  },
  {
   "cell_type": "markdown",
   "id": "5f2d35cb",
   "metadata": {},
   "source": [
    "**Ans:**"
   ]
  },
  {
   "cell_type": "markdown",
   "id": "da5bdff7",
   "metadata": {},
   "source": [
    "Here are some general design guidelines for coding functions:\n",
    "\n",
    "1. **Single Responsibility Principle (SRP):** A function should have a single, well-defined responsibility. It should do one thing and do it well. If a function does too many things, it becomes harder to understand, test, and maintain.\n",
    "\n",
    "2. **Descriptive Names:** Choose meaningful and descriptive names for your functions. A good function name should convey its purpose or what it accomplishes.\n",
    "\n",
    "3. **Proper Parameter Usage:** Limit the number of parameters a function takes. If a function has too many parameters, it can be challenging to use and understand. Consider grouping related parameters into data structures (e.g., dictionaries, objects).\n",
    "\n",
    "4. **Avoid Side Effects:** Functions should ideally not modify global variables or have side effects outside their scope. A function should take inputs, perform operations, and return outputs without altering the state of other variables or objects.\n",
    "\n",
    "5. **Consistent Interfaces:** Follow consistent naming conventions and parameter orders. If you have multiple functions that perform similar tasks, make sure their interfaces (inputs and outputs) are consistent.\n",
    "\n",
    "6. **Error Handling:** Consider how your functions handle errors and edge cases. Use proper error-handling techniques like exceptions or return codes, depending on the language.\n",
    "\n",
    "7. **Avoid Global Variables:** Minimize the use of global variables within functions. Pass required data as parameters, or if necessary, use constants.\n",
    "\n",
    "8. **Avoid Deep Nesting:** Limit the level of nesting in your functions. Excessive nesting can make code harder to read. Consider breaking down complex logic into smaller functions.\n",
    "\n",
    "9. **Comments and Documentation:** Include clear and concise comments or docstrings to explain the purpose, inputs, and expected outputs of your functions. Documentation helps other developers understand and use your code.\n",
    "\n",
    "10. **Testability:** Write functions in a way that makes them easy to test. Separating concerns, using dependency injection, and avoiding complex dependencies can make unit testing more straightforward.\n",
    "\n",
    "11. **Efficiency:** Consider the performance of your functions, especially in critical sections of code. Use appropriate data structures and algorithms to optimize runtime.\n",
    "\n",
    "12. **Reusability:** Design functions to be reusable. If a piece of code is used in multiple places, consider abstracting it into a function to avoid code duplication.\n",
    "\n",
    "13. **Keep Functions Short:** Aim for shorter functions whenever possible. Short functions are easier to understand and maintain. If a function is too long, it may be an indication that it can be broken down into smaller functions.\n",
    "\n",
    "14. **Version Control:** Use version control systems like Git to track changes in your codebase. This allows you to experiment with function designs and revert to previous versions if needed.\n",
    "\n",
    "15. **Peer Review:** Have your code reviewed by colleagues or peers. Code reviews can provide valuable feedback on the design and readability of your functions.\n"
   ]
  },
  {
   "cell_type": "markdown",
   "id": "c3cfa4a2",
   "metadata": {},
   "source": [
    "# 7. Name three or more ways that functions can communicate results to a caller."
   ]
  },
  {
   "cell_type": "markdown",
   "id": "0a402305",
   "metadata": {},
   "source": [
    "**Ans:**"
   ]
  },
  {
   "cell_type": "markdown",
   "id": "504c2387",
   "metadata": {},
   "source": [
    "Functions can communicate results to a caller in several ways:\n",
    "\n",
    "1. **Return Values:** Functions can return one or more values using the `return` statement. The caller can capture these values when calling the function."
   ]
  },
  {
   "cell_type": "code",
   "execution_count": 3,
   "id": "3864952a",
   "metadata": {},
   "outputs": [],
   "source": [
    "def add(a, b):\n",
    "    result = a + b\n",
    "    return result"
   ]
  },
  {
   "cell_type": "code",
   "execution_count": 4,
   "id": "5767368c",
   "metadata": {},
   "outputs": [],
   "source": [
    "sum_result = add(2, 3)"
   ]
  },
  {
   "cell_type": "code",
   "execution_count": 5,
   "id": "734222d5",
   "metadata": {},
   "outputs": [
    {
     "data": {
      "text/plain": [
       "5"
      ]
     },
     "execution_count": 5,
     "metadata": {},
     "output_type": "execute_result"
    }
   ],
   "source": [
    "sum_result"
   ]
  },
  {
   "cell_type": "markdown",
   "id": "e1f1b8ca",
   "metadata": {},
   "source": [
    "2. **Modifying Mutable Objects:** Functions can modify mutable objects, such as lists or dictionaries, passed as arguments. These modifications are visible to the caller after the function call."
   ]
  },
  {
   "cell_type": "code",
   "execution_count": 7,
   "id": "35455456",
   "metadata": {},
   "outputs": [],
   "source": [
    "def append_element(my_list, element):\n",
    "    my_list.append(element)\n",
    "\n",
    "my_list = [1, 2, 3]\n",
    "append_element(my_list, 4)\n"
   ]
  },
  {
   "cell_type": "code",
   "execution_count": 8,
   "id": "955a8c18",
   "metadata": {},
   "outputs": [
    {
     "data": {
      "text/plain": [
       "[1, 2, 3, 4]"
      ]
     },
     "execution_count": 8,
     "metadata": {},
     "output_type": "execute_result"
    }
   ],
   "source": [
    "my_list"
   ]
  },
  {
   "cell_type": "markdown",
   "id": "47aeb913",
   "metadata": {},
   "source": [
    "3. **Global Variables:** Functions can modify global variables to communicate results. However, this approach should be used sparingly to avoid unintended side effects."
   ]
  },
  {
   "cell_type": "code",
   "execution_count": 9,
   "id": "e9bb209f",
   "metadata": {},
   "outputs": [],
   "source": [
    "global_var = 10\n",
    "\n",
    "def modify_global():\n",
    "    global global_var\n",
    "    global_var += 5\n",
    "\n",
    "modify_global()"
   ]
  },
  {
   "cell_type": "code",
   "execution_count": 10,
   "id": "72bcd824",
   "metadata": {},
   "outputs": [
    {
     "data": {
      "text/plain": [
       "15"
      ]
     },
     "execution_count": 10,
     "metadata": {},
     "output_type": "execute_result"
    }
   ],
   "source": [
    "global_var"
   ]
  },
  {
   "cell_type": "markdown",
   "id": "b92886f3",
   "metadata": {},
   "source": [
    "4. **Print Statements:** Functions can use `print` statements to display results or information for debugging purposes. While this doesn't directly return values, it helps in understanding the function's behavior."
   ]
  },
  {
   "cell_type": "code",
   "execution_count": 11,
   "id": "d628b82e",
   "metadata": {},
   "outputs": [
    {
     "name": "stdout",
     "output_type": "stream",
     "text": [
      "The result is: 42\n"
     ]
    }
   ],
   "source": [
    "def display_result(result):\n",
    "    print(f\"The result is: {result}\")\n",
    "\n",
    "display_result(42)"
   ]
  },
  {
   "cell_type": "markdown",
   "id": "4cb03304",
   "metadata": {},
   "source": [
    "5. **Exception Handling:** Functions can raise exceptions to signal errors or exceptional conditions. The caller can catch and handle these exceptions as needed."
   ]
  },
  {
   "cell_type": "code",
   "execution_count": 15,
   "id": "c05309a0",
   "metadata": {},
   "outputs": [],
   "source": [
    "def divide(a, b):\n",
    "    if b == 0:\n",
    "        raise ValueError(\"Division by zero '0' is not allowed.\")\n",
    "    return a / b"
   ]
  },
  {
   "cell_type": "code",
   "execution_count": 16,
   "id": "6184bce2",
   "metadata": {},
   "outputs": [
    {
     "ename": "ValueError",
     "evalue": "Division by zero '0' is not allowed.",
     "output_type": "error",
     "traceback": [
      "\u001b[1;31m---------------------------------------------------------------------------\u001b[0m",
      "\u001b[1;31mValueError\u001b[0m                                Traceback (most recent call last)",
      "\u001b[1;32m~\\AppData\\Local\\Temp/ipykernel_4104/2545208144.py\u001b[0m in \u001b[0;36m<module>\u001b[1;34m\u001b[0m\n\u001b[1;32m----> 1\u001b[1;33m \u001b[0mdivide\u001b[0m\u001b[1;33m(\u001b[0m\u001b[1;36m3\u001b[0m\u001b[1;33m,\u001b[0m\u001b[1;36m0\u001b[0m\u001b[1;33m)\u001b[0m\u001b[1;33m\u001b[0m\u001b[1;33m\u001b[0m\u001b[0m\n\u001b[0m",
      "\u001b[1;32m~\\AppData\\Local\\Temp/ipykernel_4104/177884895.py\u001b[0m in \u001b[0;36mdivide\u001b[1;34m(a, b)\u001b[0m\n\u001b[0;32m      1\u001b[0m \u001b[1;32mdef\u001b[0m \u001b[0mdivide\u001b[0m\u001b[1;33m(\u001b[0m\u001b[0ma\u001b[0m\u001b[1;33m,\u001b[0m \u001b[0mb\u001b[0m\u001b[1;33m)\u001b[0m\u001b[1;33m:\u001b[0m\u001b[1;33m\u001b[0m\u001b[1;33m\u001b[0m\u001b[0m\n\u001b[0;32m      2\u001b[0m     \u001b[1;32mif\u001b[0m \u001b[0mb\u001b[0m \u001b[1;33m==\u001b[0m \u001b[1;36m0\u001b[0m\u001b[1;33m:\u001b[0m\u001b[1;33m\u001b[0m\u001b[1;33m\u001b[0m\u001b[0m\n\u001b[1;32m----> 3\u001b[1;33m         \u001b[1;32mraise\u001b[0m \u001b[0mValueError\u001b[0m\u001b[1;33m(\u001b[0m\u001b[1;34m\"Division by zero '0' is not allowed.\"\u001b[0m\u001b[1;33m)\u001b[0m\u001b[1;33m\u001b[0m\u001b[1;33m\u001b[0m\u001b[0m\n\u001b[0m\u001b[0;32m      4\u001b[0m     \u001b[1;32mreturn\u001b[0m \u001b[0ma\u001b[0m \u001b[1;33m/\u001b[0m \u001b[0mb\u001b[0m\u001b[1;33m\u001b[0m\u001b[1;33m\u001b[0m\u001b[0m\n",
      "\u001b[1;31mValueError\u001b[0m: Division by zero '0' is not allowed."
     ]
    }
   ],
   "source": [
    "divide(3,0)"
   ]
  },
  {
   "cell_type": "markdown",
   "id": "dab03d93",
   "metadata": {},
   "source": [
    "6. **Callback Functions:** Functions can accept callback functions as arguments, allowing the caller to provide custom behavior for certain tasks."
   ]
  },
  {
   "cell_type": "code",
   "execution_count": 19,
   "id": "a6add9d4",
   "metadata": {},
   "outputs": [],
   "source": [
    "def process_data(data, callback):\n",
    "    result = callback(data)\n",
    "    return result\n",
    "\n",
    "def custom_callback(data):\n",
    "    # Custom processing logic\n",
    "    return processed_data"
   ]
  },
  {
   "cell_type": "code",
   "execution_count": 29,
   "id": "65e30a81",
   "metadata": {},
   "outputs": [
    {
     "name": "stdout",
     "output_type": "stream",
     "text": [
      "PIYUSH\n"
     ]
    }
   ],
   "source": [
    "input_data = \"Piyush\"\n",
    "processed_result = process_data(input_data, custom_callback)\n",
    "print(processed_result)"
   ]
  },
  {
   "cell_type": "markdown",
   "id": "916ef2bb",
   "metadata": {},
   "source": [
    "7. **Return Multiple Values:** Functions can return multiple values as a tuple, list, or dictionary. The caller can then unpack these values."
   ]
  },
  {
   "cell_type": "code",
   "execution_count": 24,
   "id": "9be4cd12",
   "metadata": {},
   "outputs": [],
   "source": [
    "def get_user_info():\n",
    "    name = \"Alice\"\n",
    "    age = 30\n",
    "    return name, age\n",
    "\n",
    "user_name, user_age = get_user_info()"
   ]
  },
  {
   "cell_type": "code",
   "execution_count": 25,
   "id": "ef9015a3",
   "metadata": {},
   "outputs": [
    {
     "data": {
      "text/plain": [
       "('Alice', 30)"
      ]
     },
     "execution_count": 25,
     "metadata": {},
     "output_type": "execute_result"
    }
   ],
   "source": [
    "user_name, user_age"
   ]
  },
  {
   "cell_type": "code",
   "execution_count": null,
   "id": "583866db",
   "metadata": {},
   "outputs": [],
   "source": []
  },
  {
   "cell_type": "code",
   "execution_count": null,
   "id": "1a2de558",
   "metadata": {},
   "outputs": [],
   "source": []
  }
 ],
 "metadata": {
  "kernelspec": {
   "display_name": "Python 3 (ipykernel)",
   "language": "python",
   "name": "python3"
  },
  "language_info": {
   "codemirror_mode": {
    "name": "ipython",
    "version": 3
   },
   "file_extension": ".py",
   "mimetype": "text/x-python",
   "name": "python",
   "nbconvert_exporter": "python",
   "pygments_lexer": "ipython3",
   "version": "3.9.7"
  }
 },
 "nbformat": 4,
 "nbformat_minor": 5
}

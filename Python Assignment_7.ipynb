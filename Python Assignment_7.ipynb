{
 "cells": [
  {
   "cell_type": "markdown",
   "id": "1542fc23",
   "metadata": {},
   "source": [
    "# 1. What is the name of the feature responsible for generating Regex objects?"
   ]
  },
  {
   "cell_type": "markdown",
   "id": "b75c4a46",
   "metadata": {},
   "source": [
    "Answer: "
   ]
  },
  {
   "cell_type": "markdown",
   "id": "e93ea49b",
   "metadata": {},
   "source": [
    "The feature responsible for generating regular expression (Regex) objects in Python is part of the re module. The re.compile() function is used to create Regex objects."
   ]
  },
  {
   "cell_type": "code",
   "execution_count": 60,
   "id": "d7a16429",
   "metadata": {},
   "outputs": [
    {
     "name": "stdout",
     "output_type": "stream",
     "text": [
      "Match found: apple\n"
     ]
    }
   ],
   "source": [
    "# Example\n",
    "\n",
    "import re\n",
    "\n",
    "# Create a Regex object to match a simple pattern (e.g., 'apple')\n",
    "pattern = re.compile(r'apple')\n",
    "\n",
    "# Use the Regex object for matching or searching in strings\n",
    "match = pattern.match('apple pie')\n",
    "if match:\n",
    "    print('Match found:', match.group())"
   ]
  },
  {
   "cell_type": "markdown",
   "id": "4fc4911b",
   "metadata": {},
   "source": [
    "# 2. Why do raw strings often appear in Regex objects?"
   ]
  },
  {
   "cell_type": "markdown",
   "id": "2cb050e4",
   "metadata": {},
   "source": [
    "Answer: "
   ]
  },
  {
   "cell_type": "markdown",
   "id": "abe02f6e",
   "metadata": {},
   "source": [
    "Raw strings, denoted by the r prefix in Python (e.g., r'pattern'), are often used in regular expressions (Regex) objects for several reasons:"
   ]
  },
  {
   "cell_type": "markdown",
   "id": "7ccdb388",
   "metadata": {},
   "source": [
    "1. Avoiding Escape Sequences: \n",
    "- Regular expressions often contain many backslashes (\\) to escape special characters (e.g., \\d for a digit). \n",
    "\n",
    "- In regular Python strings, backslashes are used to escape characters as well (e.g., \\n for a newline). \n",
    "\n",
    "- Using a raw string (prefixed with r) eliminates the need to double-escape backslashes in regular expressions. This makes regex patterns more readable and less error-prone."
   ]
  },
  {
   "cell_type": "markdown",
   "id": "94a51608",
   "metadata": {},
   "source": [
    "2. Improved Readability: \n",
    "\n",
    "- Raw strings make regex patterns more readable because you can express the pattern exactly as it appears."
   ]
  },
  {
   "cell_type": "markdown",
   "id": "a83f3efc",
   "metadata": {},
   "source": [
    "3. Clarity: \n",
    "\n",
    "- It's often clearer to use raw strings in regex patterns to explicitly show that the string is intended for regular expression matching. \n",
    "\n",
    "- It distinguishes regex patterns from regular strings and enhances code clarity."
   ]
  },
  {
   "cell_type": "code",
   "execution_count": 61,
   "id": "f393f15c",
   "metadata": {},
   "outputs": [
    {
     "name": "stdout",
     "output_type": "stream",
     "text": [
      "\\d{3}-\\d{2}-\\d{4}\n",
      "\\d{3}-\\d{2}-\\d{4}\n"
     ]
    }
   ],
   "source": [
    "# Example:\n",
    "\n",
    "# Without a raw string, you need to escape backslashes for regex and Python\n",
    "pattern_without_raw = \"\\\\d{3}-\\\\d{2}-\\\\d{4}\"\n",
    "\n",
    "# With a raw string, you can write the pattern more naturally\n",
    "pattern_with_raw = r'\\d{3}-\\d{2}-\\d{4}'\n",
    "\n",
    "print(pattern_without_raw)\n",
    "print(pattern_with_raw)"
   ]
  },
  {
   "cell_type": "markdown",
   "id": "c52f8350",
   "metadata": {},
   "source": [
    "# 3. What is the return value of the search() method?"
   ]
  },
  {
   "cell_type": "markdown",
   "id": "6dd9573c",
   "metadata": {},
   "source": [
    "Answer: "
   ]
  },
  {
   "cell_type": "markdown",
   "id": "f26b5c34",
   "metadata": {},
   "source": [
    "The search() method of a regular expression (regex) object in Python returns a special object called a \"match object\" if a match is found in the input string. If no match is found, it returns None."
   ]
  },
  {
   "cell_type": "code",
   "execution_count": 62,
   "id": "0455ae6c",
   "metadata": {},
   "outputs": [
    {
     "name": "stdout",
     "output_type": "stream",
     "text": [
      "Match found: orange\n"
     ]
    }
   ],
   "source": [
    "# Example:\n",
    "\n",
    "import re\n",
    "\n",
    "# Create a regex pattern\n",
    "pattern = re.compile(r'orange')\n",
    "\n",
    "# Search for the pattern in a string\n",
    "match = pattern.search('I love apples and oranges.')\n",
    "\n",
    "# Check if a match is found\n",
    "if match:\n",
    "    print('Match found:', match.group())\n",
    "else:\n",
    "    print('No match found')"
   ]
  },
  {
   "cell_type": "markdown",
   "id": "8b5dbdd7",
   "metadata": {},
   "source": [
    "# 4. From a Match item, how do you get the actual strings that match the pattern?"
   ]
  },
  {
   "cell_type": "markdown",
   "id": "6819923a",
   "metadata": {},
   "source": [
    "Answer: "
   ]
  },
  {
   "cell_type": "markdown",
   "id": "e224ba1c",
   "metadata": {},
   "source": [
    "To get the actual string(s) that match the pattern from a Match object in Python's `re` module, you can use the `group()` method. The `group()` method returns the substring of the input string that matched the pattern."
   ]
  },
  {
   "cell_type": "code",
   "execution_count": 63,
   "id": "959f8d10",
   "metadata": {},
   "outputs": [
    {
     "name": "stdout",
     "output_type": "stream",
     "text": [
      "Matched string: 0011-2233-4455\n"
     ]
    }
   ],
   "source": [
    "# Example: \n",
    "\n",
    "import re\n",
    "pattern = re.compile(r'\\d{4}-\\d{4}-\\d{4}')                           # Create a regex pattern\n",
    "match = pattern.search('My Adhar number is 0011-2233-4455.')  # Search for the pattern in a string\n",
    "# Check if a match is found\n",
    "if match:\n",
    "    matched_string = match.group()             # Get the matched string\n",
    "    print('Matched string:', matched_string)\n",
    "else:\n",
    "    print('No match found')"
   ]
  },
  {
   "cell_type": "markdown",
   "id": "f8894fd5",
   "metadata": {},
   "source": [
    "**Important Note:**\n",
    "\n",
    "We can also use `group(0)` to achieve the same result since 0 is the default argument for `group()`. \n",
    "\n",
    "Additionally, if your regex pattern contains capturing groups, you can access each captured group using `group(1)`, `group(2)`, and so on, to extract specific parts of the matched string."
   ]
  },
  {
   "cell_type": "markdown",
   "id": "af26775c",
   "metadata": {},
   "source": [
    "# 5. In the regex which created from the `r'(\\d\\d\\d)-(\\d\\d\\d-\\d\\d\\d\\d)'`, what does group zero cover? Group 2? Group 1?"
   ]
  },
  {
   "cell_type": "markdown",
   "id": "31b7ba94",
   "metadata": {},
   "source": [
    "Answer: "
   ]
  },
  {
   "cell_type": "markdown",
   "id": "3e56a6aa",
   "metadata": {},
   "source": [
    "In the regex pattern `r'(\\d\\d\\d)-(\\d\\d\\d-\\d\\d\\d\\d)'`, which contains two sets of parentheses for capturing groups, here's what each group covers:\n",
    "\n",
    "1. **Group 0**: Group 0 covers the entire matched string, including the entire phone number in the format `###-###-####`. It represents the entire match.\n",
    "\n",
    "2. **Group 1**: Group 1 covers the first set of parentheses `(\\d\\d\\d)`, which matches and captures three consecutive digits. This group represents the first three digits of the phone number.\n",
    "\n",
    "3. **Group 2**: Group 2 covers the second set of parentheses `(\\d\\d\\d-\\d\\d\\d\\d)`, which matches and captures the remaining seven digits in the format `###-####`. This group represents the remaining part of the phone number after the hyphen."
   ]
  },
  {
   "cell_type": "code",
   "execution_count": 64,
   "id": "d80a6375",
   "metadata": {},
   "outputs": [
    {
     "name": "stdout",
     "output_type": "stream",
     "text": [
      "Entire match: 555-123-4567\n",
      "First three digits: 555\n",
      "Remaining digits: 123-4567\n"
     ]
    }
   ],
   "source": [
    "# Example:\n",
    "\n",
    "import re\n",
    "# Create a regex pattern\n",
    "pattern = re.compile(r'(\\d\\d\\d)-(\\d\\d\\d-\\d\\d\\d\\d)')\n",
    "\n",
    "# Search for the pattern in a string\n",
    "match = pattern.search('My phone number is 555-123-4567.')\n",
    "\n",
    "# Check if a match is found\n",
    "if match:\n",
    "    # Get the entire matched string (Group 0)\n",
    "    entire_match = match.group(0)\n",
    "    print('Entire match:', entire_match)\n",
    "\n",
    "    # Get the first three digits (Group 1)\n",
    "    first_three_digits = match.group(1)\n",
    "    print('First three digits:', first_three_digits)\n",
    "\n",
    "    # Get the remaining seven digits (Group 2)\n",
    "    remaining_digits = match.group(2)\n",
    "    print('Remaining digits:', remaining_digits)\n",
    "else:\n",
    "    print('No match found')\n"
   ]
  },
  {
   "cell_type": "markdown",
   "id": "44d27e5d",
   "metadata": {},
   "source": [
    "# 6. In standard expression syntax, parentheses and intervals have distinct meanings. How can you tell a regex that you want it to fit real parentheses and periods?"
   ]
  },
  {
   "cell_type": "markdown",
   "id": "b75e9418",
   "metadata": {},
   "source": [
    "Answer: "
   ]
  },
  {
   "cell_type": "markdown",
   "id": "3dab4b6d",
   "metadata": {},
   "source": [
    "Periods and parentheses can be escaped with a backslash: `\\., \\(, and \\)`."
   ]
  },
  {
   "cell_type": "code",
   "execution_count": 65,
   "id": "a3be3395",
   "metadata": {},
   "outputs": [
    {
     "name": "stdout",
     "output_type": "stream",
     "text": [
      "Matched string: (3.14)\n"
     ]
    }
   ],
   "source": [
    "# Example:\n",
    "\n",
    "import re\n",
    "\n",
    "# Create a regex pattern to match literal parentheses and a period\n",
    "pattern = re.compile(r'\\(\\d+\\.\\d+\\)')\n",
    "\n",
    "# Search for the pattern in a string\n",
    "match = pattern.search('The value is (3.14).')\n",
    "\n",
    "# Check if a match is found\n",
    "if match:\n",
    "    # Get the entire matched string\n",
    "    matched_string = match.group()\n",
    "    print('Matched string:', matched_string)\n",
    "else:\n",
    "    print('No match found')\n"
   ]
  },
  {
   "cell_type": "markdown",
   "id": "dd229c48",
   "metadata": {},
   "source": [
    "# 7. The `findall()` method returns a string list or a list of string tuples. What causes it to return one of the two options?"
   ]
  },
  {
   "cell_type": "markdown",
   "id": "bbf413b7",
   "metadata": {},
   "source": [
    "Answer: "
   ]
  },
  {
   "cell_type": "markdown",
   "id": "4a4d4681",
   "metadata": {},
   "source": [
    "- If our regex pattern does not contain any capturing groups (parentheses), the findall() method returns a list of strings. Each element in the list represents a complete match of the pattern."
   ]
  },
  {
   "cell_type": "code",
   "execution_count": 66,
   "id": "da014150",
   "metadata": {},
   "outputs": [
    {
     "name": "stdout",
     "output_type": "stream",
     "text": [
      "['123-45-6789', '987-65-4321']\n"
     ]
    }
   ],
   "source": [
    "# Example:\n",
    "\n",
    "import re\n",
    "\n",
    "pattern = re.compile(r'\\d{3}-\\d{2}-\\d{4}')\n",
    "text = 'My SSN is 123-45-6789 and yours is 987-65-4321.'\n",
    "matches = pattern.findall(text)\n",
    "\n",
    "print(matches)  # Returns a list of matched strings"
   ]
  },
  {
   "cell_type": "markdown",
   "id": "585f11e4",
   "metadata": {},
   "source": [
    "- If our regex pattern contains one or more capturing groups (parentheses), the findall() method returns a list of tuples. Each tuple represents a complete match of the pattern, and the elements of the tuple correspond to the captured groups in the pattern."
   ]
  },
  {
   "cell_type": "code",
   "execution_count": 67,
   "id": "361c528b",
   "metadata": {},
   "outputs": [
    {
     "name": "stdout",
     "output_type": "stream",
     "text": [
      "[('123', '45', '6789'), ('987', '65', '4321')]\n"
     ]
    }
   ],
   "source": [
    "# Example: \n",
    "\n",
    "import re\n",
    "\n",
    "pattern = re.compile(r'(\\d{3})-(\\d{2})-(\\d{4})')\n",
    "text = 'My SSN is 123-45-6789 and yours is 987-65-4321.'\n",
    "matches = pattern.findall(text)\n",
    "\n",
    "print(matches)  # Returns a list of tuples, each containing captured groups"
   ]
  },
  {
   "cell_type": "markdown",
   "id": "dd019f3e",
   "metadata": {},
   "source": [
    "# 8. In standard expressions, what does the | character mean?"
   ]
  },
  {
   "cell_type": "markdown",
   "id": "f8307c31",
   "metadata": {},
   "source": [
    "Answer: "
   ]
  },
  {
   "cell_type": "markdown",
   "id": "be9e945e",
   "metadata": {},
   "source": [
    "- The `|` character is used to specify alternatives within a regex pattern. It allows us to match one pattern or another.\n",
    "\n",
    "- In other words, it acts like a logical OR operator for regex patterns."
   ]
  },
  {
   "cell_type": "code",
   "execution_count": 68,
   "id": "f9560eb9",
   "metadata": {},
   "outputs": [
    {
     "name": "stdout",
     "output_type": "stream",
     "text": [
      "['cat', 'dog']\n"
     ]
    }
   ],
   "source": [
    "# Example:\n",
    "\n",
    "import re\n",
    "\n",
    "pattern = re.compile(r'cat|dog') \n",
    "text = 'I have a cat and a dog.'\n",
    "matches = pattern.findall(text)\n",
    "\n",
    "print(matches)"
   ]
  },
  {
   "cell_type": "markdown",
   "id": "64401650",
   "metadata": {},
   "source": [
    "    The | character is useful when you want to search for multiple alternative patterns within a single regex expression."
   ]
  },
  {
   "cell_type": "markdown",
   "id": "bf29f7bd",
   "metadata": {},
   "source": [
    "# 9. In regular expressions, what does the character stand for?"
   ]
  },
  {
   "cell_type": "markdown",
   "id": "144a6a74",
   "metadata": {},
   "source": [
    "Answer: "
   ]
  },
  {
   "cell_type": "markdown",
   "id": "61aaec56",
   "metadata": {},
   "source": [
    "    However the name of the character in the question is not stated. So, let's assume it as `.` (dot) character.\n",
    "    (becuase dot character has a special meaning)"
   ]
  },
  {
   "cell_type": "markdown",
   "id": "dc116400",
   "metadata": {},
   "source": [
    "- The dot . matches any character except a newline character (\\n). It is used to represent a wildcard, meaning it can match any character at that position in the string."
   ]
  },
  {
   "cell_type": "markdown",
   "id": "afef8d57",
   "metadata": {},
   "source": [
    "For example:\n",
    "\n",
    "The pattern `a.b` matches any string that has an \"a,\" followed by any character, followed by \"b.\" This would match \"aab,\" \"axb,\" \"a1b,\" and so on."
   ]
  },
  {
   "cell_type": "code",
   "execution_count": 69,
   "id": "8fe80ffb",
   "metadata": {},
   "outputs": [
    {
     "name": "stdout",
     "output_type": "stream",
     "text": [
      "['a b', 'a b']\n"
     ]
    }
   ],
   "source": [
    "# Example:\n",
    "\n",
    "import re\n",
    "\n",
    "pattern = re.compile(r'a.b')\n",
    "text = 'I have a bag and a bat.'\n",
    "matches = pattern.findall(text)\n",
    "\n",
    "print(matches)"
   ]
  },
  {
   "cell_type": "markdown",
   "id": "8dec5cd8",
   "metadata": {},
   "source": [
    "# 10.In regular expressions, what is the difference between the `+` and `*` characters?"
   ]
  },
  {
   "cell_type": "markdown",
   "id": "5a953635",
   "metadata": {},
   "source": [
    "Answer: "
   ]
  },
  {
   "cell_type": "markdown",
   "id": "6ab96b2e",
   "metadata": {},
   "source": [
    "1. - The `+` quantifier matches one or more occurrences of the preceding character or group.\n",
    "\n",
    "- For example, `a+` matches one or more consecutive \"a\" characters. It would match \"a,\" \"aa,\" \"aaa,\" and so on, but not an empty string or a string without \"a.\""
   ]
  },
  {
   "cell_type": "markdown",
   "id": "e2475160",
   "metadata": {},
   "source": [
    "2. - The `*` quantifier matches zero or more occurrences of the preceding character or group.\n",
    "\n",
    "- For example, a* matches zero or more consecutive \"a\" characters. It would match an empty string (no \"a\" characters), \"a,\" \"aa,\" \"aaa,\" and so on."
   ]
  },
  {
   "cell_type": "markdown",
   "id": "f184f28c",
   "metadata": {},
   "source": [
    "# 11. What is the difference between {4} and {4,5} in regular expression?"
   ]
  },
  {
   "cell_type": "markdown",
   "id": "3a1ba969",
   "metadata": {},
   "source": [
    "Answer: "
   ]
  },
  {
   "cell_type": "markdown",
   "id": "d399273e",
   "metadata": {},
   "source": [
    "- `{4}` matches exactly 4 occurrences.\n",
    "- For example, \\d{4} matches exactly four consecutive digits."
   ]
  },
  {
   "cell_type": "markdown",
   "id": "ed00b53d",
   "metadata": {},
   "source": [
    "- `{4,5}` matches between 4 and 5 occurrences (inclusive)\n",
    "- For example, `\\d{4,5}` matches between 4 and 5 consecutive digits. It would match \"1234\" and \"12345,\" but not \"123\" or \"123456.\""
   ]
  },
  {
   "cell_type": "markdown",
   "id": "58448716",
   "metadata": {},
   "source": [
    "# 12. What do you mean by the `\\d`, `\\w`, and `\\s` shorthand character classes signify in regular expressions?"
   ]
  },
  {
   "cell_type": "markdown",
   "id": "36cf510a",
   "metadata": {},
   "source": [
    "Answer: "
   ]
  },
  {
   "cell_type": "markdown",
   "id": "05b8371d",
   "metadata": {},
   "source": [
    "1. `\\d`: This shorthand character class represents any digit. It matches any single digit from 0 to 9.\n",
    "- For example, `\\d` would match the following characters: 0, 1, 2, 3, 4, 5, 6, 7, 8, 9."
   ]
  },
  {
   "cell_type": "markdown",
   "id": "51c9e243",
   "metadata": {},
   "source": [
    "2. `\\w`: This shorthand character class represents a word character. It matches alphanumeric characters (letters and digits) as well as underscores (`_`).\n",
    "- For example, `\\w` would match the following characters: a-z, A-Z, 0-9, and `_`."
   ]
  },
  {
   "cell_type": "markdown",
   "id": "3f778fc1",
   "metadata": {},
   "source": [
    "3. `\\s`: This shorthand character class represents whitespace characters. It matches spaces, tabs, newlines, carriage returns, and other whitespace characters.\n",
    "- For example, `\\s` would match spaces, tabs, and newline characters."
   ]
  },
  {
   "cell_type": "markdown",
   "id": "ab12a609",
   "metadata": {},
   "source": [
    "# 13. What do means by `\\D`, `\\W`, and `\\S` shorthand character classes signify in regular expressions?"
   ]
  },
  {
   "cell_type": "markdown",
   "id": "0ca61b88",
   "metadata": {},
   "source": [
    "Answer: "
   ]
  },
  {
   "cell_type": "markdown",
   "id": "92b2ad11",
   "metadata": {},
   "source": [
    "In regular expressions (regex), the `\\D`, `\\W`, and `\\S` shorthand character classes are negated versions of `\\d`, `\\w`, and `\\s`, respectively. They represent sets of characters that are the opposite of their non-negated counterparts."
   ]
  },
  {
   "cell_type": "markdown",
   "id": "5ec4789f",
   "metadata": {},
   "source": [
    "1. `\\D`: This shorthand character class represents any character that is not a digit. It matches any character except for digits (0-9).\n",
    " - For example, `\\D` would match any character that is not a digit, such as letters, punctuation, and whitespace."
   ]
  },
  {
   "cell_type": "markdown",
   "id": "58ddcc3b",
   "metadata": {},
   "source": [
    "2. `\\W`: This shorthand character class represents any character that is not a word character. It matches any character that is not alphanumeric (letters and digits) or an underscore (`_`).\n",
    "- For example, `\\W` would match any character that is not a word character, including spaces, punctuation, and special symbols."
   ]
  },
  {
   "cell_type": "markdown",
   "id": "a9242f8f",
   "metadata": {},
   "source": [
    "3. `\\S`: This shorthand character class represents any character that is not a whitespace character. It matches any character that is not a space, tab, newline, or other whitespace characters.\n",
    "- For example, `\\S` would match any character that is not a whitespace character, including letters, digits, and symbols."
   ]
  },
  {
   "cell_type": "markdown",
   "id": "d140f98f",
   "metadata": {},
   "source": [
    "# 14. What is the difference between `.*?` and `.*`?"
   ]
  },
  {
   "cell_type": "markdown",
   "id": "8574237f",
   "metadata": {},
   "source": [
    "Answer: "
   ]
  },
  {
   "cell_type": "markdown",
   "id": "47a30100",
   "metadata": {},
   "source": [
    "1. **`.*` (Greedy Matching)**: `.*` is a greedy quantifier that matches as much text as possible while still allowing the remainder of the regex pattern to match successfully. It will match the longest possible sequence of characters.\n",
    "   - For example, in the regex pattern `a.*b`, if the input text is \"aabbab,\" `a.*b` will match the entire string \"aabbab\" because it's the longest sequence of characters between \"a\" and \"b.\""
   ]
  },
  {
   "cell_type": "markdown",
   "id": "81310ecc",
   "metadata": {},
   "source": [
    "2. **`.*?` (Lazy Matching)**: `.*?` is a lazy quantifier that matches as little text as possible while still allowing the remainder of the regex pattern to match successfully. It will match the shortest possible sequence of characters.\n",
    "   - Using the same pattern, in the regex pattern `a.*?b`, if the input text is \"aabbab,\" `a.*?b` will match \"aab\" because it's the shortest sequence of characters between \"a\" and \"b\" that allows the pattern to match."
   ]
  },
  {
   "cell_type": "code",
   "execution_count": 70,
   "id": "b92ba5f6",
   "metadata": {},
   "outputs": [
    {
     "name": "stdout",
     "output_type": "stream",
     "text": [
      "Greedy Match: aabbab\n",
      "Lazy Match: aab\n"
     ]
    }
   ],
   "source": [
    "# Example:\n",
    "\n",
    "import re\n",
    "\n",
    "text = \"aabbab\"\n",
    "\n",
    "# Greedy matching with `.*`\n",
    "pattern_greedy = re.compile(r'a.*b')\n",
    "match_greedy = pattern_greedy.search(text)\n",
    "if match_greedy:\n",
    "    print('Greedy Match:', match_greedy.group())\n",
    "\n",
    "# Lazy matching with `.*?`\n",
    "pattern_lazy = re.compile(r'a.*?b')\n",
    "match_lazy = pattern_lazy.search(text)\n",
    "if match_lazy:\n",
    "    print('Lazy Match:', match_lazy.group())\n"
   ]
  },
  {
   "cell_type": "markdown",
   "id": "8eac485a",
   "metadata": {},
   "source": [
    "# 15. What is the syntax for matching both numbers and lowercase letters with a character class?"
   ]
  },
  {
   "cell_type": "markdown",
   "id": "a10c87d9",
   "metadata": {},
   "source": [
    "Answer: "
   ]
  },
  {
   "cell_type": "markdown",
   "id": "d88b31b8",
   "metadata": {},
   "source": [
    "The syntax is-\n",
    "\n",
    "`[0-9a-z]`"
   ]
  },
  {
   "cell_type": "markdown",
   "id": "ee1a55f1",
   "metadata": {},
   "source": [
    "- [0-9]: This part of the character class matches any digit from 0 to 9."
   ]
  },
  {
   "cell_type": "markdown",
   "id": "2dc39725",
   "metadata": {},
   "source": [
    "- [a-z]: This part of the character class matches any lowercase letter from 'a' to 'z'."
   ]
  },
  {
   "cell_type": "code",
   "execution_count": 71,
   "id": "0850618f",
   "metadata": {},
   "outputs": [
    {
     "name": "stdout",
     "output_type": "stream",
     "text": [
      "['he', 'quick', 'brown', 'fox', 'jumps', 'over', '123', 'lazy', 'dogs']\n"
     ]
    }
   ],
   "source": [
    "# Example:\n",
    "import re\n",
    "\n",
    "text = \"The quick brown fox jumps over 123 lazy dogs.\"\n",
    "\n",
    "pattern = re.compile(r'[0-9a-z]+')\n",
    "matches = pattern.findall(text)\n",
    "\n",
    "print(matches)"
   ]
  },
  {
   "cell_type": "markdown",
   "id": "f4eaa2bf",
   "metadata": {},
   "source": [
    "# 16. What is the procedure for making a normal expression in regax case insensitive?"
   ]
  },
  {
   "cell_type": "markdown",
   "id": "bd8e8d62",
   "metadata": {},
   "source": [
    "Answer: "
   ]
  },
  {
   "cell_type": "markdown",
   "id": "046ad1b0",
   "metadata": {},
   "source": [
    "- To make a regular expression (regex) case-insensitive in Python, you can use the re.IGNORECASE or re.I flag when compiling the regex pattern"
   ]
  },
  {
   "cell_type": "markdown",
   "id": "6d075f32",
   "metadata": {},
   "source": [
    "##### Procedure:"
   ]
  },
  {
   "cell_type": "code",
   "execution_count": 72,
   "id": "6f07c8bc",
   "metadata": {},
   "outputs": [],
   "source": [
    "# Step 1 : Import the re module-\n",
    "\n",
    "import re"
   ]
  },
  {
   "cell_type": "code",
   "execution_count": 73,
   "id": "709949b5",
   "metadata": {},
   "outputs": [],
   "source": [
    "# Step 2: Create your regex pattern, and compile it with the re.IGNORECASE or re.I flag-\n",
    "\n",
    "pattern = re.compile(r'your_pattern_here', re.IGNORECASE)"
   ]
  },
  {
   "cell_type": "markdown",
   "id": "d8fbfcb0",
   "metadata": {},
   "source": [
    "##### Example"
   ]
  },
  {
   "cell_type": "code",
   "execution_count": 74,
   "id": "49fcf74f",
   "metadata": {},
   "outputs": [
    {
     "name": "stdout",
     "output_type": "stream",
     "text": [
      "Match found: Fox\n"
     ]
    }
   ],
   "source": [
    "import re\n",
    "\n",
    "text = \"The quick brown Fox jumped over the Lazy Dog.\"\n",
    "# Case-insensitive pattern to match \"fox\"\n",
    "pattern = re.compile(r'fox', re.IGNORECASE)\n",
    "match = pattern.search(text)\n",
    "\n",
    "if match:\n",
    "    print('Match found:', match.group())\n",
    "else:\n",
    "    print('No match found')"
   ]
  },
  {
   "cell_type": "markdown",
   "id": "47d7617e",
   "metadata": {},
   "source": [
    "# 17. What does the `.` character normally match? What does it match if `re.DOTALL` is passed as 2nd argument in `re.compile()`?"
   ]
  },
  {
   "cell_type": "markdown",
   "id": "2b047990",
   "metadata": {},
   "source": [
    "Answer: "
   ]
  },
  {
   "cell_type": "markdown",
   "id": "e73dfa08",
   "metadata": {},
   "source": [
    "- The `.` character in a regular expression normally matches any character except for a newline character (`\\n`)."
   ]
  },
  {
   "cell_type": "markdown",
   "id": "07f585c0",
   "metadata": {},
   "source": [
    "- If we pass `re.DOTALL` as the second argument when compiling a regex pattern using `re.compile()`, it changes the behavior of the `.` character. Specifically, `re.DOTALL` (or re.S) makes the . character match any character, including newline characters (\\n)."
   ]
  },
  {
   "cell_type": "code",
   "execution_count": 75,
   "id": "f3968e51",
   "metadata": {},
   "outputs": [
    {
     "name": "stdout",
     "output_type": "stream",
     "text": [
      "Without re.DOTALL: Hello\n",
      "With re.DOTALL: Hello\n",
      "World\n"
     ]
    }
   ],
   "source": [
    "# Example: \n",
    "\n",
    "import re\n",
    "\n",
    "text = \"\"\"Hello\n",
    "World\"\"\"\n",
    "\n",
    "# Without re.DOTALL, the dot does not match newline\n",
    "pattern_no_dotall = re.compile(r'.+')\n",
    "match_no_dotall = pattern_no_dotall.search(text)\n",
    "print('Without re.DOTALL:', match_no_dotall.group() if match_no_dotall else 'No match')\n",
    "\n",
    "# With re.DOTALL, the dot matches newline\n",
    "pattern_dotall = re.compile(r'.+', re.DOTALL)\n",
    "match_dotall = pattern_dotall.search(text)\n",
    "print('With re.DOTALL:', match_dotall.group() if match_dotall else 'No match')\n"
   ]
  },
  {
   "cell_type": "markdown",
   "id": "2cfbd358",
   "metadata": {},
   "source": [
    "# 18. If numReg = re.compile(r'\\d+'), what will numRegex.sub('X', '11 drummers, 10 pipers, five rings, 4 hen') return?"
   ]
  },
  {
   "cell_type": "markdown",
   "id": "946172a2",
   "metadata": {},
   "source": [
    "Answer: "
   ]
  },
  {
   "cell_type": "code",
   "execution_count": 76,
   "id": "6f52b9f0",
   "metadata": {},
   "outputs": [
    {
     "name": "stdout",
     "output_type": "stream",
     "text": [
      "X drummers, X pipers, five rings, X hen\n"
     ]
    }
   ],
   "source": [
    "import re\n",
    "\n",
    "numReg = re.compile(r'\\d+')\n",
    "text = '11 drummers, 10 pipers, five rings, 4 hen'\n",
    "result = numReg.sub('X', text)\n",
    "\n",
    "print(result)"
   ]
  },
  {
   "cell_type": "markdown",
   "id": "2ad92fe3",
   "metadata": {},
   "source": [
    "# 19. What does passing `re.VERBOSE` as the 2nd argument to `re.compile()` allow to do?"
   ]
  },
  {
   "cell_type": "markdown",
   "id": "ae59a500",
   "metadata": {},
   "source": [
    "Answer: "
   ]
  },
  {
   "cell_type": "markdown",
   "id": "08213ceb",
   "metadata": {},
   "source": [
    "Passing `re.VERBOSE` as the second argument to `re.compile()` in Python allows you to write more readable and well-structured regular expressions by adding whitespace and comments."
   ]
  },
  {
   "cell_type": "code",
   "execution_count": 77,
   "id": "a3487478",
   "metadata": {},
   "outputs": [],
   "source": [
    "# Without re.VERBOSE:\n",
    "\n",
    "import re\n",
    "\n",
    "pattern = re.compile(r'\\d{3}-\\d{2}-\\d{4}|\\(\\d{3}\\)\\s\\d{3}-\\d{4}')\n"
   ]
  },
  {
   "cell_type": "code",
   "execution_count": 78,
   "id": "7cb5ece4",
   "metadata": {},
   "outputs": [],
   "source": [
    "# With re.VERBOSE:\n",
    "\n",
    "pattern = re.compile(r'''\n",
    "    \\d{3}-\\d{2}-\\d{4}   # Match XXX-XX-XXXX (SSN)\n",
    "    |                  # OR\n",
    "    \\(\\d{3}\\)\\s\\d{3}-\\d{4}  # Match (XXX) XXX-XXXX (phone number)\n",
    "''', re.VERBOSE)\n"
   ]
  },
  {
   "cell_type": "markdown",
   "id": "2626721a",
   "metadata": {},
   "source": [
    "# 20. How would you write a regex that match a number with comma for every three digits? It must match the given following:\n",
    "\n",
    "#### '42'\n",
    "\n",
    "#### '1,234'\n",
    "\n",
    "#### '6,368,745'\n",
    "\n",
    "### but not the following:\n",
    "\n",
    "#### '12,34,567' (which has only two digits between the commas)\n",
    "\n",
    "#### '1234' (which lacks commas)"
   ]
  },
  {
   "cell_type": "markdown",
   "id": "ab919d3f",
   "metadata": {},
   "source": [
    "Answer: "
   ]
  },
  {
   "cell_type": "markdown",
   "id": "3881fa0a",
   "metadata": {},
   "source": [
    "`e.compile(r'^\\d{1,3}(,{3})*$')` will create this regex, but other regex strings can produce a similar regular expression."
   ]
  },
  {
   "cell_type": "markdown",
   "id": "98bd8133",
   "metadata": {},
   "source": [
    "# 21. How would you write a regex that matches the full name of someone whose last name is Watanabe? You can assume that the first name that comes before it will always be one word that begins with a capital letter. The regex must match the following:\n",
    "\n",
    "### 'Haruto Watanabe'\n",
    "### 'Alice Watanabe'\n",
    "### 'RoboCop Watanabe'\n",
    "### but not the following:\n",
    "### 'haruto Watanabe' (where the first name is not capitalized)\n",
    "### 'Mr. Watanabe' (where the preceding word has a nonletter character)\n",
    "### 'Watanabe' (which has no first name)\n",
    "### 'Haruto watanabe' (where Watanabe is not capitalized)"
   ]
  },
  {
   "cell_type": "markdown",
   "id": "42404b4f",
   "metadata": {},
   "source": [
    "Answer: "
   ]
  },
  {
   "cell_type": "markdown",
   "id": "f1e1d6e3",
   "metadata": {},
   "source": [
    "To write a regex that matches the full name of someone whose last name is Watanabe with the given conditions, we can use the following pattern:"
   ]
  },
  {
   "cell_type": "code",
   "execution_count": 79,
   "id": "feefd092",
   "metadata": {},
   "outputs": [],
   "source": [
    "pattern = re.compile(r'[A-Z][a-zA-Z]*\\sWatanabe')"
   ]
  },
  {
   "cell_type": "markdown",
   "id": "4423a91a",
   "metadata": {},
   "source": [
    "# 22. How would you write a regex that matches a sentence where the first word is either Alice, Bob, or Carol; the second word is either eats, pets, or throws; the third word is apples, cats, or baseballs; and the sentence ends with a period? This regex should be case-insensitive. It must match the following:\n",
    "\n",
    "### 'Alice eats apples.'\n",
    "### 'Bob pets cats.'\n",
    "### 'Carol throws baseballs.'\n",
    "### 'Alice throws Apples.'\n",
    "### 'BOB EATS CATS.'\n",
    "## but not the following:\n",
    "### 'RoboCop eats apples.'\n",
    "### 'ALICE THROWS FOOTBALLS.'\n",
    "### 'Carol eats 7 cats.'"
   ]
  },
  {
   "cell_type": "markdown",
   "id": "1402644b",
   "metadata": {},
   "source": [
    "Answer: "
   ]
  },
  {
   "cell_type": "markdown",
   "id": "6c4772bb",
   "metadata": {},
   "source": [
    "To write a regex that matches a sentence following the specified pattern while being case-insensitive, we can use the following pattern:"
   ]
  },
  {
   "cell_type": "code",
   "execution_count": 80,
   "id": "8549d99e",
   "metadata": {},
   "outputs": [],
   "source": [
    "pattern = re.compile(r'^(Alice|Bob|Carol)\\s+(eats|pets|throws)\\s+(apples|cats|baseballs)\\.\\s*$', re.IGNORECASE)"
   ]
  }
 ],
 "metadata": {
  "kernelspec": {
   "display_name": "Python 3 (ipykernel)",
   "language": "python",
   "name": "python3"
  },
  "language_info": {
   "codemirror_mode": {
    "name": "ipython",
    "version": 3
   },
   "file_extension": ".py",
   "mimetype": "text/x-python",
   "name": "python",
   "nbconvert_exporter": "python",
   "pygments_lexer": "ipython3",
   "version": "3.9.7"
  }
 },
 "nbformat": 4,
 "nbformat_minor": 5
}

{
 "cells": [
  {
   "cell_type": "markdown",
   "id": "68635b0f",
   "metadata": {},
   "source": [
    "## 1. What exactly is []?"
   ]
  },
  {
   "cell_type": "markdown",
   "id": "96d4b4fd",
   "metadata": {},
   "source": [
    "Answer:"
   ]
  },
  {
   "cell_type": "markdown",
   "id": "c8494a7d",
   "metadata": {},
   "source": [
    "[] represents an empty list."
   ]
  },
  {
   "cell_type": "code",
   "execution_count": 1,
   "id": "12ba1943",
   "metadata": {},
   "outputs": [],
   "source": [
    "empty_list = []"
   ]
  },
  {
   "cell_type": "code",
   "execution_count": 3,
   "id": "80d9e758",
   "metadata": {},
   "outputs": [
    {
     "data": {
      "text/plain": [
       "0"
      ]
     },
     "execution_count": 3,
     "metadata": {},
     "output_type": "execute_result"
    }
   ],
   "source": [
    "len(empty_list) # An empty list has a length of 0 because it contains no items."
   ]
  },
  {
   "cell_type": "markdown",
   "id": "3af063cb",
   "metadata": {},
   "source": [
    "## 2. In a list of values stored in a variable called spam, how would you assign the value 'hello' as the third value? (Assume [2, 4, 6, 8, 10] are in spam.)"
   ]
  },
  {
   "cell_type": "code",
   "execution_count": 5,
   "id": "a708ef9d",
   "metadata": {},
   "outputs": [
    {
     "name": "stdout",
     "output_type": "stream",
     "text": [
      "[2, 4, 'hello', 8, 10]\n"
     ]
    }
   ],
   "source": [
    "spam = [2, 4, 6, 8, 10]  # Original list\n",
    "spam[2] = 'hello'       # Assign 'hello' to the third value (index 2)\n",
    "print(spam)  # Output: [2, 4, 'hello', 8, 10]"
   ]
  },
  {
   "cell_type": "markdown",
   "id": "5796420b",
   "metadata": {},
   "source": [
    " List indices start at 0, so the third value would have an index of 2 (0-based indexing), like [0,1,2,3,4...]"
   ]
  },
  {
   "cell_type": "markdown",
   "id": "0ce41564",
   "metadata": {},
   "source": [
    "### Let's pretend the spam includes the list ['a', 'b', 'c', 'd'] for the next three queries.\n",
    "## 3. What is the value of spam[int(int('3' * 2) / 11)]?"
   ]
  },
  {
   "cell_type": "code",
   "execution_count": 6,
   "id": "b26786f3",
   "metadata": {},
   "outputs": [
    {
     "name": "stdout",
     "output_type": "stream",
     "text": [
      "d\n"
     ]
    }
   ],
   "source": [
    "spam = ['a', 'b', 'c', 'd']  # Initial list\n",
    "index = int(int('3' * 2) / 11)  # Calculate the index\n",
    "\n",
    "result = spam[index]  # Access the element at the calculated index\n",
    "print(result)  # Output: 'd'"
   ]
  },
  {
   "cell_type": "markdown",
   "id": "530c1193",
   "metadata": {},
   "source": [
    "- Step 1: '3' * 2 evaluates to the string '33'.\n",
    "\n",
    "- Step 2: int('33') converts the string '33' to an integer, which is 33.\n",
    "\n",
    "- Step 3: int('3' * 2) / 11 evaluates to 33 / 11, which is 3.0 as a floating-point number due to division.\n",
    "\n",
    "- int(3.0) converts the floating-point number 3.0 to an integer, which is still 3\n",
    "\n",
    "So, the value of spam[int(int('3' * 2) / 11)] is the same as spam[3], which accesses the fourth element of the spam list that is d."
   ]
  },
  {
   "cell_type": "markdown",
   "id": "4e3811d0",
   "metadata": {},
   "source": [
    " ## 4. What is the value of spam[-1]?"
   ]
  },
  {
   "cell_type": "markdown",
   "id": "cc731b0d",
   "metadata": {},
   "source": [
    "Negative indices in a list are used to access elements from the end of the list.\n",
    "\n",
    "-1 represents the last element\n",
    "\n",
    "-2 represents the second-to-last element\n",
    "\n",
    "and so on...\n",
    "\n",
    "Therefore, spam[-1] accesses the last element of the list, which is 'd' in this case."
   ]
  },
  {
   "cell_type": "code",
   "execution_count": 8,
   "id": "4ced3a9c",
   "metadata": {},
   "outputs": [
    {
     "name": "stdout",
     "output_type": "stream",
     "text": [
      "d\n"
     ]
    }
   ],
   "source": [
    "spam = ['a', 'b', 'c', 'd']  # Initial list\n",
    "last_element = spam[-1]  # Access the last element using negative indexing\n",
    "\n",
    "print(last_element)  # Output: 'd'"
   ]
  },
  {
   "cell_type": "markdown",
   "id": "cd32f8e2",
   "metadata": {},
   "source": [
    "## 5. What is the value of spam[:2]?"
   ]
  },
  {
   "cell_type": "markdown",
   "id": "77f44f1f",
   "metadata": {},
   "source": [
    "Slicing is used to extract a portion of a list. \n",
    "\n",
    "In this case, [:2] specifies a slice that starts from the beginning of the list (index 0) and includes elements up to, but not including, the element at index 2. \n",
    "\n",
    "So, it includes elements at indices 0 and 1, which are 'a' and 'b'."
   ]
  },
  {
   "cell_type": "code",
   "execution_count": 9,
   "id": "2de4210c",
   "metadata": {},
   "outputs": [
    {
     "name": "stdout",
     "output_type": "stream",
     "text": [
      "['a', 'b']\n"
     ]
    }
   ],
   "source": [
    "spam = ['a', 'b', 'c', 'd']  # Initial list\n",
    "subset = spam[:2]  # Slice from the beginning to index 2 \n",
    "\n",
    "print(subset)  # Output: ['a', 'b']\n"
   ]
  },
  {
   "cell_type": "markdown",
   "id": "ca508689",
   "metadata": {},
   "source": [
    "### Let's pretend bacon has the list [3.14, 'cat', 11, 'cat', True] for the next three questions."
   ]
  },
  {
   "cell_type": "markdown",
   "id": "a0afc38a",
   "metadata": {},
   "source": [
    "## 6. What is the value of bacon.index('cat')?"
   ]
  },
  {
   "cell_type": "markdown",
   "id": "56d7c27a",
   "metadata": {},
   "source": [
    "The index() method in Python is used to find the index (position) of the first occurrence of a specified value in a list. In this case, 'cat' first appears at index 1 in the bacon list. \n",
    "\n",
    "\n",
    "Therefore, bacon.index('cat') returns 1."
   ]
  },
  {
   "cell_type": "code",
   "execution_count": 10,
   "id": "001ab2a8",
   "metadata": {},
   "outputs": [
    {
     "name": "stdout",
     "output_type": "stream",
     "text": [
      "1\n"
     ]
    }
   ],
   "source": [
    "bacon = [3.14, 'cat', 11, 'cat', True]  # Initial list\n",
    "index = bacon.index('cat')  # Find the index of the first occurrence of 'cat'\n",
    "\n",
    "print(index)  # Output: 1"
   ]
  },
  {
   "cell_type": "markdown",
   "id": "53a2f55a",
   "metadata": {},
   "source": [
    "## 7. How does bacon.append(99) change the look of the list value in bacon?"
   ]
  },
  {
   "cell_type": "markdown",
   "id": "6c0fb17d",
   "metadata": {},
   "source": [
    "The bacon.append(99) operation adds the value 99 to the end of the bacon list, altering its content. After this operation, the bacon list will be modified."
   ]
  },
  {
   "cell_type": "code",
   "execution_count": 18,
   "id": "f703cf63",
   "metadata": {},
   "outputs": [],
   "source": [
    "bacon = [3.14, 'cat', 11, 'cat', True] # Before bacon.append(99)"
   ]
  },
  {
   "cell_type": "code",
   "execution_count": 19,
   "id": "24453cbc",
   "metadata": {},
   "outputs": [],
   "source": [
    "bacon.append(99)"
   ]
  },
  {
   "cell_type": "code",
   "execution_count": 21,
   "id": "ef760718",
   "metadata": {},
   "outputs": [
    {
     "data": {
      "text/plain": [
       "[3.14, 'cat', 11, 'cat', True, 99]"
      ]
     },
     "execution_count": 21,
     "metadata": {},
     "output_type": "execute_result"
    }
   ],
   "source": [
    "bacon  # After bacon.append(99)"
   ]
  },
  {
   "cell_type": "markdown",
   "id": "51ffef2c",
   "metadata": {},
   "source": [
    "## 8. How does bacon.remove('cat') change the look of the list in bacon?"
   ]
  },
  {
   "cell_type": "markdown",
   "id": "801d77ef",
   "metadata": {},
   "source": [
    "The bacon.remove('cat') operation removes the first occurrence of the value 'cat' from the bacon list, altering its content."
   ]
  },
  {
   "cell_type": "code",
   "execution_count": 22,
   "id": "f52edfa9",
   "metadata": {},
   "outputs": [
    {
     "data": {
      "text/plain": [
       "[3.14, 'cat', 11, 'cat', True, 99]"
      ]
     },
     "execution_count": 22,
     "metadata": {},
     "output_type": "execute_result"
    }
   ],
   "source": [
    "bacon  # Before bacon.remove('cat')"
   ]
  },
  {
   "cell_type": "code",
   "execution_count": 23,
   "id": "de24aa8f",
   "metadata": {},
   "outputs": [],
   "source": [
    "bacon.remove('cat')"
   ]
  },
  {
   "cell_type": "code",
   "execution_count": 25,
   "id": "96239ce1",
   "metadata": {},
   "outputs": [
    {
     "data": {
      "text/plain": [
       "[3.14, 11, 'cat', True, 99]"
      ]
     },
     "execution_count": 25,
     "metadata": {},
     "output_type": "execute_result"
    }
   ],
   "source": [
    "bacon # After bacon.remove('cat')"
   ]
  },
  {
   "cell_type": "markdown",
   "id": "1c6c258c",
   "metadata": {},
   "source": [
    "## 9. What are the list concatenation and list replication operators?"
   ]
  },
  {
   "cell_type": "markdown",
   "id": "d85abb93",
   "metadata": {},
   "source": [
    "In Python, we can concatenate lists using the + operator, and we can replicate (repeat) a list using the * operator."
   ]
  },
  {
   "cell_type": "code",
   "execution_count": 27,
   "id": "45760017",
   "metadata": {},
   "outputs": [],
   "source": [
    "# List Concatenation (+)\n",
    "\n",
    "list1 = [1, 2, 3]\n",
    "list2 = [4, 5, 6]\n",
    "result = list1 + list2  # Concatenate lists\n",
    "# Resulting list: [1, 2, 3, 4, 5, 6]"
   ]
  },
  {
   "cell_type": "code",
   "execution_count": 28,
   "id": "e2b2c19c",
   "metadata": {},
   "outputs": [
    {
     "data": {
      "text/plain": [
       "[1, 2, 3, 4, 5, 6]"
      ]
     },
     "execution_count": 28,
     "metadata": {},
     "output_type": "execute_result"
    }
   ],
   "source": [
    "result"
   ]
  },
  {
   "cell_type": "code",
   "execution_count": 29,
   "id": "3d26acb2",
   "metadata": {},
   "outputs": [],
   "source": [
    "# List Replication (*)\n",
    "\n",
    "original_list = [1, 2, 3]\n",
    "replicated_list = original_list * 3  # Replicate list three times\n",
    "# Resulting list: [1, 2, 3, 1, 2, 3, 1, 2, 3]"
   ]
  },
  {
   "cell_type": "code",
   "execution_count": 30,
   "id": "88e1f2eb",
   "metadata": {},
   "outputs": [
    {
     "data": {
      "text/plain": [
       "[1, 2, 3, 1, 2, 3, 1, 2, 3]"
      ]
     },
     "execution_count": 30,
     "metadata": {},
     "output_type": "execute_result"
    }
   ],
   "source": [
    "replicated_list"
   ]
  },
  {
   "cell_type": "markdown",
   "id": "7b6b76a5",
   "metadata": {},
   "source": [
    "## 10. What is difference between the list methods append() and insert()?"
   ]
  },
  {
   "cell_type": "markdown",
   "id": "7453f118",
   "metadata": {},
   "source": [
    "#### append() Method:\n",
    "\n",
    "- The append() method is used to add an element to the end of a list.\n",
    "\n",
    "- It takes a single argument, which is the value you want to add to the list.\n",
    "\n",
    "- The added element becomes the last element of the list.\n",
    "\n",
    "- It does not require specifying an index."
   ]
  },
  {
   "cell_type": "code",
   "execution_count": 31,
   "id": "6888f533",
   "metadata": {},
   "outputs": [],
   "source": [
    "# Example:\n",
    "my_list = [1, 2, 3]\n",
    "my_list.append(4)  # Adds 4 to the end of the list\n",
    "# Resulting list: [1, 2, 3, 4]"
   ]
  },
  {
   "cell_type": "code",
   "execution_count": 32,
   "id": "2e593e45",
   "metadata": {},
   "outputs": [
    {
     "data": {
      "text/plain": [
       "[1, 2, 3, 4]"
      ]
     },
     "execution_count": 32,
     "metadata": {},
     "output_type": "execute_result"
    }
   ],
   "source": [
    "my_list"
   ]
  },
  {
   "cell_type": "markdown",
   "id": "2fe3e961",
   "metadata": {},
   "source": [
    "#### insert() Method:\n",
    "\n",
    "- The insert() method is used to add an element to a specific position within a list.\n",
    "\n",
    "- It takes two arguments: the index at which you want to insert the element and the value you want to insert.\n",
    "\n",
    "- The element is inserted at the specified index, and the existing elements are shifted to accommodate the new element."
   ]
  },
  {
   "cell_type": "code",
   "execution_count": 35,
   "id": "cf0e24eb",
   "metadata": {},
   "outputs": [],
   "source": [
    "# Example:\n",
    "\n",
    "my_list = [1, 2, 3]\n",
    "my_list.insert(1, 4)  # Inserts 4 at index 1\n",
    "# Resulting list: [1, 4, 2, 3]"
   ]
  },
  {
   "cell_type": "code",
   "execution_count": 36,
   "id": "b6f7e29e",
   "metadata": {},
   "outputs": [
    {
     "data": {
      "text/plain": [
       "[1, 4, 2, 3]"
      ]
     },
     "execution_count": 36,
     "metadata": {},
     "output_type": "execute_result"
    }
   ],
   "source": [
    "my_list"
   ]
  },
  {
   "cell_type": "markdown",
   "id": "87ddf076",
   "metadata": {},
   "source": [
    "## 11. What are the two methods for removing items from a list?"
   ]
  },
  {
   "cell_type": "markdown",
   "id": "0070f4e0",
   "metadata": {},
   "source": [
    "#### 1. remove() Method:\n",
    "\n",
    "- The remove() method is used to remove the first occurrence of a specified value from a list.\n",
    "\n",
    "- It takes one argument, which is the value to be removed.\n",
    "\n",
    "- If the value appears multiple times in the list, only the first occurrence is removed."
   ]
  },
  {
   "cell_type": "code",
   "execution_count": 37,
   "id": "f8536d60",
   "metadata": {},
   "outputs": [],
   "source": [
    "my_list = [1, 2, 3, 2, 4]\n",
    "my_list.remove(2)  # Removes the first occurrence of 2\n",
    "# Resulting list: [1, 3, 2, 4]"
   ]
  },
  {
   "cell_type": "code",
   "execution_count": 38,
   "id": "154c937c",
   "metadata": {},
   "outputs": [
    {
     "data": {
      "text/plain": [
       "[1, 3, 2, 4]"
      ]
     },
     "execution_count": 38,
     "metadata": {},
     "output_type": "execute_result"
    }
   ],
   "source": [
    "my_list"
   ]
  },
  {
   "cell_type": "markdown",
   "id": "9751156c",
   "metadata": {},
   "source": [
    "#### 2. pop() Method:\n",
    "\n",
    "- The pop() method is used to remove an item from a list at a specific index and return the removed item.\n",
    "\n",
    "- It takes one optional argument, which is the index of the item to be removed. If the index is not provided, it removes and returns the last item in the list.\n",
    "\n",
    "- This method is useful when you need to remove an item at a specific position and also want to use or store the removed item."
   ]
  },
  {
   "cell_type": "code",
   "execution_count": 40,
   "id": "2eceb332",
   "metadata": {},
   "outputs": [],
   "source": [
    "my_list = [1, 2, 3, 4]\n",
    "removed_item = my_list.pop(1)  # Removes and returns the item at index 1 (2)\n",
    "# Resulting list: [1, 3, 4]\n"
   ]
  },
  {
   "cell_type": "code",
   "execution_count": 41,
   "id": "4f37f118",
   "metadata": {},
   "outputs": [
    {
     "data": {
      "text/plain": [
       "[1, 3, 4]"
      ]
     },
     "execution_count": 41,
     "metadata": {},
     "output_type": "execute_result"
    }
   ],
   "source": [
    "my_list"
   ]
  },
  {
   "cell_type": "markdown",
   "id": "63fbb208",
   "metadata": {},
   "source": [
    "## 12. Describe how list values and string values are identical."
   ]
  },
  {
   "cell_type": "markdown",
   "id": "3f67c3a5",
   "metadata": {},
   "source": [
    "List values and string values in Python share several similarities:"
   ]
  },
  {
   "cell_type": "markdown",
   "id": "0b29e4cb",
   "metadata": {},
   "source": [
    "#### 1. Sequential Data Structures:\n",
    "\n",
    "Both lists and strings are sequential data structures, meaning they store collections of elements that can be accessed one at a time."
   ]
  },
  {
   "cell_type": "markdown",
   "id": "6e4d7588",
   "metadata": {},
   "source": [
    "#### 2. Ordered Sequences:\n",
    "\n",
    "They both maintain the order of elements. The order in which elements are added or arranged in a list or string is preserved."
   ]
  },
  {
   "cell_type": "markdown",
   "id": "bde87acf",
   "metadata": {},
   "source": [
    "#### 3. Indexing:\n",
    "\n",
    "- We can access individual elements within both lists and strings using indexing. Elements are accessed by their position (index) within the sequence.\n",
    "\n",
    "- Indexing starts at 0 in both lists and strings, so the first element is at index 0, the second at index 1, and so on."
   ]
  },
  {
   "cell_type": "markdown",
   "id": "4237b1f1",
   "metadata": {},
   "source": [
    "#### Slicing:\n",
    "\n",
    "Both lists and strings support slicing, allowing to extract a portion of the sequence by specifying a range of indices.\n",
    "Slicing creates a new list or string containing the selected elements."
   ]
  },
  {
   "cell_type": "markdown",
   "id": "56e1d66a",
   "metadata": {},
   "source": [
    "#### 3. Iterability:\n",
    "\n",
    "- We can iterate over both lists and strings using loops (e.g., for loops) or other iteration constructs.\n",
    "- This allows to process each element one by one."
   ]
  },
  {
   "cell_type": "markdown",
   "id": "f1564264",
   "metadata": {},
   "source": [
    "#### Concatenation:\n",
    "\n",
    "- You can concatenate (combine) multiple lists or strings to create new lists or strings.\n",
    "\n",
    "- For strings, concatenation is typically done using the + operator, and for lists, it's also done using +."
   ]
  },
  {
   "cell_type": "code",
   "execution_count": 43,
   "id": "e25c8b09",
   "metadata": {},
   "outputs": [],
   "source": [
    "# Example (String):\n",
    "\n",
    "string1 = \"Hello\"\n",
    "string2 = \"World\"\n",
    "concatenated_string = string1 + \" \" + string2  # Concatenation"
   ]
  },
  {
   "cell_type": "code",
   "execution_count": 44,
   "id": "f2f04267",
   "metadata": {},
   "outputs": [
    {
     "data": {
      "text/plain": [
       "'Hello World'"
      ]
     },
     "execution_count": 44,
     "metadata": {},
     "output_type": "execute_result"
    }
   ],
   "source": [
    "concatenated_string"
   ]
  },
  {
   "cell_type": "code",
   "execution_count": 45,
   "id": "5ba99b3a",
   "metadata": {},
   "outputs": [],
   "source": [
    "# Example (List):\n",
    "\n",
    "list1 = [1, 2, 3]\n",
    "list2 = [4, 5, 6]\n",
    "concatenated_list = list1 + list2  # Concatenation"
   ]
  },
  {
   "cell_type": "code",
   "execution_count": 46,
   "id": "59e623a4",
   "metadata": {},
   "outputs": [
    {
     "data": {
      "text/plain": [
       "[1, 2, 3, 4, 5, 6]"
      ]
     },
     "execution_count": 46,
     "metadata": {},
     "output_type": "execute_result"
    }
   ],
   "source": [
    "concatenated_list"
   ]
  },
  {
   "cell_type": "markdown",
   "id": "c5a8b0ce",
   "metadata": {},
   "source": [
    "#### Length:\n",
    "\n",
    "We can determine the number of elements in both lists and strings using the len() function."
   ]
  },
  {
   "cell_type": "code",
   "execution_count": 47,
   "id": "aea342da",
   "metadata": {},
   "outputs": [],
   "source": [
    "my_string = \"Python\"\n",
    "string_length = len(my_string)  # Length of the string (6)\n",
    "\n",
    "my_list = [1, 2, 3, 4, 5]\n",
    "list_length = len(my_list)  # Length of the list (5)"
   ]
  },
  {
   "cell_type": "code",
   "execution_count": 48,
   "id": "2383db2a",
   "metadata": {},
   "outputs": [
    {
     "data": {
      "text/plain": [
       "6"
      ]
     },
     "execution_count": 48,
     "metadata": {},
     "output_type": "execute_result"
    }
   ],
   "source": [
    "string_length"
   ]
  },
  {
   "cell_type": "code",
   "execution_count": 49,
   "id": "bddbf736",
   "metadata": {},
   "outputs": [
    {
     "data": {
      "text/plain": [
       "5"
      ]
     },
     "execution_count": 49,
     "metadata": {},
     "output_type": "execute_result"
    }
   ],
   "source": [
    "list_length"
   ]
  },
  {
   "cell_type": "markdown",
   "id": "9c028af3",
   "metadata": {},
   "source": [
    "## 13. What's the difference between tuples and lists?"
   ]
  },
  {
   "cell_type": "markdown",
   "id": "24a94302",
   "metadata": {},
   "source": [
    "1. Mutability: Lists are mutable (modifiable), while tuples are immutable (unchangeable).\n",
    "\n",
    "2. Syntax: Lists are defined with square brackets, while tuples use parentheses.\n",
    "\n",
    "3. Methods: Lists have more methods for modification; tuples have fewer methods due to immutability.\n",
    "\n",
    "4. Performance: Lists may require more memory due to mutability; tuples are more memory-efficient.\n",
    "\n",
    "5. Use Cases: Lists are for changing collections; tuples are for unchanging data.\n",
    "\n",
    "6. Iteration: Both support iteration via loops.\n",
    "\n",
    "7. Syntax Flexibility: Tuples require a trailing comma for single-element tuples."
   ]
  },
  {
   "cell_type": "markdown",
   "id": "00c23cb5",
   "metadata": {},
   "source": [
    "## 14. How do you type a tuple value that only contains the integer 42?"
   ]
  },
  {
   "cell_type": "code",
   "execution_count": 52,
   "id": "f7f874e8",
   "metadata": {},
   "outputs": [],
   "source": [
    "my_tuple = (42,)  # The trailing comma is necessary to distinguish it from a regular expression in parentheses."
   ]
  },
  {
   "cell_type": "code",
   "execution_count": 53,
   "id": "c354e75f",
   "metadata": {},
   "outputs": [
    {
     "data": {
      "text/plain": [
       "tuple"
      ]
     },
     "execution_count": 53,
     "metadata": {},
     "output_type": "execute_result"
    }
   ],
   "source": [
    "type(my_tuple)"
   ]
  },
  {
   "cell_type": "markdown",
   "id": "e88554aa",
   "metadata": {},
   "source": [
    "## 15. How do you get a list value's tuple form? How do you get a tuple value's list form?"
   ]
  },
  {
   "cell_type": "code",
   "execution_count": 54,
   "id": "2e010629",
   "metadata": {},
   "outputs": [],
   "source": [
    "# List to Tuple:\n",
    "\n",
    "my_list = [1, 2, 3, 4]\n",
    "my_tuple = tuple(my_list)  # Convert list to tuple"
   ]
  },
  {
   "cell_type": "code",
   "execution_count": 55,
   "id": "3010f84e",
   "metadata": {},
   "outputs": [],
   "source": [
    "# Tuple to List:\n",
    "\n",
    "my_tuple = (1, 2, 3, 4)\n",
    "my_list = list(my_tuple)  # Convert tuple to list"
   ]
  },
  {
   "cell_type": "markdown",
   "id": "8df109ba",
   "metadata": {},
   "source": [
    "## 16. Variables that \"contain\" list values are not necessarily lists themselves. Instead, what do they contain?"
   ]
  },
  {
   "cell_type": "markdown",
   "id": "da9e7758",
   "metadata": {},
   "source": [
    "Variables that \"contain\" list values in Python do not actually contain the list itself, but rather they contain a reference to the list in memory. In Python, variables are references or names that point to objects in memory, including lists."
   ]
  },
  {
   "cell_type": "markdown",
   "id": "3412eb26",
   "metadata": {},
   "source": [
    "So, when we assign a list to a variable, the variable doesn't store the list directly; it stores a reference to the list in memory. This means that multiple variables can reference the same list, and changes made to the list through one variable will affect all variables that reference the same list."
   ]
  },
  {
   "cell_type": "code",
   "execution_count": 56,
   "id": "2b90ebc7",
   "metadata": {},
   "outputs": [
    {
     "name": "stdout",
     "output_type": "stream",
     "text": [
      "[1, 2, 3, 4]\n",
      "[1, 2, 3, 4]\n"
     ]
    }
   ],
   "source": [
    "list1 = [1, 2, 3]  # Creates a list and assigns it to list1\n",
    "list2 = list1      # Assigns the reference to the same list to list2\n",
    "\n",
    "# Modifying the list through list1 affects list2 as well\n",
    "list1.append(4)\n",
    "\n",
    "print(list1)  # Output: [1, 2, 3, 4]\n",
    "print(list2)  # Output: [1, 2, 3, 4]"
   ]
  },
  {
   "cell_type": "markdown",
   "id": "eab120a7",
   "metadata": {},
   "source": [
    "## 17. How do you distinguish between copy.copy() and copy.deepcopy()?"
   ]
  },
  {
   "cell_type": "markdown",
   "id": "5dcfbbe4",
   "metadata": {},
   "source": [
    "1. copy.copy() (Shallow Copy):\n",
    "\n",
    "- copy.copy() creates a new object that is a shallow copy of the original object.\n",
    "\n",
    "- In a shallow copy, only the top-level elements of the object are duplicated, while the nested objects are still references to the same objects in memory. This means that changes made to nested objects will affect both the original and the copied objects.\n",
    "\n",
    "- Shallow copies are created using the copy() method of the object or by calling copy.copy() explicitly.\n",
    "\n",
    "- Shallow copies are typically faster and use less memory than deep copies."
   ]
  },
  {
   "cell_type": "code",
   "execution_count": 62,
   "id": "4827bc9f",
   "metadata": {},
   "outputs": [],
   "source": [
    "# Example: \n",
    "\n",
    "import copy\n",
    "\n",
    "original_list = [1, [2, 3], 4]\n",
    "shallow_copy = copy.copy(original_list)\n",
    "\n",
    "shallow_copy[1].append(42)  # Modifies both the original and the shallow copy\n",
    "    "
   ]
  },
  {
   "cell_type": "code",
   "execution_count": 63,
   "id": "c32418eb",
   "metadata": {},
   "outputs": [
    {
     "data": {
      "text/plain": [
       "[1, [2, 3, 42], 4]"
      ]
     },
     "execution_count": 63,
     "metadata": {},
     "output_type": "execute_result"
    }
   ],
   "source": [
    "shallow_copy"
   ]
  },
  {
   "cell_type": "code",
   "execution_count": 64,
   "id": "814966c3",
   "metadata": {},
   "outputs": [
    {
     "data": {
      "text/plain": [
       "[1, [2, 3, 42], 4]"
      ]
     },
     "execution_count": 64,
     "metadata": {},
     "output_type": "execute_result"
    }
   ],
   "source": [
    "original_list"
   ]
  },
  {
   "cell_type": "markdown",
   "id": "66c2e03f",
   "metadata": {},
   "source": [
    "2. copy.deepcopy() (Deep Copy):\n",
    "\n",
    "- copy.deepcopy() creates a completely independent copy of the original object and all the objects nested within it.\n",
    "\n",
    "- In a deep copy, every element, including nested objects, is duplicated recursively, so changes made to one object do not affect the other.\n",
    "\n",
    "- Deep copies are created using the deepcopy() method of the copy module.\n",
    "\n",
    "- Deep copies ensure that no references to the original objects remain in the copied structure."
   ]
  },
  {
   "cell_type": "code",
   "execution_count": 65,
   "id": "60b0d0f7",
   "metadata": {},
   "outputs": [],
   "source": [
    "# Example: \n",
    "\n",
    "import copy\n",
    "\n",
    "original_list = [1, [2, 3], 4]\n",
    "deep_copy = copy.deepcopy(original_list)\n",
    "\n",
    "deep_copy[1].append(42)  # Modifies only the deep copy, not the original"
   ]
  },
  {
   "cell_type": "code",
   "execution_count": 66,
   "id": "ffb04f7f",
   "metadata": {},
   "outputs": [
    {
     "data": {
      "text/plain": [
       "[1, [2, 3, 42], 4]"
      ]
     },
     "execution_count": 66,
     "metadata": {},
     "output_type": "execute_result"
    }
   ],
   "source": [
    "deep_copy"
   ]
  },
  {
   "cell_type": "code",
   "execution_count": 67,
   "id": "52f17086",
   "metadata": {},
   "outputs": [
    {
     "data": {
      "text/plain": [
       "[1, [2, 3], 4]"
      ]
     },
     "execution_count": 67,
     "metadata": {},
     "output_type": "execute_result"
    }
   ],
   "source": [
    "original_list"
   ]
  },
  {
   "cell_type": "code",
   "execution_count": null,
   "id": "d244866e",
   "metadata": {},
   "outputs": [],
   "source": []
  }
 ],
 "metadata": {
  "kernelspec": {
   "display_name": "Python 3 (ipykernel)",
   "language": "python",
   "name": "python3"
  },
  "language_info": {
   "codemirror_mode": {
    "name": "ipython",
    "version": 3
   },
   "file_extension": ".py",
   "mimetype": "text/x-python",
   "name": "python",
   "nbconvert_exporter": "python",
   "pygments_lexer": "ipython3",
   "version": "3.9.7"
  }
 },
 "nbformat": 4,
 "nbformat_minor": 5
}

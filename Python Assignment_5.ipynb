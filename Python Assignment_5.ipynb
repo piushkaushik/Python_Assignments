{
 "cells": [
  {
   "cell_type": "markdown",
   "id": "e431e5a6",
   "metadata": {},
   "source": [
    "## 1. What does an empty dictionary's code look like?"
   ]
  },
  {
   "cell_type": "code",
   "execution_count": 3,
   "id": "5e766bbb",
   "metadata": {},
   "outputs": [],
   "source": [
    "empty_dict = {}  # This is an empty dictionary"
   ]
  },
  {
   "cell_type": "code",
   "execution_count": 4,
   "id": "be61f1d3",
   "metadata": {},
   "outputs": [
    {
     "data": {
      "text/plain": [
       "dict"
      ]
     },
     "execution_count": 4,
     "metadata": {},
     "output_type": "execute_result"
    }
   ],
   "source": [
    "type(empty_dict)"
   ]
  },
  {
   "cell_type": "markdown",
   "id": "02f7b381",
   "metadata": {},
   "source": [
    "## 2. What is the value of a dictionary value with the key 'foo' and the value 42?"
   ]
  },
  {
   "cell_type": "code",
   "execution_count": 5,
   "id": "586557ff",
   "metadata": {},
   "outputs": [],
   "source": [
    "my_dict = {'foo': 42}\n",
    "\n",
    "# my_dict is a dictionary\n",
    "# The key is 'foo', and the corresponding value is 42"
   ]
  },
  {
   "cell_type": "code",
   "execution_count": 7,
   "id": "195cee64",
   "metadata": {},
   "outputs": [
    {
     "data": {
      "text/plain": [
       "42"
      ]
     },
     "execution_count": 7,
     "metadata": {},
     "output_type": "execute_result"
    }
   ],
   "source": [
    "my_dict['foo']  # when you access my_dict['foo'], it will return the value 42."
   ]
  },
  {
   "cell_type": "markdown",
   "id": "d4e5cb66",
   "metadata": {},
   "source": [
    "## 3. What is the most significant distinction between a dictionary and a list?"
   ]
  },
  {
   "cell_type": "markdown",
   "id": "605a267a",
   "metadata": {},
   "source": [
    "1. **Data Storage**: Lists are ordered collections accessed by index; dictionaries store key-value pairs accessed by keys.\n",
    "\n",
    "2. **Access Method**: Lists use integer indices; dictionaries use keys for access.\n",
    "\n",
    "3. **Ordering**: Lists maintain order; dictionaries (from Python 3.7+) preserve insertion order.\n",
    "\n",
    "4. **Data Type**: Lists store elements of various types; dictionaries typically store key-value pairs.\n",
    "\n",
    "5. **Mutability**: Both lists and dictionaries are mutable, allowing modifications.\n",
    "\n",
    "6. **Example**: Lists - [1, 2, 3], Dictionaries - {'key1': 'value1', 'key2': 'value2'}."
   ]
  },
  {
   "cell_type": "markdown",
   "id": "f9bec8f6",
   "metadata": {},
   "source": [
    "## 4. What happens if you try to access spam['foo'] if spam is {'bar': 100}?"
   ]
  },
  {
   "cell_type": "code",
   "execution_count": 8,
   "id": "fbcc793d",
   "metadata": {},
   "outputs": [],
   "source": [
    "spam = {'bar': 100}"
   ]
  },
  {
   "cell_type": "code",
   "execution_count": 12,
   "id": "6096766b",
   "metadata": {},
   "outputs": [
    {
     "ename": "KeyError",
     "evalue": "'foo'",
     "output_type": "error",
     "traceback": [
      "\u001b[1;31m---------------------------------------------------------------------------\u001b[0m",
      "\u001b[1;31mKeyError\u001b[0m                                  Traceback (most recent call last)",
      "\u001b[1;32m~\\AppData\\Local\\Temp/ipykernel_10120/4161307510.py\u001b[0m in \u001b[0;36m<module>\u001b[1;34m\u001b[0m\n\u001b[1;32m----> 1\u001b[1;33m \u001b[0mspam\u001b[0m\u001b[1;33m[\u001b[0m\u001b[1;34m'foo'\u001b[0m\u001b[1;33m]\u001b[0m\u001b[1;33m\u001b[0m\u001b[1;33m\u001b[0m\u001b[0m\n\u001b[0m",
      "\u001b[1;31mKeyError\u001b[0m: 'foo'"
     ]
    }
   ],
   "source": [
    "spam['foo']    # This line will raise a KeyError"
   ]
  },
  {
   "cell_type": "markdown",
   "id": "1d498a8f",
   "metadata": {},
   "source": [
    "## 5. If a dictionary is stored in spam, what is the difference between the expressions 'cat' in spam and 'cat' in spam.keys()?"
   ]
  },
  {
   "cell_type": "markdown",
   "id": "ce903cc0",
   "metadata": {},
   "source": [
    "There is no practical difference between the expressions 'cat' in spam and 'cat' in spam.keys() when checking if a key exists in a dictionary spam. Both expressions are used to check if the key 'cat' exists in the dictionary spam, and they will return the same result."
   ]
  },
  {
   "cell_type": "code",
   "execution_count": 14,
   "id": "718f8c25",
   "metadata": {},
   "outputs": [],
   "source": [
    "# Dictionary with a key 'cat'\n",
    "spam = {'cat': 42, 'dog': 99, 'fish': 7}"
   ]
  },
  {
   "cell_type": "code",
   "execution_count": 15,
   "id": "331e9b1f",
   "metadata": {},
   "outputs": [
    {
     "name": "stdout",
     "output_type": "stream",
     "text": [
      "'cat' exists in spam dictionary\n"
     ]
    }
   ],
   "source": [
    "# Using 'in' to check if the key 'cat' exists in spam\n",
    "if 'cat' in spam:\n",
    "    print(\"'cat' exists in spam dictionary\")"
   ]
  },
  {
   "cell_type": "code",
   "execution_count": 16,
   "id": "1de78aa9",
   "metadata": {},
   "outputs": [
    {
     "name": "stdout",
     "output_type": "stream",
     "text": [
      "'cat' exists in spam.keys()\n"
     ]
    }
   ],
   "source": [
    "# Using 'in' with spam.keys() to check if the key 'cat' exists in the keys of spam\n",
    "if 'cat' in spam.keys():\n",
    "    print(\"'cat' exists in spam.keys()\")"
   ]
  },
  {
   "cell_type": "markdown",
   "id": "ffacde65",
   "metadata": {},
   "source": [
    "## 6. If a dictionary is stored in spam, what is the difference between the expressions 'cat' in spam and 'cat' in spam.values()?"
   ]
  },
  {
   "cell_type": "markdown",
   "id": "d7798ec5",
   "metadata": {},
   "source": [
    "- **'cat' in spam:** This expression checks if the string 'cat' exists as a key in the dictionary spam. If 'cat' is a key in spam, it returns True; otherwise, it returns False.\n",
    "\n",
    "- **'cat' in spam.values():** This expression checks if the string 'cat' exists as a value in the dictionary spam. If 'cat' is a value associated with any key in spam, it returns True; otherwise, it returns False."
   ]
  },
  {
   "cell_type": "code",
   "execution_count": 17,
   "id": "c1b0b52b",
   "metadata": {},
   "outputs": [],
   "source": [
    "# Dictionary with keys and values\n",
    "spam = {'animal1': 'cat', 'animal2': 'dog', 'animal3': 'fish'}"
   ]
  },
  {
   "cell_type": "code",
   "execution_count": 28,
   "id": "708fac6b",
   "metadata": {},
   "outputs": [
    {
     "data": {
      "text/plain": [
       "False"
      ]
     },
     "execution_count": 28,
     "metadata": {},
     "output_type": "execute_result"
    }
   ],
   "source": [
    "# Using 'in' to check if 'cat' is a key in spam\n",
    "'cat' in spam"
   ]
  },
  {
   "cell_type": "code",
   "execution_count": 29,
   "id": "a2ec3479",
   "metadata": {},
   "outputs": [
    {
     "data": {
      "text/plain": [
       "True"
      ]
     },
     "execution_count": 29,
     "metadata": {},
     "output_type": "execute_result"
    }
   ],
   "source": [
    "# Using 'in' with spam.values() to check if 'cat' is a value in spam\n",
    "'cat' in spam.values()"
   ]
  },
  {
   "cell_type": "markdown",
   "id": "82d21187",
   "metadata": {},
   "source": [
    "## 7. What is a shortcut for the following code?\n",
    "### if 'color' not in spam:\n",
    "### spam['color'] = 'black'"
   ]
  },
  {
   "cell_type": "code",
   "execution_count": 31,
   "id": "923cdd89",
   "metadata": {},
   "outputs": [],
   "source": [
    "# Given code\n",
    "if 'color' not in spam:\n",
    "    spam['color'] = 'black'"
   ]
  },
  {
   "cell_type": "code",
   "execution_count": 34,
   "id": "26a7e70b",
   "metadata": {},
   "outputs": [
    {
     "data": {
      "text/plain": [
       "'black'"
      ]
     },
     "execution_count": 34,
     "metadata": {},
     "output_type": "execute_result"
    }
   ],
   "source": [
    "spam['color']"
   ]
  },
  {
   "cell_type": "code",
   "execution_count": 35,
   "id": "02ae8eb2",
   "metadata": {},
   "outputs": [
    {
     "data": {
      "text/plain": [
       "'black'"
      ]
     },
     "execution_count": 35,
     "metadata": {},
     "output_type": "execute_result"
    }
   ],
   "source": [
    "# Shortcut\n",
    "\n",
    "spam.setdefault('color', 'black')"
   ]
  },
  {
   "cell_type": "markdown",
   "id": "1c4a9b75",
   "metadata": {},
   "source": [
    "## 8. How do you \"pretty print\" dictionary values using which module and function?"
   ]
  },
  {
   "cell_type": "code",
   "execution_count": 37,
   "id": "50fbebf3",
   "metadata": {},
   "outputs": [],
   "source": [
    "import json"
   ]
  },
  {
   "cell_type": "code",
   "execution_count": 50,
   "id": "9ee16144",
   "metadata": {},
   "outputs": [],
   "source": [
    "my_dict = {'name': 'Alice', 'age': 30, 'city': 'New York'}\n",
    "    # Dictionary to pretty print"
   ]
  },
  {
   "cell_type": "code",
   "execution_count": 57,
   "id": "1c2007cb",
   "metadata": {},
   "outputs": [],
   "source": [
    "pretty_json = json.dumps(my_dict, indent=2)   # Use json.dumps() with indent parameter"
   ]
  },
  {
   "cell_type": "code",
   "execution_count": 58,
   "id": "96305374",
   "metadata": {},
   "outputs": [
    {
     "name": "stdout",
     "output_type": "stream",
     "text": [
      "{\n",
      "  \"name\": \"Alice\",\n",
      "  \"age\": 30,\n",
      "  \"city\": \"New York\"\n",
      "}\n"
     ]
    }
   ],
   "source": [
    "print(pretty_json)  # Print the pretty printed JSON"
   ]
  },
  {
   "cell_type": "code",
   "execution_count": null,
   "id": "fa4ee504",
   "metadata": {},
   "outputs": [],
   "source": []
  }
 ],
 "metadata": {
  "kernelspec": {
   "display_name": "Python 3 (ipykernel)",
   "language": "python",
   "name": "python3"
  },
  "language_info": {
   "codemirror_mode": {
    "name": "ipython",
    "version": 3
   },
   "file_extension": ".py",
   "mimetype": "text/x-python",
   "name": "python",
   "nbconvert_exporter": "python",
   "pygments_lexer": "ipython3",
   "version": "3.9.7"
  }
 },
 "nbformat": 4,
 "nbformat_minor": 5
}

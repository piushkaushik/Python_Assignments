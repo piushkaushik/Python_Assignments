{
 "cells": [
  {
   "cell_type": "markdown",
   "id": "b290548d",
   "metadata": {},
   "source": [
    "# 1. What advantages do Excel spreadsheets have over CSV spreadsheets?"
   ]
  },
  {
   "cell_type": "markdown",
   "id": "7f8c1c3c",
   "metadata": {},
   "source": [
    "**Answer:**"
   ]
  },
  {
   "cell_type": "markdown",
   "id": "f4e25266",
   "metadata": {},
   "source": [
    "Excel spreadsheets have several advantages over CSV (Comma-Separated Values) spreadsheets:"
   ]
  },
  {
   "cell_type": "markdown",
   "id": "dee2ae67",
   "metadata": {},
   "source": [
    "1. Rich Formatting: Excel supports extensive formatting options.\n",
    "2. Cell Formulas: Excel allows complex calculations.\n",
    "3. Charts and Graphs: Excel offers built-in charting tools.\n",
    "4. Multiple Sheets: Excel organizes data into multiple tabs.\n",
    "5. Data Validation: Excel enforces data accuracy.\n",
    "6. Data Filters: Excel provides powerful data filtering.\n",
    "7. Cell Comments: Excel supports comments for explanations.\n",
    "8. Password Protection: Excel secures data with passwords.\n",
    "9. Built-in Functions: Excel offers various mathematical functions.\n",
    "10. Integration: Excel integrates with Microsoft Office.\n",
    "11. Macros: Excel automates tasks with macros.\n",
    "12. Data Analysis Add-Ins: Excel has advanced data analysis tools."
   ]
  },
  {
   "cell_type": "markdown",
   "id": "64e440ca",
   "metadata": {},
   "source": [
    "# 2.What do you pass to csv.reader() and csv.writer() to create reader and writer objects?"
   ]
  },
  {
   "cell_type": "markdown",
   "id": "46da9272",
   "metadata": {},
   "source": [
    "**Answer:**"
   ]
  },
  {
   "cell_type": "markdown",
   "id": "9eb789fe",
   "metadata": {},
   "source": [
    "- To create a reader object, we pass a file-like object (e.g., a file opened in read mode) to csv.reader()."
   ]
  },
  {
   "cell_type": "code",
   "execution_count": 9,
   "id": "b6c7f11b",
   "metadata": {},
   "outputs": [],
   "source": [
    "import csv\n",
    "\n",
    "# Example for creating a reader object\n",
    "with open('Downloads\\Amazone_Employee_Data.csv', 'r') as file:\n",
    "    csv_reader = csv.reader(file)\n"
   ]
  },
  {
   "cell_type": "markdown",
   "id": "9c14b395",
   "metadata": {},
   "source": [
    "- To create a writer object, you pass a file-like object (e.g., a file opened in write mode) to csv.writer()."
   ]
  },
  {
   "cell_type": "code",
   "execution_count": 11,
   "id": "6591856e",
   "metadata": {},
   "outputs": [],
   "source": [
    "# Example for creating a writer object\n",
    "with open('Downloads\\Amazone_Employee_Data.csv', 'w', newline='') as file:\n",
    "    csv_writer = csv.writer(file)"
   ]
  },
  {
   "cell_type": "markdown",
   "id": "073a54a2",
   "metadata": {},
   "source": [
    "# 3. What modes do File objects for reader and writer objects need to be opened in?"
   ]
  },
  {
   "cell_type": "markdown",
   "id": "431c8b7e",
   "metadata": {},
   "source": [
    "**Answer:**"
   ]
  },
  {
   "cell_type": "markdown",
   "id": "4490e1ae",
   "metadata": {},
   "source": [
    "When working with File objects:\n",
    "\n",
    "1. For `csv.reader()`, open the file in read mode ('r').\n",
    "\n",
    "2. For `csv.writer()`, open the file in write mode ('w')."
   ]
  },
  {
   "cell_type": "markdown",
   "id": "f55e2b46",
   "metadata": {},
   "source": [
    "# 4. What method takes a list argument and writes it to a CSV file?"
   ]
  },
  {
   "cell_type": "markdown",
   "id": "55281142",
   "metadata": {},
   "source": [
    "**Answer:**"
   ]
  },
  {
   "cell_type": "markdown",
   "id": "f2e9408e",
   "metadata": {},
   "source": [
    "\n",
    "The writerow() method is used to write a list of data as a single row to a CSV file using the csv module in Python. This method is called on a csv.writer object and takes a list as its argument. Each element of the list corresponds to a cell in the CSV row."
   ]
  },
  {
   "cell_type": "code",
   "execution_count": 15,
   "id": "35063d23",
   "metadata": {},
   "outputs": [],
   "source": [
    "data = ['John', 'Doe', 30]  # Example data as a list\n",
    "\n",
    "with open('output.csv', 'w', newline='') as file:\n",
    "    csv_writer = csv.writer(file)\n",
    "    csv_writer.writerow(data)  # Write the list as a CSV row"
   ]
  },
  {
   "cell_type": "markdown",
   "id": "00332059",
   "metadata": {},
   "source": [
    "# 5. What do the keyword arguments delimiter and line terminator do?"
   ]
  },
  {
   "cell_type": "markdown",
   "id": "11ff6f80",
   "metadata": {},
   "source": [
    "**Answer:**"
   ]
  },
  {
   "cell_type": "markdown",
   "id": "a7cd6468",
   "metadata": {},
   "source": [
    "- `delimiter`: Specifies the character separating CSV fields (default is comma).\n",
    "- `lineterminator`: Specifies the character marking the end of a CSV line (default is newline)."
   ]
  },
  {
   "cell_type": "markdown",
   "id": "a7d34f7a",
   "metadata": {},
   "source": [
    "# 6. What function takes a string of JSON data and returns a Python data structure?"
   ]
  },
  {
   "cell_type": "markdown",
   "id": "6afa6cb8",
   "metadata": {},
   "source": [
    "**Answer:**"
   ]
  },
  {
   "cell_type": "markdown",
   "id": "3786379d",
   "metadata": {},
   "source": [
    "The json.loads() function is used to take a string containing JSON data and return a corresponding Python data structure. It deserializes (parses) the JSON string into a Python object.\n",
    "\n"
   ]
  },
  {
   "cell_type": "code",
   "execution_count": 20,
   "id": "1504331b",
   "metadata": {},
   "outputs": [],
   "source": [
    "import json\n",
    "\n",
    "json_data = '{\"name\": \"John\", \"age\": 30, \"city\": \"New York\"}'\n",
    "python_data = json.loads(json_data)"
   ]
  },
  {
   "cell_type": "code",
   "execution_count": 21,
   "id": "715f4f55",
   "metadata": {},
   "outputs": [
    {
     "data": {
      "text/plain": [
       "{'name': 'John', 'age': 30, 'city': 'New York'}"
      ]
     },
     "execution_count": 21,
     "metadata": {},
     "output_type": "execute_result"
    }
   ],
   "source": [
    "python_data  # Now, 'python_data' contains a Python dictionary"
   ]
  },
  {
   "cell_type": "markdown",
   "id": "59886a9a",
   "metadata": {},
   "source": [
    "# 7. What function takes a Python data structure and returns a string of JSON data?"
   ]
  },
  {
   "cell_type": "markdown",
   "id": "0f43d420",
   "metadata": {},
   "source": [
    "**Answer:**"
   ]
  },
  {
   "cell_type": "markdown",
   "id": "b74c1fe9",
   "metadata": {},
   "source": [
    "The `json.dumps()` function is used to take a Python data structure and return a string containing JSON data. It serializes (converts) the Python object into a JSON-formatted string."
   ]
  },
  {
   "cell_type": "code",
   "execution_count": 23,
   "id": "c57a32e2",
   "metadata": {},
   "outputs": [],
   "source": [
    "python_data = {'name': 'John', 'age': 30, 'city': 'New York'}\n",
    "json_data = json.dumps(python_data)"
   ]
  },
  {
   "cell_type": "code",
   "execution_count": 25,
   "id": "040116a6",
   "metadata": {},
   "outputs": [
    {
     "data": {
      "text/plain": [
       "'{\"name\": \"John\", \"age\": 30, \"city\": \"New York\"}'"
      ]
     },
     "execution_count": 25,
     "metadata": {},
     "output_type": "execute_result"
    }
   ],
   "source": [
    "json_data   # Now, 'json_data' contains a JSON-formatted string"
   ]
  },
  {
   "cell_type": "code",
   "execution_count": null,
   "id": "359c1cab",
   "metadata": {},
   "outputs": [],
   "source": []
  }
 ],
 "metadata": {
  "kernelspec": {
   "display_name": "Python 3 (ipykernel)",
   "language": "python",
   "name": "python3"
  },
  "language_info": {
   "codemirror_mode": {
    "name": "ipython",
    "version": 3
   },
   "file_extension": ".py",
   "mimetype": "text/x-python",
   "name": "python",
   "nbconvert_exporter": "python",
   "pygments_lexer": "ipython3",
   "version": "3.9.7"
  }
 },
 "nbformat": 4,
 "nbformat_minor": 5
}

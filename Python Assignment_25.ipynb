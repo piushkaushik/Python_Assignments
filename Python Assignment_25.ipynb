{
 "cells": [
  {
   "cell_type": "markdown",
   "id": "954d393c",
   "metadata": {},
   "source": [
    "# 1. What is the difference between enclosing a list comprehension in square brackets and parentheses?"
   ]
  },
  {
   "cell_type": "markdown",
   "id": "414b522a",
   "metadata": {},
   "source": [
    "**Ans:**"
   ]
  },
  {
   "cell_type": "markdown",
   "id": "8984ead9",
   "metadata": {},
   "source": [
    "The key difference is that square brackets create lists, while parentheses create generator expressions, which are more memory-efficient when dealing with large datasets but can only be iterated through once. Lists, on the other hand, store all their values in memory but can be accessed multiple times."
   ]
  },
  {
   "cell_type": "code",
   "execution_count": 2,
   "id": "a85962bf",
   "metadata": {},
   "outputs": [],
   "source": [
    "squares = [x**2 for x in range(1, 6)]  # Creates a list of squares"
   ]
  },
  {
   "cell_type": "code",
   "execution_count": 3,
   "id": "e14fd6b7",
   "metadata": {},
   "outputs": [],
   "source": [
    "squares_gen = (x**2 for x in range(1, 6))  # Creates a generator expression"
   ]
  },
  {
   "cell_type": "code",
   "execution_count": 4,
   "id": "519770ea",
   "metadata": {},
   "outputs": [
    {
     "data": {
      "text/plain": [
       "list"
      ]
     },
     "execution_count": 4,
     "metadata": {},
     "output_type": "execute_result"
    }
   ],
   "source": [
    "type(squares)"
   ]
  },
  {
   "cell_type": "code",
   "execution_count": 5,
   "id": "989e4b29",
   "metadata": {},
   "outputs": [
    {
     "data": {
      "text/plain": [
       "generator"
      ]
     },
     "execution_count": 5,
     "metadata": {},
     "output_type": "execute_result"
    }
   ],
   "source": [
    "type(squares_gen)"
   ]
  },
  {
   "cell_type": "markdown",
   "id": "57447512",
   "metadata": {},
   "source": [
    "# 2. What is the relationship between generators and iterators?"
   ]
  },
  {
   "cell_type": "markdown",
   "id": "d190d48d",
   "metadata": {},
   "source": [
    "**Ans:**"
   ]
  },
  {
   "cell_type": "markdown",
   "id": "bc9f5c47",
   "metadata": {},
   "source": [
    "1. **Generator**:\n",
    "   - A generator is a special type of iterable in Python.\n",
    "   - It is defined using a function with one or more `yield` statements.\n",
    "   - When a generator function is called, it doesn't execute the function body immediately. Instead, it returns a generator object.\n",
    "   - The generator object can be iterated through using a `for` loop, or its values can be retrieved one at a time using the `next()` function.\n",
    "   - Generators are memory-efficient because they generate values on-the-fly, one at a time, and do not store the entire sequence in memory."
   ]
  },
  {
   "cell_type": "code",
   "execution_count": 16,
   "id": "45b17dd0",
   "metadata": {},
   "outputs": [],
   "source": [
    " # Example of a generator function:\n",
    "def count_up_to(n):\n",
    "    i = 1\n",
    "    while i <= n:\n",
    "        yield i\n",
    "        i += 1"
   ]
  },
  {
   "cell_type": "markdown",
   "id": "89eb2879",
   "metadata": {},
   "source": [
    "  2. **Iterator**:\n",
    "   - An iterator is any Python object that implements two methods: `__iter__()` and `__next__()`.\n",
    "   - The `__iter__()` method returns the iterator object itself (usually `self`).\n",
    "   - The `__next__()` method returns the next value from the iterator or raises the `StopIteration` exception when there are no more items to return.\n",
    "   - Iterators are used to iterate through sequences like lists, tuples, dictionaries, and generators."
   ]
  },
  {
   "cell_type": "code",
   "execution_count": 18,
   "id": "f7c57200",
   "metadata": {},
   "outputs": [],
   "source": [
    "#  Example of an iterator:\n",
    "\n",
    "my_iterable = [1, 2, 3, 4, 5]\n",
    "my_iterator = iter(my_iterable)\n",
    "next_value = next(my_iterator)"
   ]
  },
  {
   "cell_type": "markdown",
   "id": "49f75579",
   "metadata": {},
   "source": [
    "**Relationship**:\n",
    "- Generators are a specific type of iterator. They are defined using generator functions and are a concise way to create iterators.\n",
    "- All generators are iterators, but not all iterators are generators. Iterators can be created using classes (implementing `__iter__()` and `__next__()`), while generators are typically created using functions with `yield` statements.\n",
    "- Generators provide a more convenient and memory-efficient way to work with sequences, especially for large datasets, compared to manually creating iterators using classes.\n",
    "\n",
    "**In summary, generators are a type of iterator that offers a more concise and efficient way to create and work with iterators in Python.**"
   ]
  },
  {
   "cell_type": "markdown",
   "id": "9a820c58",
   "metadata": {},
   "source": [
    "# 3. What are the signs that a function is a generator function?"
   ]
  },
  {
   "cell_type": "markdown",
   "id": "34058c65",
   "metadata": {},
   "source": [
    "**Ans:**"
   ]
  },
  {
   "cell_type": "markdown",
   "id": "d2311d94",
   "metadata": {},
   "source": [
    "A generator function in Python is distinguished by several signs:\n",
    "\n",
    "1. **Usage of the `yield` Keyword**: The most prominent sign of a generator function is the presence of the `yield` keyword within the function's body. `yield` is used to yield values one at a time during iteration rather than using `return` to send a single result and terminate the function. This allows the function's state to be preserved between calls."
   ]
  },
  {
   "cell_type": "code",
   "execution_count": 20,
   "id": "5286ab43",
   "metadata": {},
   "outputs": [],
   "source": [
    "def my_generator():\n",
    "    yield 1\n",
    "    yield 2\n",
    "    yield 3"
   ]
  },
  {
   "cell_type": "markdown",
   "id": "64f47db1",
   "metadata": {},
   "source": [
    "2. **Function Returns a Generator Object**: When you call a generator function, it doesn't execute immediately. Instead, it returns a generator object without executing any of the code inside the function. This object can be used for iteration."
   ]
  },
  {
   "cell_type": "code",
   "execution_count": 21,
   "id": "cc1dba0a",
   "metadata": {},
   "outputs": [],
   "source": [
    "gen = my_generator()"
   ]
  },
  {
   "cell_type": "markdown",
   "id": "19e415f4",
   "metadata": {},
   "source": [
    "3. **Iterator Protocol Implementation**: Generator functions implicitly implement the iterator protocol. This means they have both the `__iter__()` and `__next__()` methods, which are automatically created by Python when you use `yield`."
   ]
  },
  {
   "cell_type": "markdown",
   "id": "ee74e7d6",
   "metadata": {},
   "source": [
    "4. **Iteration with `next()`**: You can iterate through the values generated by the generator using the `next()` function. The generator will pause at each `yield` statement and continue execution when `next()` is called again."
   ]
  },
  {
   "cell_type": "code",
   "execution_count": 22,
   "id": "1c275285",
   "metadata": {},
   "outputs": [],
   "source": [
    "gen = my_generator()\n",
    "value = next(gen)  # value is 1"
   ]
  },
  {
   "cell_type": "markdown",
   "id": "dfcb03b1",
   "metadata": {},
   "source": [
    "5. **Use in `for` Loops**: Generator functions are commonly used in `for` loops to iterate through their generated values. When the generator is exhausted, it raises a `StopIteration` exception to signal the end of iteration."
   ]
  },
  {
   "cell_type": "code",
   "execution_count": 23,
   "id": "4c9b70d5",
   "metadata": {},
   "outputs": [
    {
     "name": "stdout",
     "output_type": "stream",
     "text": [
      "1\n",
      "2\n",
      "3\n"
     ]
    }
   ],
   "source": [
    "for num in my_generator():\n",
    "    print(num)"
   ]
  },
  {
   "cell_type": "markdown",
   "id": "e95b6064",
   "metadata": {},
   "source": [
    "6. **Lazy Evaluation**: Generator functions use lazy evaluation, meaning they generate values on-the-fly as needed during iteration. This is in contrast to regular functions that compute all values at once and return them."
   ]
  },
  {
   "cell_type": "markdown",
   "id": "fca50e38",
   "metadata": {},
   "source": [
    "# 4. What is the purpose of a yield statement?"
   ]
  },
  {
   "cell_type": "markdown",
   "id": "a0bf8f0d",
   "metadata": {},
   "source": [
    "**Ans:**"
   ]
  },
  {
   "cell_type": "markdown",
   "id": "d989ef8d",
   "metadata": {},
   "source": [
    "The yield statement in Python is used in generator functions to produce values one at a time to the caller while preserving the function's state, enabling efficient memory usage and supporting easy iteration over large or infinite sequences."
   ]
  },
  {
   "cell_type": "markdown",
   "id": "ce0a58ef",
   "metadata": {},
   "source": [
    "# 5. What is the relationship between map calls and list comprehensions? Make a comparison and contrast between the two."
   ]
  },
  {
   "cell_type": "markdown",
   "id": "48433fe6",
   "metadata": {},
   "source": [
    "**Ans:**"
   ]
  },
  {
   "cell_type": "markdown",
   "id": "074a401d",
   "metadata": {},
   "source": [
    "List comprehensions are preferred in Python for their readability and direct output. map is still useful when you want to apply a function to an existing iterable without creating a new list."
   ]
  },
  {
   "cell_type": "code",
   "execution_count": 29,
   "id": "5418273c",
   "metadata": {},
   "outputs": [],
   "source": [
    "# using map:\n",
    "\n",
    "numbers = [1, 2, 3, 4, 5]\n",
    "squared = map(lambda x: x**2, numbers)\n",
    "result = list(squared)"
   ]
  },
  {
   "cell_type": "code",
   "execution_count": 26,
   "id": "4fa06c2d",
   "metadata": {},
   "outputs": [],
   "source": [
    "# Using List Comprehension:\n",
    "\n",
    "numbers = [1, 2, 3, 4, 5]\n",
    "squared = [x**2 for x in numbers]"
   ]
  },
  {
   "cell_type": "code",
   "execution_count": null,
   "id": "77ab434a",
   "metadata": {},
   "outputs": [],
   "source": []
  },
  {
   "cell_type": "code",
   "execution_count": null,
   "id": "6eb5d29c",
   "metadata": {},
   "outputs": [],
   "source": []
  },
  {
   "cell_type": "code",
   "execution_count": null,
   "id": "b20b0e9e",
   "metadata": {},
   "outputs": [],
   "source": []
  }
 ],
 "metadata": {
  "kernelspec": {
   "display_name": "Python 3 (ipykernel)",
   "language": "python",
   "name": "python3"
  },
  "language_info": {
   "codemirror_mode": {
    "name": "ipython",
    "version": 3
   },
   "file_extension": ".py",
   "mimetype": "text/x-python",
   "name": "python",
   "nbconvert_exporter": "python",
   "pygments_lexer": "ipython3",
   "version": "3.9.7"
  }
 },
 "nbformat": 4,
 "nbformat_minor": 5
}

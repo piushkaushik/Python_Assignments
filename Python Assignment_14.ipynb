{
 "cells": [
  {
   "cell_type": "markdown",
   "id": "0500745a",
   "metadata": {},
   "source": [
    "# 1. What does RGBA stand for?"
   ]
  },
  {
   "cell_type": "markdown",
   "id": "e8afc022",
   "metadata": {},
   "source": [
    "**Answer:**"
   ]
  },
  {
   "cell_type": "markdown",
   "id": "98c0296c",
   "metadata": {},
   "source": [
    "RGBA stands for:\n",
    "\n",
    "R: Red\n",
    "\n",
    "G: Green\n",
    "\n",
    "B: Blue\n",
    "\n",
    "A: Alpha"
   ]
  },
  {
   "cell_type": "markdown",
   "id": "21f57196",
   "metadata": {},
   "source": [
    "# 2. From the Pillow module, how do you get the RGBA value of any images?"
   ]
  },
  {
   "cell_type": "markdown",
   "id": "cfeeee08",
   "metadata": {},
   "source": [
    "**Answer:**"
   ]
  },
  {
   "cell_type": "markdown",
   "id": "50038814",
   "metadata": {},
   "source": [
    "- Step 1: Import the Pillow module and open the image"
   ]
  },
  {
   "cell_type": "code",
   "execution_count": 1,
   "id": "53e37be1",
   "metadata": {},
   "outputs": [],
   "source": [
    "from PIL import Image"
   ]
  },
  {
   "cell_type": "code",
   "execution_count": 7,
   "id": "5b7b0cd3",
   "metadata": {},
   "outputs": [],
   "source": [
    "# Open the image\n",
    "img = Image.open('Downloads\\Image.png')  "
   ]
  },
  {
   "cell_type": "markdown",
   "id": "df650104",
   "metadata": {},
   "source": [
    "- Step 2: Get the RGBA value of a specific pixel by specifying its coordinates `(x, y)` using the `getpixel()` method:"
   ]
  },
  {
   "cell_type": "code",
   "execution_count": 12,
   "id": "95268fdd",
   "metadata": {},
   "outputs": [
    {
     "name": "stdout",
     "output_type": "stream",
     "text": [
      "(52, 52, 196, 201)\n"
     ]
    }
   ],
   "source": [
    "# Get the RGBA value of a pixel at coordinates (x, y)\n",
    "x = 300  \n",
    "y = 169 \n",
    "rgba_value = img.getpixel((x, y))\n",
    "\n",
    "print(rgba_value)  # This will print the RGBA value, e.g., (255, 0, 0, 255) for a red pixel\n"
   ]
  },
  {
   "cell_type": "markdown",
   "id": "91aa9e97",
   "metadata": {},
   "source": [
    "# 3. What is a box tuple, and how does it work?"
   ]
  },
  {
   "cell_type": "markdown",
   "id": "68a82682",
   "metadata": {},
   "source": [
    "**Answer:**"
   ]
  },
  {
   "cell_type": "markdown",
   "id": "f7037d7f",
   "metadata": {},
   "source": [
    "A box tuple (bbox) is a set of four values representing the coordinates of a rectangular region: left, upper, right, and lower. It is commonly used for defining regions of interest within an image or graphics space, such as for cropping or extracting specific areas."
   ]
  },
  {
   "cell_type": "markdown",
   "id": "0c9f6408",
   "metadata": {},
   "source": [
    "# 4. Use your image and load in notebook then, How can you find out the width and height of an Image object?"
   ]
  },
  {
   "cell_type": "markdown",
   "id": "6dec37e1",
   "metadata": {},
   "source": [
    "**Answer:**"
   ]
  },
  {
   "cell_type": "code",
   "execution_count": 17,
   "id": "cb9e54c5",
   "metadata": {},
   "outputs": [],
   "source": [
    "# Open the image\n",
    "img = Image.open('Downloads\\Image.png')"
   ]
  },
  {
   "cell_type": "code",
   "execution_count": 18,
   "id": "d0aa8cbf",
   "metadata": {},
   "outputs": [],
   "source": [
    "# Get the width and height of the image\n",
    "width, height = img.size"
   ]
  },
  {
   "cell_type": "code",
   "execution_count": 19,
   "id": "3318aa96",
   "metadata": {},
   "outputs": [
    {
     "name": "stdout",
     "output_type": "stream",
     "text": [
      "Width: 800px, Height: 600px\n"
     ]
    }
   ],
   "source": [
    "# Print the width and height\n",
    "print(f\"Width: {width}px, Height: {height}px\")"
   ]
  },
  {
   "cell_type": "markdown",
   "id": "74b91acd",
   "metadata": {},
   "source": [
    "# 5. What method would you call to get Image object for a 100×100 image, excluding the lower-left quarter of it?"
   ]
  },
  {
   "cell_type": "markdown",
   "id": "ccfc2217",
   "metadata": {},
   "source": [
    "**Answer**"
   ]
  },
  {
   "cell_type": "markdown",
   "id": "56eac210",
   "metadata": {},
   "source": [
    "To get an Image object for a 100x100 image, excluding the lower-left quarter, you can use the `crop()` method with coordinates `(0, 0, 50, 50)` for the left-upper quarter."
   ]
  },
  {
   "cell_type": "markdown",
   "id": "a9433747",
   "metadata": {},
   "source": [
    "# 6. After making changes to an Image object, how could you save it as an image file?"
   ]
  },
  {
   "cell_type": "markdown",
   "id": "b8112dcf",
   "metadata": {},
   "source": [
    "**Answer:**"
   ]
  },
  {
   "cell_type": "markdown",
   "id": "dcc67793",
   "metadata": {},
   "source": [
    "To save changes made to an Image object:\n",
    "\n",
    "1. Open the image.\n",
    "2. Perform modifications.\n",
    "3. Use `img.save('Image.jpg')` to save it as 'output.jpg'."
   ]
  },
  {
   "cell_type": "markdown",
   "id": "af012ad5",
   "metadata": {},
   "source": [
    "# 7. What module contains Pillow’s shape-drawing code?"
   ]
  },
  {
   "cell_type": "markdown",
   "id": "701873f2",
   "metadata": {},
   "source": [
    "**Answer:**"
   ]
  },
  {
   "cell_type": "markdown",
   "id": "bfe8298b",
   "metadata": {},
   "source": [
    "Pillow's shape-drawing code is contained in the `Pillow.ImageDraw` module. This module provides functions and methods for drawing various shapes, text, and other graphics on Pillow (PIL) Image objects."
   ]
  },
  {
   "cell_type": "markdown",
   "id": "8dc68766",
   "metadata": {},
   "source": [
    "# 8. Image objects do not have drawing methods. What kind of object does? How do you get this kind of object?"
   ]
  },
  {
   "cell_type": "markdown",
   "id": "0d4c21d8",
   "metadata": {},
   "source": [
    "**Answer:**"
   ]
  },
  {
   "cell_type": "markdown",
   "id": "d4cf67db",
   "metadata": {},
   "source": [
    "Image objects in Pillow (PIL) do not have built-in drawing methods. Instead, drawing methods are available through a separate object called an \"ImageDraw\" object. To get an ImageDraw object, you need to create one by passing the Image object to the `ImageDraw.Draw()` function."
   ]
  },
  {
   "cell_type": "code",
   "execution_count": 23,
   "id": "ee5c2197",
   "metadata": {},
   "outputs": [],
   "source": [
    "from PIL import Image, ImageDraw\n",
    "\n",
    "# Open an image\n",
    "img = Image.open('Downloads\\Image.png')  \n",
    "\n",
    "# Create an ImageDraw object associated with the Image\n",
    "draw = ImageDraw.Draw(img)\n",
    "\n",
    "# Now you can use 'draw' to perform drawing operations on 'img'\n"
   ]
  },
  {
   "cell_type": "code",
   "execution_count": null,
   "id": "e52e0465",
   "metadata": {},
   "outputs": [],
   "source": []
  }
 ],
 "metadata": {
  "kernelspec": {
   "display_name": "Python 3 (ipykernel)",
   "language": "python",
   "name": "python3"
  },
  "language_info": {
   "codemirror_mode": {
    "name": "ipython",
    "version": 3
   },
   "file_extension": ".py",
   "mimetype": "text/x-python",
   "name": "python",
   "nbconvert_exporter": "python",
   "pygments_lexer": "ipython3",
   "version": "3.9.7"
  }
 },
 "nbformat": 4,
 "nbformat_minor": 5
}

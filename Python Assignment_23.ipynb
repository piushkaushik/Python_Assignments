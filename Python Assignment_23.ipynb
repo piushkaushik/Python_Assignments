{
 "cells": [
  {
   "cell_type": "markdown",
   "id": "427b8962",
   "metadata": {},
   "source": [
    "# 1. What is the result of the code, and why?\n",
    "#### >>>def func(a, b=6, c=8):\n",
    "#### print(a, b, c)\n",
    "#### >>>func(1, 2)"
   ]
  },
  {
   "cell_type": "markdown",
   "id": "4d1a5d26",
   "metadata": {},
   "source": [
    "**Ans:**"
   ]
  },
  {
   "cell_type": "code",
   "execution_count": 2,
   "id": "be509511",
   "metadata": {},
   "outputs": [
    {
     "name": "stdout",
     "output_type": "stream",
     "text": [
      "1 2 8\n"
     ]
    }
   ],
   "source": [
    "def func(a, b=6, c=8):\n",
    "    print(a, b, c)\n",
    "func(1, 2)"
   ]
  },
  {
   "cell_type": "markdown",
   "id": "fdeba941",
   "metadata": {},
   "source": [
    "The code defines a function `func` that takes three arguments, `a`, `b`, and `c`, with default values of 6 for `b` and 8 for `c`. When the function is called with `func(1, 2)`, the values are assigned as follows:\n",
    "\n",
    "- `a` is assigned the value 1.\n",
    "- `b` is assigned the value 2.\n",
    "- `c` retains its default value of 8 since no value was provided for it in the function call.\n",
    "\n",
    "So, the output is `1 2 8` which are the values of `a`, `b`, and `c` in that order."
   ]
  },
  {
   "cell_type": "markdown",
   "id": "9f657370",
   "metadata": {},
   "source": [
    "# 2. What is the result of this code, and why?\n",
    "#### >>>def func(a, b, c=5):\n",
    "#### print(a, b, c)\n",
    "#### >>>func(1, c=3, b=2)"
   ]
  },
  {
   "cell_type": "markdown",
   "id": "10a0ce8d",
   "metadata": {},
   "source": [
    "**Ans:**"
   ]
  },
  {
   "cell_type": "code",
   "execution_count": 4,
   "id": "7cabc3dc",
   "metadata": {},
   "outputs": [
    {
     "name": "stdout",
     "output_type": "stream",
     "text": [
      "1 2 3\n"
     ]
    }
   ],
   "source": [
    "def func(a, b, c=5):\n",
    "    print(a, b, c)\n",
    "func(1, c=3, b=2)"
   ]
  },
  {
   "cell_type": "markdown",
   "id": "a7cda3e0",
   "metadata": {},
   "source": [
    "The code defines a function `func` that takes three arguments, `a`, `b`, and `c`, with a default value of 5 for `c`. \n",
    "\n",
    "When the function is called with `func(1, c=3, b=2)`, the arguments are assigned as follows:\n",
    "\n",
    "- `a` is assigned the value 1 (positional argument).\n",
    "- `b` is assigned the value 2 (keyword argument).\n",
    "- `c` is assigned the value 3 (keyword argument).\n",
    "\n",
    "So, the output is `1 2 3` which are the values of `a`, `b`, and `c` in that order. Keyword arguments allow us to specify the values for arguments out of order, as long as we use the argument names when calling the function."
   ]
  },
  {
   "cell_type": "markdown",
   "id": "ae710027",
   "metadata": {},
   "source": [
    "# 3. How about this code: what is its result, and why?\n",
    "#### >>>def func(a, *pargs):\n",
    "#### print(a, pargs)\n",
    "#### >>>func(1, 2, 3)"
   ]
  },
  {
   "cell_type": "markdown",
   "id": "ad0307ef",
   "metadata": {},
   "source": [
    "**Ans:**"
   ]
  },
  {
   "cell_type": "code",
   "execution_count": 5,
   "id": "d070bde7",
   "metadata": {},
   "outputs": [
    {
     "name": "stdout",
     "output_type": "stream",
     "text": [
      "1 (2, 3)\n"
     ]
    }
   ],
   "source": [
    "def func(a, *pargs):   # asterisk * is used as the \"splat\" or \"unpacking\" operator in the function parameter list\n",
    "    print(a, pargs)    # It is used to indicate that pargs should collect any additional positional arguments passed to the function into a tuple.\n",
    "func(1, 2, 3)"
   ]
  },
  {
   "cell_type": "markdown",
   "id": "c983d362",
   "metadata": {},
   "source": [
    "In the code, the function `func` is defined with two parameters: `a` and `*pargs`. The `*pargs` syntax allows the function to accept a variable number of positional arguments, which will be collected into a tuple called `pargs`.\n",
    "\n",
    "When the function is called with `func(1, 2, 3)`, the following happens:\n",
    "\n",
    "- `a` is assigned the value 1 (the first positional argument).\n",
    "- `*pargs` collects the remaining positional arguments, which are 2 and 3, into a tuple. So, `pargs` becomes `(2, 3)`.\n",
    "\n",
    "\n",
    "So, the output is `1 (2, 3)` where `a` is 1, and `pargs` is a tuple containing the values 2 and 3."
   ]
  },
  {
   "cell_type": "markdown",
   "id": "b3b2268d",
   "metadata": {},
   "source": [
    "# 4. What does this code print, and why?\n",
    "#### >>>def func(a, **kargs):\n",
    "#### print(a, kargs)\n",
    "#### >>>func(a=1, c=3, b=2)"
   ]
  },
  {
   "cell_type": "markdown",
   "id": "5a1c3661",
   "metadata": {},
   "source": [
    "**Ans**"
   ]
  },
  {
   "cell_type": "code",
   "execution_count": 8,
   "id": "ce132dda",
   "metadata": {},
   "outputs": [
    {
     "name": "stdout",
     "output_type": "stream",
     "text": [
      "1 {'c': 3, 'b': 2}\n"
     ]
    }
   ],
   "source": [
    "def func(a, **kargs):\n",
    "    print(a, kargs)\n",
    "func(a=1, c=3, b=2)\n",
    "\n",
    "# The double asterisk ** before kargs in the function definition is used to collect any additional keyword arguments passed to the function into a dictionary named kargs. \n",
    "# This is known as keyword argument unpacking.\n",
    "# The **kargs parameter collects any additional keyword arguments into a dictionary called kargs.\n"
   ]
  },
  {
   "cell_type": "markdown",
   "id": "351084de",
   "metadata": {},
   "source": [
    "This code defines a function `func` that takes a positional argument `a` and collects any additional keyword arguments into a dictionary `kargs` using the double asterisk `**` unpacking syntax.\n",
    "\n",
    "\n",
    "It prints `1` for `a`, which is the value of the positional argument `a`, and `{'c': 3, 'b': 2}` for `kargs`, which is the dictionary containing the keyword arguments."
   ]
  },
  {
   "cell_type": "markdown",
   "id": "1cc1fb1d",
   "metadata": {},
   "source": [
    "# 5. What gets printed by this, and explain?\n",
    "#### >>>def func(a, b, c=8, d=5): print(a, b, c, d)\n",
    "#### >>>func(1, *(5, 6))"
   ]
  },
  {
   "cell_type": "markdown",
   "id": "133ec221",
   "metadata": {},
   "source": [
    "**Ans:**"
   ]
  },
  {
   "cell_type": "code",
   "execution_count": 17,
   "id": "0a4bf980",
   "metadata": {},
   "outputs": [
    {
     "name": "stdout",
     "output_type": "stream",
     "text": [
      "1 5 6 5\n"
     ]
    }
   ],
   "source": [
    "def func(a, b, c=8, d=5): \n",
    "    print(a, b, c, d)\n",
    "func(1, *(5, 6))"
   ]
  },
  {
   "cell_type": "markdown",
   "id": "4b8bf2b5",
   "metadata": {},
   "source": [
    "In this code, the `func` function accepts four parameters: `a`, `b`, `c`, and `d`, with default values for `c` and `d`. When you call the function `func(1, *(5, 6))`, it's equivalent to calling `func(1, 5, 6)`, and the arguments are assigned to the parameters as follows:\n",
    "\n",
    "- `a` is assigned the value `1`.\n",
    "- `b` is assigned the value `5`.\n",
    "- `c` is assigned the value `6`, which overrides its default value of `8`.\n",
    "- `d` retains its default value of `5` since it's not provided explicitly.\n",
    "\n",
    "So, when you call `func(1, *(5, 6))`, it prints:\n",
    "\n",
    "```\n",
    "1 5 6 5\n",
    "```"
   ]
  },
  {
   "cell_type": "markdown",
   "id": "34cc907d",
   "metadata": {},
   "source": [
    "# 6. what is the result of this, and explain?\n",
    "#### >>>def func(a, b, c): a = 2; b[0] = 'x'; c['a'] = 'y'\n",
    "#### >>>l=1; m=[1]; n={'a':0}\n",
    "#### >>>func(l, m, n)\n",
    "\n",
    "#### >>>l, m, n"
   ]
  },
  {
   "cell_type": "markdown",
   "id": "8662907d",
   "metadata": {},
   "source": [
    "**Ans:**"
   ]
  },
  {
   "cell_type": "code",
   "execution_count": 22,
   "id": "dc472d45",
   "metadata": {},
   "outputs": [
    {
     "data": {
      "text/plain": [
       "(1, ['x'], {'a': 'y'})"
      ]
     },
     "execution_count": 22,
     "metadata": {},
     "output_type": "execute_result"
    }
   ],
   "source": [
    "def func(a, b, c): \n",
    "    a = 2; b[0] = 'x'; c['a'] = 'y'\n",
    "    \n",
    "l=1; m=[1]; n={'a':0}\n",
    "\n",
    "func(l, m, n)\n",
    "\n",
    "l, m, n"
   ]
  },
  {
   "cell_type": "markdown",
   "id": "1d4244f1",
   "metadata": {},
   "source": [
    "The `func` function takes three arguments `a`, `b`, and `c`. Inside the function:\n",
    "\n",
    "1. `a` is assigned the value `2`, but this doesn't affect the variable `l` outside the function because integers are immutable.\n",
    "\n",
    "2. `b[0]` is changed to `'x'`. Since `m` is a list, and lists are mutable, this change affects the list `m` outside the function. After the function call, `m` will be `[ 'x' ]`.\n",
    "\n",
    "3. `c['a']` is changed to `'y'`. Since `n` is a dictionary, and dictionaries are mutable, this change affects the dictionary `n` outside the function. After the function call, `n` will be `{'a': 'y'}`.\n",
    "\n",
    "So, the values of `l`, `m`, and `n` after the function call are as follows:\n",
    "\n",
    "- `l` is `1`, unchanged.\n",
    "- `m` is `['x']`, changed due to the modification inside the function.\n",
    "- `n` is `{'a': 'y'}`, changed due to the modification inside the function."
   ]
  },
  {
   "cell_type": "code",
   "execution_count": null,
   "id": "aea6b63e",
   "metadata": {},
   "outputs": [],
   "source": []
  },
  {
   "cell_type": "code",
   "execution_count": null,
   "id": "640bdc37",
   "metadata": {},
   "outputs": [],
   "source": []
  }
 ],
 "metadata": {
  "kernelspec": {
   "display_name": "Python 3 (ipykernel)",
   "language": "python",
   "name": "python3"
  },
  "language_info": {
   "codemirror_mode": {
    "name": "ipython",
    "version": 3
   },
   "file_extension": ".py",
   "mimetype": "text/x-python",
   "name": "python",
   "nbconvert_exporter": "python",
   "pygments_lexer": "ipython3",
   "version": "3.9.7"
  }
 },
 "nbformat": 4,
 "nbformat_minor": 5
}
